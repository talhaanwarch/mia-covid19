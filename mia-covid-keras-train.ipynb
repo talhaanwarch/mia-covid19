{
 "cells": [
  {
   "cell_type": "code",
   "execution_count": 1,
   "id": "vocational-launch",
   "metadata": {
    "_cell_guid": "b1076dfc-b9ad-4769-8c92-a6c4dae69d19",
    "_uuid": "8f2839f25d086af736a60e9eeb907d3b93b6e0e5",
    "execution": {
     "iopub.execute_input": "2021-05-25T09:11:59.506409Z",
     "iopub.status.busy": "2021-05-25T09:11:59.504349Z",
     "iopub.status.idle": "2021-05-25T09:11:59.507360Z",
     "shell.execute_reply": "2021-05-25T09:11:59.507912Z",
     "shell.execute_reply.started": "2021-05-25T07:40:04.377748Z"
    },
    "papermill": {
     "duration": 0.029305,
     "end_time": "2021-05-25T09:11:59.508202",
     "exception": false,
     "start_time": "2021-05-25T09:11:59.478897",
     "status": "completed"
    },
    "tags": []
   },
   "outputs": [],
   "source": [
    "import pandas as pd\n",
    "import numpy as np\n",
    "import matplotlib.pyplot as plt"
   ]
  },
  {
   "cell_type": "code",
   "execution_count": 2,
   "id": "unusual-pierce",
   "metadata": {
    "execution": {
     "iopub.execute_input": "2021-05-25T09:11:59.543098Z",
     "iopub.status.busy": "2021-05-25T09:11:59.542385Z",
     "iopub.status.idle": "2021-05-25T09:12:00.272772Z",
     "shell.execute_reply": "2021-05-25T09:12:00.272151Z",
     "shell.execute_reply.started": "2021-05-25T07:40:04.718906Z"
    },
    "papermill": {
     "duration": 0.753049,
     "end_time": "2021-05-25T09:12:00.272931",
     "exception": false,
     "start_time": "2021-05-25T09:11:59.519882",
     "status": "completed"
    },
    "tags": []
   },
   "outputs": [],
   "source": [
    "train_df=pd.read_csv('../input/covidctscan3d/train_df.csv')\n",
    "train_df.label=train_df.label.map({0:'non-covid',1:'covid'})\n",
    "val_df=pd.read_csv('../input/covidctscan3d/val_df.csv')\n",
    "val_df.label=val_df.label.map({0:'non-covid',1:'covid'})\n",
    "test_df=pd.read_csv('../input/covidctscan3d/test_df.csv')\n",
    "test_df.label=test_df.label.map({0:'non-covid',1:'covid'})"
   ]
  },
  {
   "cell_type": "code",
   "execution_count": 3,
   "id": "nervous-discharge",
   "metadata": {
    "execution": {
     "iopub.execute_input": "2021-05-25T09:12:00.306183Z",
     "iopub.status.busy": "2021-05-25T09:12:00.305113Z",
     "iopub.status.idle": "2021-05-25T09:12:00.315224Z",
     "shell.execute_reply": "2021-05-25T09:12:00.315763Z",
     "shell.execute_reply.started": "2021-05-25T07:40:05.586668Z"
    },
    "papermill": {
     "duration": 0.03102,
     "end_time": "2021-05-25T09:12:00.315926",
     "exception": false,
     "start_time": "2021-05-25T09:12:00.284906",
     "status": "completed"
    },
    "tags": []
   },
   "outputs": [
    {
     "data": {
      "text/html": [
       "<div>\n",
       "<style scoped>\n",
       "    .dataframe tbody tr th:only-of-type {\n",
       "        vertical-align: middle;\n",
       "    }\n",
       "\n",
       "    .dataframe tbody tr th {\n",
       "        vertical-align: top;\n",
       "    }\n",
       "\n",
       "    .dataframe thead th {\n",
       "        text-align: right;\n",
       "    }\n",
       "</style>\n",
       "<table border=\"1\" class=\"dataframe\">\n",
       "  <thead>\n",
       "    <tr style=\"text-align: right;\">\n",
       "      <th></th>\n",
       "      <th>image</th>\n",
       "      <th>label</th>\n",
       "    </tr>\n",
       "  </thead>\n",
       "  <tbody>\n",
       "    <tr>\n",
       "      <th>0</th>\n",
       "      <td>../input/covidctscan3d/train/non-covid/ct_scan...</td>\n",
       "      <td>non-covid</td>\n",
       "    </tr>\n",
       "    <tr>\n",
       "      <th>1</th>\n",
       "      <td>../input/covidctscan3d/train/covid/ct_scan_206...</td>\n",
       "      <td>covid</td>\n",
       "    </tr>\n",
       "    <tr>\n",
       "      <th>2</th>\n",
       "      <td>../input/covidctscan3d/train/covid/ct_scan_95/...</td>\n",
       "      <td>covid</td>\n",
       "    </tr>\n",
       "    <tr>\n",
       "      <th>3</th>\n",
       "      <td>../input/covidctscan3d/train/covid/ct_scan_579...</td>\n",
       "      <td>covid</td>\n",
       "    </tr>\n",
       "    <tr>\n",
       "      <th>4</th>\n",
       "      <td>../input/covidctscan3d/train/covid/ct_scan_185...</td>\n",
       "      <td>covid</td>\n",
       "    </tr>\n",
       "  </tbody>\n",
       "</table>\n",
       "</div>"
      ],
      "text/plain": [
       "                                               image      label\n",
       "0  ../input/covidctscan3d/train/non-covid/ct_scan...  non-covid\n",
       "1  ../input/covidctscan3d/train/covid/ct_scan_206...      covid\n",
       "2  ../input/covidctscan3d/train/covid/ct_scan_95/...      covid\n",
       "3  ../input/covidctscan3d/train/covid/ct_scan_579...      covid\n",
       "4  ../input/covidctscan3d/train/covid/ct_scan_185...      covid"
      ]
     },
     "execution_count": 3,
     "metadata": {},
     "output_type": "execute_result"
    }
   ],
   "source": [
    "train_df.head()"
   ]
  },
  {
   "cell_type": "code",
   "execution_count": 4,
   "id": "molecular-stations",
   "metadata": {
    "execution": {
     "iopub.execute_input": "2021-05-25T09:12:00.345689Z",
     "iopub.status.busy": "2021-05-25T09:12:00.344697Z",
     "iopub.status.idle": "2021-05-25T09:12:06.207009Z",
     "shell.execute_reply": "2021-05-25T09:12:06.206007Z",
     "shell.execute_reply.started": "2021-05-25T07:41:20.603674Z"
    },
    "papermill": {
     "duration": 5.879097,
     "end_time": "2021-05-25T09:12:06.207179",
     "exception": false,
     "start_time": "2021-05-25T09:12:00.328082",
     "status": "completed"
    },
    "tags": []
   },
   "outputs": [],
   "source": [
    "from tensorflow.keras.preprocessing.image import ImageDataGenerator\n",
    "data_gen= ImageDataGenerator(\n",
    "    horizontal_flip=True,\n",
    "    vertical_flip=True,\n",
    "    rotation_range=10,\n",
    "    width_shift_range=0.1,\n",
    "    height_shift_range=0.1,\n",
    "    zoom_range=.1,\n",
    "    rescale=1/255,\n",
    "    fill_mode='nearest',\n",
    "    shear_range=0.1,\n",
    "   )"
   ]
  },
  {
   "cell_type": "code",
   "execution_count": 5,
   "id": "demographic-butterfly",
   "metadata": {
    "execution": {
     "iopub.execute_input": "2021-05-25T09:12:06.236059Z",
     "iopub.status.busy": "2021-05-25T09:12:06.234938Z",
     "iopub.status.idle": "2021-05-25T09:12:06.238658Z",
     "shell.execute_reply": "2021-05-25T09:12:06.237935Z",
     "shell.execute_reply.started": "2021-05-25T07:41:26.828926Z"
    },
    "papermill": {
     "duration": 0.019606,
     "end_time": "2021-05-25T09:12:06.238800",
     "exception": false,
     "start_time": "2021-05-25T09:12:06.219194",
     "status": "completed"
    },
    "tags": []
   },
   "outputs": [],
   "source": [
    "img_shape=224\n",
    "batch_size=100"
   ]
  },
  {
   "cell_type": "code",
   "execution_count": 6,
   "id": "lucky-candle",
   "metadata": {
    "execution": {
     "iopub.execute_input": "2021-05-25T09:12:06.279311Z",
     "iopub.status.busy": "2021-05-25T09:12:06.278164Z",
     "iopub.status.idle": "2021-05-25T09:26:38.130169Z",
     "shell.execute_reply": "2021-05-25T09:26:38.130694Z",
     "shell.execute_reply.started": "2021-05-25T07:41:26.838676Z"
    },
    "papermill": {
     "duration": 871.879499,
     "end_time": "2021-05-25T09:26:38.130867",
     "exception": false,
     "start_time": "2021-05-25T09:12:06.251368",
     "status": "completed"
    },
    "tags": []
   },
   "outputs": [
    {
     "name": "stdout",
     "output_type": "stream",
     "text": [
      "Found 270244 validated image filenames belonging to 2 classes.\n",
      "Found 65428 validated image filenames belonging to 2 classes.\n",
      "Found 75532 validated image filenames belonging to 2 classes.\n"
     ]
    }
   ],
   "source": [
    "train_generator=data_gen.flow_from_dataframe(train_df,directory='',\n",
    "                                                      target_size=(img_shape,img_shape),\n",
    "                                                      x_col=\"image\",\n",
    "                                                      y_col='label',\n",
    "                                                      class_mode='binary',\n",
    "                                                      shuffle=True,\n",
    "                                                      batch_size=batch_size)\n",
    "\n",
    "val_generator=data_gen.flow_from_dataframe(val_df,directory='',\n",
    "                                                    target_size=(img_shape,img_shape),\n",
    "                                                    x_col=\"image\",\n",
    "                                                    y_col='label',\n",
    "                                                    class_mode='binary',\n",
    "                                                    shuffle=False,\n",
    "                                                    batch_size=batch_size)\n",
    "test_generator=data_gen.flow_from_dataframe(test_df,directory='',\n",
    "                                                    target_size=(img_shape,img_shape),\n",
    "                                                    x_col=\"image\",\n",
    "                                                    y_col='label',\n",
    "                                                    class_mode='binary',\n",
    "                                                    shuffle=False,\n",
    "                                                    batch_size=batch_size)"
   ]
  },
  {
   "cell_type": "code",
   "execution_count": 7,
   "id": "active-basket",
   "metadata": {
    "execution": {
     "iopub.execute_input": "2021-05-25T09:26:38.167801Z",
     "iopub.status.busy": "2021-05-25T09:26:38.167154Z",
     "iopub.status.idle": "2021-05-25T09:26:49.637848Z",
     "shell.execute_reply": "2021-05-25T09:26:49.639134Z",
     "shell.execute_reply.started": "2021-05-25T08:17:16.016978Z"
    },
    "papermill": {
     "duration": 11.495576,
     "end_time": "2021-05-25T09:26:49.639396",
     "exception": false,
     "start_time": "2021-05-25T09:26:38.143820",
     "status": "completed"
    },
    "tags": []
   },
   "outputs": [
    {
     "name": "stdout",
     "output_type": "stream",
     "text": [
      "Downloading data from https://storage.googleapis.com/tensorflow/keras-applications/densenet/densenet121_weights_tf_dim_ordering_tf_kernels_notop.h5\n",
      "29089792/29084464 [==============================] - 4s 0us/step\n"
     ]
    }
   ],
   "source": [
    "from tensorflow.keras.applications import DenseNet121\n",
    "from tensorflow.keras import layers\n",
    "from tensorflow.keras.models import Model\n",
    "model =DenseNet121(weights ='imagenet', include_top=False, input_shape = (img_shape,img_shape,3))\n",
    "x = model.output\n",
    "x = layers.GlobalAveragePooling2D()(x)\n",
    "x = layers.Dropout(0.3)(x)\n",
    "x = layers.Dense(128, activation=\"relu\")(x)\n",
    "x = layers.Dropout(0.3)(x)\n",
    "x = layers.Dense(64, activation=\"relu\")(x)\n",
    "predictions = layers.Dense(1, activation=\"sigmoid\")(x)\n",
    "model = Model(inputs=model.input, outputs=predictions)"
   ]
  },
  {
   "cell_type": "code",
   "execution_count": 8,
   "id": "saving-orientation",
   "metadata": {
    "execution": {
     "iopub.execute_input": "2021-05-25T09:26:49.705379Z",
     "iopub.status.busy": "2021-05-25T09:26:49.704415Z",
     "iopub.status.idle": "2021-05-25T09:26:49.735357Z",
     "shell.execute_reply": "2021-05-25T09:26:49.736696Z",
     "shell.execute_reply.started": "2021-05-25T08:18:17.677381Z"
    },
    "papermill": {
     "duration": 0.068879,
     "end_time": "2021-05-25T09:26:49.736954",
     "exception": false,
     "start_time": "2021-05-25T09:26:49.668075",
     "status": "completed"
    },
    "tags": []
   },
   "outputs": [],
   "source": [
    "model.compile(loss='binary_crossentropy',optimizer='adam',metrics='accuracy')"
   ]
  },
  {
   "cell_type": "code",
   "execution_count": 9,
   "id": "removed-orleans",
   "metadata": {
    "execution": {
     "iopub.execute_input": "2021-05-25T09:26:49.803968Z",
     "iopub.status.busy": "2021-05-25T09:26:49.802876Z",
     "iopub.status.idle": "2021-05-25T14:32:03.150679Z",
     "shell.execute_reply": "2021-05-25T14:32:03.151626Z",
     "shell.execute_reply.started": "2021-05-25T08:18:19.821569Z"
    },
    "papermill": {
     "duration": 18313.386966,
     "end_time": "2021-05-25T14:32:03.151888",
     "exception": false,
     "start_time": "2021-05-25T09:26:49.764922",
     "status": "completed"
    },
    "tags": []
   },
   "outputs": [
    {
     "name": "stdout",
     "output_type": "stream",
     "text": [
      "Epoch 1/3\n",
      "2702/2702 [==============================] - 7189s 3s/step - loss: 0.4719 - accuracy: 0.7699 - val_loss: 0.5474 - val_accuracy: 0.7389\n",
      "Epoch 2/3\n",
      "2702/2702 [==============================] - 5515s 2s/step - loss: 0.2791 - accuracy: 0.8786 - val_loss: 0.8720 - val_accuracy: 0.7603\n",
      "Epoch 3/3\n",
      "2702/2702 [==============================] - 5603s 2s/step - loss: 0.1766 - accuracy: 0.9288 - val_loss: 0.8219 - val_accuracy: 0.7529\n"
     ]
    }
   ],
   "source": [
    "results = model.fit(train_generator,epochs=3,\n",
    "                              steps_per_epoch=train_generator.n/batch_size,\n",
    "                              validation_data=val_generator,\n",
    "                             validation_steps=val_generator.n/batch_size,\n",
    "                              #callbacks=[ReduceLROnPlateau(monitor='val_loss', factor=0.3,patience=2, min_lr=0.000001)]\n",
    "                   )"
   ]
  },
  {
   "cell_type": "code",
   "execution_count": 10,
   "id": "instrumental-terrain",
   "metadata": {
    "execution": {
     "iopub.execute_input": "2021-05-25T14:32:09.177074Z",
     "iopub.status.busy": "2021-05-25T14:32:09.175965Z",
     "iopub.status.idle": "2021-05-25T14:32:10.714537Z",
     "shell.execute_reply": "2021-05-25T14:32:10.713635Z",
     "shell.execute_reply.started": "2021-05-25T09:10:09.127842Z"
    },
    "papermill": {
     "duration": 4.694322,
     "end_time": "2021-05-25T14:32:10.714706",
     "exception": false,
     "start_time": "2021-05-25T14:32:06.020384",
     "status": "completed"
    },
    "tags": []
   },
   "outputs": [],
   "source": [
    "model.save(\"densenet.h5\")"
   ]
  },
  {
   "cell_type": "code",
   "execution_count": 11,
   "id": "japanese-range",
   "metadata": {
    "execution": {
     "iopub.execute_input": "2021-05-25T14:32:16.284411Z",
     "iopub.status.busy": "2021-05-25T14:32:16.283643Z",
     "iopub.status.idle": "2021-05-25T14:49:38.227814Z",
     "shell.execute_reply": "2021-05-25T14:49:38.228662Z",
     "shell.execute_reply.started": "2021-05-25T09:08:08.682800Z"
    },
    "papermill": {
     "duration": 1044.746167,
     "end_time": "2021-05-25T14:49:38.228854",
     "exception": false,
     "start_time": "2021-05-25T14:32:13.482687",
     "status": "completed"
    },
    "tags": []
   },
   "outputs": [
    {
     "name": "stdout",
     "output_type": "stream",
     "text": [
      "655/655 [==============================] - 1040s 2s/step - loss: 0.8239 - accuracy: 0.7533\n"
     ]
    },
    {
     "data": {
      "text/plain": [
       "[0.8239209651947021, 0.7533318996429443]"
      ]
     },
     "execution_count": 11,
     "metadata": {},
     "output_type": "execute_result"
    }
   ],
   "source": [
    "model.evaluate(val_generator)"
   ]
  },
  {
   "cell_type": "code",
   "execution_count": null,
   "id": "wooden-stephen",
   "metadata": {
    "papermill": {
     "duration": 3.4356,
     "end_time": "2021-05-25T14:49:44.689997",
     "exception": false,
     "start_time": "2021-05-25T14:49:41.254397",
     "status": "completed"
    },
    "tags": []
   },
   "outputs": [],
   "source": []
  }
 ],
 "metadata": {
  "kernelspec": {
   "display_name": "Python 3",
   "language": "python",
   "name": "python3"
  },
  "language_info": {
   "codemirror_mode": {
    "name": "ipython",
    "version": 3
   },
   "file_extension": ".py",
   "mimetype": "text/x-python",
   "name": "python",
   "nbconvert_exporter": "python",
   "pygments_lexer": "ipython3",
   "version": "3.7.10"
  },
  "papermill": {
   "default_parameters": {},
   "duration": 20279.659269,
   "end_time": "2021-05-25T14:49:51.081550",
   "environment_variables": {},
   "exception": null,
   "input_path": "__notebook__.ipynb",
   "output_path": "__notebook__.ipynb",
   "parameters": {},
   "start_time": "2021-05-25T09:11:51.422281",
   "version": "2.3.3"
  }
 },
 "nbformat": 4,
 "nbformat_minor": 5
}
