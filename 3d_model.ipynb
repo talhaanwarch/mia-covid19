{
  "nbformat": 4,
  "nbformat_minor": 0,
  "metadata": {
    "colab": {
      "name": "3d model.ipynb",
      "provenance": [],
      "collapsed_sections": []
    },
    "kernelspec": {
      "name": "python3",
      "display_name": "Python 3"
    },
    "language_info": {
      "name": "python"
    },
    "accelerator": "GPU"
  },
  "cells": [
    {
      "cell_type": "code",
      "metadata": {
        "colab": {
          "base_uri": "https://localhost:8080/"
        },
        "id": "xucHPt3yQ_IF",
        "outputId": "881eeb3c-718d-488e-a8cd-ae522d2f58d5"
      },
      "source": [
        "!nvidia-smi -L"
      ],
      "execution_count": null,
      "outputs": [
        {
          "output_type": "stream",
          "text": [
            "GPU 0: Tesla T4 (UUID: GPU-2c3e81ee-7430-b08f-2af6-c27e99dc475d)\n"
          ],
          "name": "stdout"
        }
      ]
    },
    {
      "cell_type": "code",
      "metadata": {
        "colab": {
          "base_uri": "https://localhost:8080/"
        },
        "id": "901k3JpqBOWN",
        "outputId": "206018d5-fd72-4e77-8789-b9707203a35c"
      },
      "source": [
        "#connect drive with colab notebook/\n",
        "from google.colab import drive\n",
        "drive.mount('/content/drive',force_remount=True)"
      ],
      "execution_count": null,
      "outputs": [
        {
          "output_type": "stream",
          "text": [
            "Mounted at /content/drive\n"
          ],
          "name": "stdout"
        }
      ]
    },
    {
      "cell_type": "code",
      "metadata": {
        "id": "cYPzbVT_BbuW"
      },
      "source": [
        "!cp /content/drive/MyDrive/covid/train.zip /content/\n",
        "!cp /content/drive/MyDrive/covid/val.zip /content/"
      ],
      "execution_count": null,
      "outputs": []
    },
    {
      "cell_type": "code",
      "metadata": {
        "id": "tHFMoWkBBdDP"
      },
      "source": [
        "%%capture \n",
        "!unzip /content/train.zip\n",
        "!rm /content/train.zip\n",
        "!mv /content/resized /content/train\n"
      ],
      "execution_count": null,
      "outputs": []
    },
    {
      "cell_type": "code",
      "metadata": {
        "id": "25656KvYBdFv"
      },
      "source": [
        "%%capture \n",
        "!unzip /content/val.zip -d val\n",
        "!rm /content/val.zip\n"
      ],
      "execution_count": null,
      "outputs": []
    },
    {
      "cell_type": "code",
      "metadata": {
        "id": "Ictj1mRTBdIe"
      },
      "source": [
        "import pandas as pd\n",
        "import numpy as np\n",
        "from glob import glob\n",
        "import cv2\n"
      ],
      "execution_count": null,
      "outputs": []
    },
    {
      "cell_type": "code",
      "metadata": {
        "id": "07acehHTB4e2"
      },
      "source": [
        "import torch \n",
        "from torchvision import transforms \n",
        "import torchvision.models as models\n",
        "import torch.nn as nn"
      ],
      "execution_count": null,
      "outputs": []
    },
    {
      "cell_type": "code",
      "metadata": {
        "id": "5uaUffumB5FO"
      },
      "source": [
        "# -*- coding: utf-8 -*-\n",
        "\"\"\"\n",
        "Created on Fri May 21 09:21:10 2021\n",
        "\n",
        "@author: TAC\n",
        "\"\"\"\n",
        "\n",
        "import torch \n",
        "from torchvision import transforms \n",
        "import torchvision.models as models\n",
        "import torch.nn as nn\n",
        "from glob import glob\n",
        "import re\n",
        "from sklearn.utils import resample\n",
        "import numpy as np\n",
        "\n",
        "\n",
        "from PIL import Image\n",
        "class dfloader(torch.utils.data.Dataset):\n",
        "    \n",
        "    def __init__(self,path,label,n_samples=100,transform=None):\n",
        "        self.path = path    \n",
        "        self.label=label\n",
        "        self.transform=transform\n",
        "        self.n_samples=n_samples\n",
        "        \n",
        "    def __getitem__(self,index):\n",
        "        if type(index) == torch.Tensor:\n",
        "          index = index.item()\n",
        "        #choose a path and correponding label\n",
        "        path_ind=self.path[index]\n",
        "        label_ind=self.label[index]\n",
        "        #now open that path folder\n",
        "        img_path=glob(path_ind+'*.jpg')\n",
        "        #find all image ids#\n",
        "        #replace '\\\\' with '\\' depend upon os\n",
        "        img_idx=[int(re.findall(r'\\d+', i.split('/')[-1])[0]) for i in img_path]   \n",
        "        #sort all path accordinh to sequence \n",
        "        img_idx, img_path = zip(*sorted(zip(img_idx, img_path)))\n",
        "        #now resample the img_idx\n",
        "        if len(img_idx)>self.n_samples:\n",
        "            img_idx=sorted(resample(img_idx,replace=False,n_samples=self.n_samples))\n",
        "        else:\n",
        "            img_idx=sorted(resample(img_idx,replace=True,n_samples=self.n_samples))\n",
        "        #now find correponding image_path\n",
        "        img_path=[img_path[i] for i in img_idx]\n",
        "        \n",
        "        #now loop all image_path\n",
        "        #img_list = [Image.open(p).convert('L') for p in img_path]\n",
        "        img_list=[]\n",
        "        for p in img_path:\n",
        "            img=Image.open(p).convert('L')\n",
        "            if self.transform:\n",
        "                img_list.append(self.transform(img))\n",
        "        \n",
        "        #label_list = [label_ind]*len(img_list)\n",
        "      \n",
        "        #convert to array\n",
        "        image_array=np.stack((img_list))\n",
        "        image_array=np.moveaxis(image_array,0,3)\n",
        "        #label_array=np.array(label_list)\n",
        "        \n",
        "        return image_array ,label_ind\n",
        "    \n",
        "    def __len__(self):\n",
        "        return len(self.path)\n",
        "\n",
        "# def my_collate(batch):\n",
        "#     #move axis\n",
        "#     data=np.concatenate([i[0] for i in batch])\n",
        "#     label=np.concatenate([[i[1]]*len(i[0]) for i in batch])\n",
        "#     return torch.tensor(data,dtype=torch.float),torch.tensor(label)\n",
        "    \n",
        "\n"
      ],
      "execution_count": null,
      "outputs": []
    },
    {
      "cell_type": "code",
      "metadata": {
        "id": "7U0hMs1pK4FA"
      },
      "source": [
        "from PIL import Image\n",
        "aug=transforms.Compose([\n",
        "    #transforms.Resize((224,224)), a;ready resized\n",
        "    #transforms.Grayscale(),#in code gray scales\n",
        "    # transforms.RandomHorizontalFlip(p=0.5),\n",
        "    # transforms.RandomVerticalFlip(p=0.5),\n",
        "    # transforms.RandomRotation(degrees=5),\n",
        "    \n",
        "    transforms.ToTensor(),\n",
        "    transforms.Normalize([0.4, ], [0.3,]),\n",
        "                        ])\n"
      ],
      "execution_count": null,
      "outputs": []
    },
    {
      "cell_type": "code",
      "metadata": {
        "id": "eTM_MsygK0zs"
      },
      "source": [
        "#first list all folders and thier labels\n",
        "def prepare_data(path):\n",
        "  x=glob(path+'/*/')\n",
        "  _pos_path=[folder for folder in glob(x[0]+'/*/')]\n",
        "  _neg_path=[folder for folder in glob(x[1]+'/*/')]\n",
        "\n",
        "  _pos_label=[0]*len(_pos_path)\n",
        "  _neg_label=[1]*len(_neg_path)\n",
        "\n",
        "  path=_pos_path+_neg_path\n",
        "  label=_pos_label+_neg_label\n",
        "  return path,label"
      ],
      "execution_count": null,
      "outputs": []
    },
    {
      "cell_type": "code",
      "metadata": {
        "id": "XUOV4JiuLhML"
      },
      "source": [
        "train_path,train_label=prepare_data('/content/train')\n",
        "val_path,val_label=prepare_data('/content/val')"
      ],
      "execution_count": null,
      "outputs": []
    },
    {
      "cell_type": "code",
      "metadata": {
        "colab": {
          "base_uri": "https://localhost:8080/"
        },
        "id": "cBnvWzzwL5-V",
        "outputId": "1ea8c203-305e-420a-f04c-eaae52eb2567"
      },
      "source": [
        "print(len(train_path),len(train_label))\n",
        "print(len(val_path),len(val_label))"
      ],
      "execution_count": null,
      "outputs": [
        {
          "output_type": "stream",
          "text": [
            "1552 1552\n",
            "374 374\n"
          ],
          "name": "stdout"
        }
      ]
    },
    {
      "cell_type": "code",
      "metadata": {
        "colab": {
          "base_uri": "https://localhost:8080/"
        },
        "id": "kkP8b5FqP3Tg",
        "outputId": "97ffbc64-5573-4ffa-d0ec-7c751a496ca5"
      },
      "source": [
        "import torch\n",
        "import torch.nn as nn\n",
        "class Fire1(nn.Module):\n",
        "   \n",
        "    def __init__(self, in_channels, squeeze_channels,expand_channels):\n",
        "        super(Fire1, self).__init__()\n",
        "\n",
        "        # squeeze \n",
        "        self.squeeze = nn.Conv3d(in_channels, squeeze_channels, kernel_size=1)\n",
        "        self.relu = nn.LeakyReLU()\n",
        "\n",
        "        # expand\n",
        "        self.expand_1x1 =nn.Conv3d(squeeze_channels, expand_channels, kernel_size=1)\n",
        "        self.expand_3x3 =nn.Conv3d(squeeze_channels, expand_channels, kernel_size=3,padding=1)\n",
        "        \n",
        "\n",
        "    def forward(self, x):\n",
        "        x = self.squeeze(x)\n",
        "        x= self.relu(x)\n",
        "        x = torch.cat([self.expand_1x1(x),self.expand_3x3(x)], dim=1)\n",
        "        x = self.relu(x)\n",
        "        return x\n",
        "    \n",
        "    \n",
        "class MyModelV3(torch.nn.Module):\n",
        "    \n",
        "    def __init__(self):\n",
        "        super(MyModelV3, self).__init__()\n",
        "        self.net = torch.nn.Sequential(\n",
        "                 nn.Conv3d(in_channels=1,out_channels=32,kernel_size=3,stride=2),\n",
        "                 nn.MaxPool3d(kernel_size=3,stride=2),\n",
        "                 nn.LeakyReLU(),\n",
        "                 nn.BatchNorm3d(32),\n",
        "                 Fire1(in_channels=32, squeeze_channels=16,expand_channels=32),\n",
        "                 Fire1(in_channels=64, squeeze_channels=16,expand_channels=64),\n",
        "                 nn.MaxPool3d(kernel_size=3,stride=2),\n",
        "                 #nn.BatchNorm2d(128),\n",
        "                 Fire1(in_channels=128, squeeze_channels=32,expand_channels=96),\n",
        "                 Fire1(in_channels=192, squeeze_channels=32,expand_channels=128),\n",
        "                 nn.MaxPool3d(kernel_size=3,stride=2),\n",
        "                 #nn.BatchNorm2d(256),\n",
        "                 Fire1(256, 48, 160),\n",
        "                 Fire1(320, 48, 160),\n",
        "                 #nn.BatchNorm2d(320),\n",
        "                 nn.Conv3d(in_channels=320,out_channels=128*2,kernel_size=1,stride=2),\n",
        "                 nn.LeakyReLU(),\n",
        "                 nn.Conv3d(in_channels=128*2,out_channels=32,kernel_size=1,stride=1),\n",
        "                 nn.LeakyReLU(),\n",
        "                 nn.Conv3d(in_channels=32,out_channels=16,kernel_size=1,stride=1),\n",
        "                 nn.LeakyReLU(),\n",
        "                 #nn.Conv2d(in_channels=32,out_channels=16,kernel_size=1,stride=1),\n",
        "                 nn.Flatten(),\n",
        "                 #PrintShape(),\n",
        "                 nn.Linear(2352, 1024),\n",
        "                 nn.LeakyReLU(),\n",
        "                 nn.Linear(1024, 1),\n",
        "                 # nn.Linear(512*2, 512)\n",
        "                \n",
        "               \n",
        "                )        \n",
        "    def forward(self, x):\n",
        "        return self.net(x)    \n",
        "\n",
        "x=torch.randn(5,1,224,244,100)\n",
        "net=MyModelV3()\n",
        "out=net(x)\n",
        "out.shape"
      ],
      "execution_count": null,
      "outputs": [
        {
          "output_type": "execute_result",
          "data": {
            "text/plain": [
              "torch.Size([5, 1])"
            ]
          },
          "metadata": {
            "tags": []
          },
          "execution_count": 135
        }
      ]
    },
    {
      "cell_type": "code",
      "metadata": {
        "colab": {
          "base_uri": "https://localhost:8080/"
        },
        "id": "Yo7sjvr9K8Qb",
        "outputId": "4ba2da1b-5420-424c-c775-27194fc8aae7"
      },
      "source": [
        "from torch.utils.data.dataloader import DataLoader\n",
        "train=dfloader(train_path,train_label,transform=aug)\n",
        "train_loader = DataLoader(train,shuffle=True,num_workers=0,batch_size=3)\n",
        "\n",
        "for i,j in train_loader:\n",
        "    print(i.shape,j.shape)\n",
        "    break\n",
        "    \n"
      ],
      "execution_count": null,
      "outputs": [
        {
          "output_type": "stream",
          "text": [
            "torch.Size([3, 1, 224, 224, 100]) torch.Size([3])\n"
          ],
          "name": "stdout"
        }
      ]
    },
    {
      "cell_type": "code",
      "metadata": {
        "id": "5T1vbvGmMMkY"
      },
      "source": [
        "from sklearn.metrics import classification_report,f1_score\n",
        "from time import time\n",
        "\n",
        "def get_accuracy(y_true, y_pred):\n",
        "    assert y_true.ndim == 1 and y_true.size() == y_pred.size()\n",
        "    y_pred = y_pred > 0.5\n",
        "    return (y_true == y_pred).sum().item() / y_true.size(0)\n",
        "\n",
        "def fit_train(loader):\n",
        "    loss_sum=0\n",
        "    acc_sum=0\n",
        "    scaler = torch.cuda.amp.GradScaler() \n",
        "    for batch in loader:\n",
        "        img,label=batch\n",
        "        with torch.cuda.amp.autocast(): \n",
        "          img,label = img.to(device),label.to(device)\n",
        "          out=model(img)\n",
        "          loss=criterion(out.view(-1),label.float())\n",
        "        opt.zero_grad()\n",
        "        scaler.scale(loss).backward()\n",
        "        #loss.backward()\n",
        "        scaler.step(opt)\n",
        "        #opt.step()\n",
        "        scaler.update()\n",
        "        loss_sum+=loss.item()\n",
        "        acc_sum += get_accuracy(label,out.view(-1))\n",
        "    return loss_sum,acc_sum\n",
        "def fit_val(loader):\n",
        "    loss_sum=0\n",
        "    acc_sum=0\n",
        "    for batch in loader:\n",
        "        img,label=batch\n",
        "        img,label = img.to(device),label.to(device)\n",
        "        out=model(img)\n",
        "        loss=criterion(out.view(-1),label.float())\n",
        "        loss_sum+=loss.item()\n",
        "        acc_sum += get_accuracy(label,out.view(-1))\n",
        "    return loss_sum,acc_sum\n",
        "\n",
        "def fit_test(loader):\n",
        "  test_pred=[]\n",
        "  for img,_ in loader:\n",
        "    test_pred.append(model(img.to(device)))\n",
        "  test_pred=torch.cat(test_pred,dim=0)\n",
        "  y_pred=test_pred.cpu().numpy()\n",
        "  return y_pred\n",
        "\n",
        "\n",
        "def fit(model,train_loader,val_loader,test_loader=None,epoch=10,scheduler_step=None,verbose=None):\n",
        "  \n",
        "  train_loss_plt=[]\n",
        "  val_loss_plt=[]\n",
        "  train_acc_plt=[]\n",
        "  val_acc_plt=[]\n",
        "  for ep in range(epoch):\n",
        "    start=time()\n",
        "    #start training loop\n",
        "    train_loss,train_acc=fit_train(train_loader)\n",
        "    #start validation loop\n",
        "    model.eval()\n",
        "    with torch.no_grad():\n",
        "        val_loss,val_acc=fit_val(val_loader)\n",
        "    end=np.round((time()-start)/60,2) #time in minute\n",
        "    model.train()\n",
        "\n",
        "    #calculate print and append the results for plotting purpose\n",
        "    val_avg_loss=np.round(val_loss/len(val_loader),2)#val loss of all batches of one epoch\n",
        "    train_avg_loss=np.round(train_loss/len(train_loader),2)# train loss of all batches of one epoch\n",
        "    train_avg_acc=np.round(train_acc/len(train_loader),2)#train acc of all batches of one epoch\n",
        "    val_avg_acc=np.round(val_acc/len(val_loader),2)#val acc of all batches of one epoch\n",
        "    if scheduler_step:\n",
        "      scheduler.step(val_avg_loss)\n",
        "    if verbose:\n",
        "      print('Epoch {}, time {} min , train acc  {}, train loss {} , val acc is {}, loss is {}, learning rate is {} '.format\n",
        "            (ep,end,train_avg_acc,train_avg_loss,val_avg_acc,val_avg_loss,opt.param_groups[0]['lr']))\n",
        "    train_loss_plt.append(train_avg_loss)  #append loss of training data  \n",
        "    val_loss_plt.append(val_avg_loss)     #append loss of validation data\n",
        "    train_acc_plt.append(train_avg_acc)  #append acc of training data  \n",
        "    val_acc_plt.append(val_avg_acc)     #append acc of validation data\n",
        " \n",
        " #test phase\n",
        "  if test_loader:\n",
        "      model.eval()\n",
        "      with torch.no_grad():\n",
        "         y_pred=fit_test(test_loader)\n",
        "  \n",
        "  return [train_loss_plt,val_loss_plt,train_acc_plt,val_acc_plt]"
      ],
      "execution_count": null,
      "outputs": []
    },
    {
      "cell_type": "code",
      "metadata": {
        "id": "U4BhdinPQ383"
      },
      "source": [
        "from torch.utils.data.dataloader import DataLoader\n",
        "train=dfloader(train_path,train_label,transform=aug)\n",
        "val=dfloader(val_path,val_label,transform=aug)\n",
        "train_loader = DataLoader(train,shuffle=True,num_workers=0,batch_size=5)\n",
        "val_loader = DataLoader(val,shuffle=True,num_workers=0,batch_size=5)"
      ],
      "execution_count": null,
      "outputs": []
    },
    {
      "cell_type": "code",
      "metadata": {
        "id": "MRIwyiGnRDi6"
      },
      "source": [
        "device=torch.device('cuda')\n",
        "model=MyModelV3().to(device)\n",
        "criterion = nn.BCEWithLogitsLoss()\n",
        "opt=torch.optim.AdamW(params=model.parameters(),lr=0.001)"
      ],
      "execution_count": null,
      "outputs": []
    },
    {
      "cell_type": "code",
      "metadata": {
        "colab": {
          "base_uri": "https://localhost:8080/",
          "height": 472
        },
        "id": "5M4VFa5SQ7yL",
        "outputId": "8474679b-be44-4194-8958-4085ca3ab648"
      },
      "source": [
        "res=fit(model,train_loader,val_loader,epoch=10,scheduler_step=False,verbose=True)"
      ],
      "execution_count": null,
      "outputs": [
        {
          "output_type": "stream",
          "text": [
            "Epoch 0, time 6.2 min , train acc  0.44, train loss 0.69 , val acc is 0.44, loss is 0.69, learning rate is 0.001 \n",
            "Epoch 1, time 6.22 min , train acc  0.44, train loss 0.69 , val acc is 0.44, loss is 0.69, learning rate is 0.001 \n",
            "Epoch 2, time 6.25 min , train acc  0.44, train loss 0.69 , val acc is 0.44, loss is 0.69, learning rate is 0.001 \n",
            "Epoch 3, time 6.23 min , train acc  0.44, train loss 0.69 , val acc is 0.44, loss is 0.69, learning rate is 0.001 \n",
            "Epoch 4, time 6.18 min , train acc  0.44, train loss 0.69 , val acc is 0.44, loss is 0.69, learning rate is 0.001 \n",
            "Epoch 5, time 6.19 min , train acc  0.44, train loss 0.69 , val acc is 0.44, loss is 0.69, learning rate is 0.001 \n",
            "Epoch 6, time 6.16 min , train acc  0.44, train loss 0.69 , val acc is 0.44, loss is 0.69, learning rate is 0.001 \n",
            "Epoch 7, time 6.15 min , train acc  0.44, train loss 0.69 , val acc is 0.44, loss is 0.69, learning rate is 0.001 \n",
            "Epoch 8, time 6.14 min , train acc  0.44, train loss 0.69 , val acc is 0.44, loss is 0.69, learning rate is 0.001 \n"
          ],
          "name": "stdout"
        },
        {
          "output_type": "error",
          "ename": "KeyboardInterrupt",
          "evalue": "ignored",
          "traceback": [
            "\u001b[0;31m---------------------------------------------------------------------------\u001b[0m",
            "\u001b[0;31mKeyboardInterrupt\u001b[0m                         Traceback (most recent call last)",
            "\u001b[0;32m<ipython-input-141-32d1e6def7ab>\u001b[0m in \u001b[0;36m<module>\u001b[0;34m()\u001b[0m\n\u001b[0;32m----> 1\u001b[0;31m \u001b[0mres\u001b[0m\u001b[0;34m=\u001b[0m\u001b[0mfit\u001b[0m\u001b[0;34m(\u001b[0m\u001b[0mmodel\u001b[0m\u001b[0;34m,\u001b[0m\u001b[0mtrain_loader\u001b[0m\u001b[0;34m,\u001b[0m\u001b[0mval_loader\u001b[0m\u001b[0;34m,\u001b[0m\u001b[0mepoch\u001b[0m\u001b[0;34m=\u001b[0m\u001b[0;36m10\u001b[0m\u001b[0;34m,\u001b[0m\u001b[0mscheduler_step\u001b[0m\u001b[0;34m=\u001b[0m\u001b[0;32mFalse\u001b[0m\u001b[0;34m,\u001b[0m\u001b[0mverbose\u001b[0m\u001b[0;34m=\u001b[0m\u001b[0;32mTrue\u001b[0m\u001b[0;34m)\u001b[0m\u001b[0;34m\u001b[0m\u001b[0;34m\u001b[0m\u001b[0m\n\u001b[0m",
            "\u001b[0;32m<ipython-input-137-95b513978751>\u001b[0m in \u001b[0;36mfit\u001b[0;34m(model, train_loader, val_loader, test_loader, epoch, scheduler_step, verbose)\u001b[0m\n\u001b[1;32m     56\u001b[0m     \u001b[0mstart\u001b[0m\u001b[0;34m=\u001b[0m\u001b[0mtime\u001b[0m\u001b[0;34m(\u001b[0m\u001b[0;34m)\u001b[0m\u001b[0;34m\u001b[0m\u001b[0;34m\u001b[0m\u001b[0m\n\u001b[1;32m     57\u001b[0m     \u001b[0;31m#start training loop\u001b[0m\u001b[0;34m\u001b[0m\u001b[0;34m\u001b[0m\u001b[0;34m\u001b[0m\u001b[0m\n\u001b[0;32m---> 58\u001b[0;31m     \u001b[0mtrain_loss\u001b[0m\u001b[0;34m,\u001b[0m\u001b[0mtrain_acc\u001b[0m\u001b[0;34m=\u001b[0m\u001b[0mfit_train\u001b[0m\u001b[0;34m(\u001b[0m\u001b[0mtrain_loader\u001b[0m\u001b[0;34m)\u001b[0m\u001b[0;34m\u001b[0m\u001b[0;34m\u001b[0m\u001b[0m\n\u001b[0m\u001b[1;32m     59\u001b[0m     \u001b[0;31m#start validation loop\u001b[0m\u001b[0;34m\u001b[0m\u001b[0;34m\u001b[0m\u001b[0;34m\u001b[0m\u001b[0m\n\u001b[1;32m     60\u001b[0m     \u001b[0mmodel\u001b[0m\u001b[0;34m.\u001b[0m\u001b[0meval\u001b[0m\u001b[0;34m(\u001b[0m\u001b[0;34m)\u001b[0m\u001b[0;34m\u001b[0m\u001b[0;34m\u001b[0m\u001b[0m\n",
            "\u001b[0;32m<ipython-input-137-95b513978751>\u001b[0m in \u001b[0;36mfit_train\u001b[0;34m(loader)\u001b[0m\n\u001b[1;32m     20\u001b[0m         \u001b[0mscaler\u001b[0m\u001b[0;34m.\u001b[0m\u001b[0mscale\u001b[0m\u001b[0;34m(\u001b[0m\u001b[0mloss\u001b[0m\u001b[0;34m)\u001b[0m\u001b[0;34m.\u001b[0m\u001b[0mbackward\u001b[0m\u001b[0;34m(\u001b[0m\u001b[0;34m)\u001b[0m\u001b[0;34m\u001b[0m\u001b[0;34m\u001b[0m\u001b[0m\n\u001b[1;32m     21\u001b[0m         \u001b[0;31m#loss.backward()\u001b[0m\u001b[0;34m\u001b[0m\u001b[0;34m\u001b[0m\u001b[0;34m\u001b[0m\u001b[0m\n\u001b[0;32m---> 22\u001b[0;31m         \u001b[0mscaler\u001b[0m\u001b[0;34m.\u001b[0m\u001b[0mstep\u001b[0m\u001b[0;34m(\u001b[0m\u001b[0mopt\u001b[0m\u001b[0;34m)\u001b[0m\u001b[0;34m\u001b[0m\u001b[0;34m\u001b[0m\u001b[0m\n\u001b[0m\u001b[1;32m     23\u001b[0m         \u001b[0;31m#opt.step()\u001b[0m\u001b[0;34m\u001b[0m\u001b[0;34m\u001b[0m\u001b[0;34m\u001b[0m\u001b[0m\n\u001b[1;32m     24\u001b[0m         \u001b[0mscaler\u001b[0m\u001b[0;34m.\u001b[0m\u001b[0mupdate\u001b[0m\u001b[0;34m(\u001b[0m\u001b[0;34m)\u001b[0m\u001b[0;34m\u001b[0m\u001b[0;34m\u001b[0m\u001b[0m\n",
            "\u001b[0;32m/usr/local/lib/python3.7/dist-packages/torch/cuda/amp/grad_scaler.py\u001b[0m in \u001b[0;36mstep\u001b[0;34m(self, optimizer, *args, **kwargs)\u001b[0m\n\u001b[1;32m    337\u001b[0m         \u001b[0;32massert\u001b[0m \u001b[0mlen\u001b[0m\u001b[0;34m(\u001b[0m\u001b[0moptimizer_state\u001b[0m\u001b[0;34m[\u001b[0m\u001b[0;34m\"found_inf_per_device\"\u001b[0m\u001b[0;34m]\u001b[0m\u001b[0;34m)\u001b[0m \u001b[0;34m>\u001b[0m \u001b[0;36m0\u001b[0m\u001b[0;34m,\u001b[0m \u001b[0;34m\"No inf checks were recorded for this optimizer.\"\u001b[0m\u001b[0;34m\u001b[0m\u001b[0;34m\u001b[0m\u001b[0m\n\u001b[1;32m    338\u001b[0m \u001b[0;34m\u001b[0m\u001b[0m\n\u001b[0;32m--> 339\u001b[0;31m         \u001b[0mretval\u001b[0m \u001b[0;34m=\u001b[0m \u001b[0mself\u001b[0m\u001b[0;34m.\u001b[0m\u001b[0m_maybe_opt_step\u001b[0m\u001b[0;34m(\u001b[0m\u001b[0moptimizer\u001b[0m\u001b[0;34m,\u001b[0m \u001b[0moptimizer_state\u001b[0m\u001b[0;34m,\u001b[0m \u001b[0;34m*\u001b[0m\u001b[0margs\u001b[0m\u001b[0;34m,\u001b[0m \u001b[0;34m**\u001b[0m\u001b[0mkwargs\u001b[0m\u001b[0;34m)\u001b[0m\u001b[0;34m\u001b[0m\u001b[0;34m\u001b[0m\u001b[0m\n\u001b[0m\u001b[1;32m    340\u001b[0m \u001b[0;34m\u001b[0m\u001b[0m\n\u001b[1;32m    341\u001b[0m         \u001b[0moptimizer_state\u001b[0m\u001b[0;34m[\u001b[0m\u001b[0;34m\"stage\"\u001b[0m\u001b[0;34m]\u001b[0m \u001b[0;34m=\u001b[0m \u001b[0mOptState\u001b[0m\u001b[0;34m.\u001b[0m\u001b[0mSTEPPED\u001b[0m\u001b[0;34m\u001b[0m\u001b[0;34m\u001b[0m\u001b[0m\n",
            "\u001b[0;32m/usr/local/lib/python3.7/dist-packages/torch/cuda/amp/grad_scaler.py\u001b[0m in \u001b[0;36m_maybe_opt_step\u001b[0;34m(self, optimizer, optimizer_state, *args, **kwargs)\u001b[0m\n\u001b[1;32m    283\u001b[0m     \u001b[0;32mdef\u001b[0m \u001b[0m_maybe_opt_step\u001b[0m\u001b[0;34m(\u001b[0m\u001b[0mself\u001b[0m\u001b[0;34m,\u001b[0m \u001b[0moptimizer\u001b[0m\u001b[0;34m,\u001b[0m \u001b[0moptimizer_state\u001b[0m\u001b[0;34m,\u001b[0m \u001b[0;34m*\u001b[0m\u001b[0margs\u001b[0m\u001b[0;34m,\u001b[0m \u001b[0;34m**\u001b[0m\u001b[0mkwargs\u001b[0m\u001b[0;34m)\u001b[0m\u001b[0;34m:\u001b[0m\u001b[0;34m\u001b[0m\u001b[0;34m\u001b[0m\u001b[0m\n\u001b[1;32m    284\u001b[0m         \u001b[0mretval\u001b[0m \u001b[0;34m=\u001b[0m \u001b[0;32mNone\u001b[0m\u001b[0;34m\u001b[0m\u001b[0;34m\u001b[0m\u001b[0m\n\u001b[0;32m--> 285\u001b[0;31m         \u001b[0;32mif\u001b[0m \u001b[0;32mnot\u001b[0m \u001b[0msum\u001b[0m\u001b[0;34m(\u001b[0m\u001b[0mv\u001b[0m\u001b[0;34m.\u001b[0m\u001b[0mitem\u001b[0m\u001b[0;34m(\u001b[0m\u001b[0;34m)\u001b[0m \u001b[0;32mfor\u001b[0m \u001b[0mv\u001b[0m \u001b[0;32min\u001b[0m \u001b[0moptimizer_state\u001b[0m\u001b[0;34m[\u001b[0m\u001b[0;34m\"found_inf_per_device\"\u001b[0m\u001b[0;34m]\u001b[0m\u001b[0;34m.\u001b[0m\u001b[0mvalues\u001b[0m\u001b[0;34m(\u001b[0m\u001b[0;34m)\u001b[0m\u001b[0;34m)\u001b[0m\u001b[0;34m:\u001b[0m\u001b[0;34m\u001b[0m\u001b[0;34m\u001b[0m\u001b[0m\n\u001b[0m\u001b[1;32m    286\u001b[0m             \u001b[0mretval\u001b[0m \u001b[0;34m=\u001b[0m \u001b[0moptimizer\u001b[0m\u001b[0;34m.\u001b[0m\u001b[0mstep\u001b[0m\u001b[0;34m(\u001b[0m\u001b[0;34m*\u001b[0m\u001b[0margs\u001b[0m\u001b[0;34m,\u001b[0m \u001b[0;34m**\u001b[0m\u001b[0mkwargs\u001b[0m\u001b[0;34m)\u001b[0m\u001b[0;34m\u001b[0m\u001b[0;34m\u001b[0m\u001b[0m\n\u001b[1;32m    287\u001b[0m         \u001b[0;32mreturn\u001b[0m \u001b[0mretval\u001b[0m\u001b[0;34m\u001b[0m\u001b[0;34m\u001b[0m\u001b[0m\n",
            "\u001b[0;32m/usr/local/lib/python3.7/dist-packages/torch/cuda/amp/grad_scaler.py\u001b[0m in \u001b[0;36m<genexpr>\u001b[0;34m(.0)\u001b[0m\n\u001b[1;32m    283\u001b[0m     \u001b[0;32mdef\u001b[0m \u001b[0m_maybe_opt_step\u001b[0m\u001b[0;34m(\u001b[0m\u001b[0mself\u001b[0m\u001b[0;34m,\u001b[0m \u001b[0moptimizer\u001b[0m\u001b[0;34m,\u001b[0m \u001b[0moptimizer_state\u001b[0m\u001b[0;34m,\u001b[0m \u001b[0;34m*\u001b[0m\u001b[0margs\u001b[0m\u001b[0;34m,\u001b[0m \u001b[0;34m**\u001b[0m\u001b[0mkwargs\u001b[0m\u001b[0;34m)\u001b[0m\u001b[0;34m:\u001b[0m\u001b[0;34m\u001b[0m\u001b[0;34m\u001b[0m\u001b[0m\n\u001b[1;32m    284\u001b[0m         \u001b[0mretval\u001b[0m \u001b[0;34m=\u001b[0m \u001b[0;32mNone\u001b[0m\u001b[0;34m\u001b[0m\u001b[0;34m\u001b[0m\u001b[0m\n\u001b[0;32m--> 285\u001b[0;31m         \u001b[0;32mif\u001b[0m \u001b[0;32mnot\u001b[0m \u001b[0msum\u001b[0m\u001b[0;34m(\u001b[0m\u001b[0mv\u001b[0m\u001b[0;34m.\u001b[0m\u001b[0mitem\u001b[0m\u001b[0;34m(\u001b[0m\u001b[0;34m)\u001b[0m \u001b[0;32mfor\u001b[0m \u001b[0mv\u001b[0m \u001b[0;32min\u001b[0m \u001b[0moptimizer_state\u001b[0m\u001b[0;34m[\u001b[0m\u001b[0;34m\"found_inf_per_device\"\u001b[0m\u001b[0;34m]\u001b[0m\u001b[0;34m.\u001b[0m\u001b[0mvalues\u001b[0m\u001b[0;34m(\u001b[0m\u001b[0;34m)\u001b[0m\u001b[0;34m)\u001b[0m\u001b[0;34m:\u001b[0m\u001b[0;34m\u001b[0m\u001b[0;34m\u001b[0m\u001b[0m\n\u001b[0m\u001b[1;32m    286\u001b[0m             \u001b[0mretval\u001b[0m \u001b[0;34m=\u001b[0m \u001b[0moptimizer\u001b[0m\u001b[0;34m.\u001b[0m\u001b[0mstep\u001b[0m\u001b[0;34m(\u001b[0m\u001b[0;34m*\u001b[0m\u001b[0margs\u001b[0m\u001b[0;34m,\u001b[0m \u001b[0;34m**\u001b[0m\u001b[0mkwargs\u001b[0m\u001b[0;34m)\u001b[0m\u001b[0;34m\u001b[0m\u001b[0;34m\u001b[0m\u001b[0m\n\u001b[1;32m    287\u001b[0m         \u001b[0;32mreturn\u001b[0m \u001b[0mretval\u001b[0m\u001b[0;34m\u001b[0m\u001b[0;34m\u001b[0m\u001b[0m\n",
            "\u001b[0;31mKeyboardInterrupt\u001b[0m: "
          ]
        }
      ]
    },
    {
      "cell_type": "code",
      "metadata": {
        "id": "8DWsmT1gRN0F"
      },
      "source": [
        ""
      ],
      "execution_count": null,
      "outputs": []
    }
  ]
}