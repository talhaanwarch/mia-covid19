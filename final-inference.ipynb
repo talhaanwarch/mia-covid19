{
 "cells": [
  {
   "cell_type": "code",
   "execution_count": null,
   "metadata": {
    "execution": {
     "iopub.execute_input": "2021-06-25T07:10:33.901353Z",
     "iopub.status.busy": "2021-06-25T07:10:33.900822Z",
     "iopub.status.idle": "2021-06-25T07:10:38.84908Z",
     "shell.execute_reply": "2021-06-25T07:10:38.848093Z",
     "shell.execute_reply.started": "2021-06-25T07:10:33.901318Z"
    }
   },
   "outputs": [],
   "source": [
    "from autogluon.vision import ImagePredictor\n",
    "from glob import glob\n",
    "import pandas as pd"
   ]
  },
  {
   "cell_type": "code",
   "execution_count": null,
   "metadata": {
    "execution": {
     "iopub.execute_input": "2021-06-25T07:10:38.851528Z",
     "iopub.status.busy": "2021-06-25T07:10:38.851053Z",
     "iopub.status.idle": "2021-06-25T07:10:43.476499Z",
     "shell.execute_reply": "2021-06-25T07:10:43.475511Z",
     "shell.execute_reply.started": "2021-06-25T07:10:38.851465Z"
    }
   },
   "outputs": [],
   "source": [
    "import gdown\n",
    "ids='18GCi3fVuwfFRHs4EOhXvb-rqZpByahf-'\n",
    "url = 'https://drive.google.com/uc?id={}'.format(ids)\n",
    "gdown.download(url, quiet=True)"
   ]
  },
  {
   "cell_type": "code",
   "execution_count": null,
   "metadata": {
    "execution": {
     "iopub.execute_input": "2021-06-25T07:11:12.241813Z",
     "iopub.status.busy": "2021-06-25T07:11:12.241391Z",
     "iopub.status.idle": "2021-06-25T07:11:12.249179Z",
     "shell.execute_reply": "2021-06-25T07:11:12.2476Z",
     "shell.execute_reply.started": "2021-06-25T07:11:12.241781Z"
    }
   },
   "outputs": [],
   "source": [
    "model_name=glob('./*.ag')[0]\n",
    "model_name"
   ]
  },
  {
   "cell_type": "code",
   "execution_count": null,
   "metadata": {
    "execution": {
     "iopub.execute_input": "2021-06-25T07:11:25.214543Z",
     "iopub.status.busy": "2021-06-25T07:11:25.214104Z",
     "iopub.status.idle": "2021-06-25T07:11:34.388507Z",
     "shell.execute_reply": "2021-06-25T07:11:34.387334Z",
     "shell.execute_reply.started": "2021-06-25T07:11:25.214494Z"
    }
   },
   "outputs": [],
   "source": [
    "predictor = ImagePredictor.load(model_name,verbosity=2)"
   ]
  },
  {
   "cell_type": "code",
   "execution_count": null,
   "metadata": {
    "execution": {
     "iopub.execute_input": "2021-06-25T07:12:58.621406Z",
     "iopub.status.busy": "2021-06-25T07:12:58.62103Z",
     "iopub.status.idle": "2021-06-25T07:15:42.139856Z",
     "shell.execute_reply": "2021-06-25T07:15:42.138686Z",
     "shell.execute_reply.started": "2021-06-25T07:12:58.621374Z"
    }
   },
   "outputs": [],
   "source": [
    "images_df,folder_name=[],[]\n",
    "for direc in glob('cttest/*/'):#subfolder1,2...\n",
    "    for folder in glob(direc+'*/'):#ct scan folders\n",
    "        images=glob(folder+'*.jpg')\n",
    "        df=pd.DataFrame(images,columns=['image'])\n",
    "        images_df.append(df)\n",
    "        folder_name.append(folder.split('/')[-2])\n",
    "                                "
   ]
  },
  {
   "cell_type": "code",
   "execution_count": null,
   "metadata": {
    "execution": {
     "iopub.execute_input": "2021-06-25T07:15:42.142123Z",
     "iopub.status.busy": "2021-06-25T07:15:42.141715Z",
     "iopub.status.idle": "2021-06-25T07:15:42.153717Z",
     "shell.execute_reply": "2021-06-25T07:15:42.152563Z",
     "shell.execute_reply.started": "2021-06-25T07:15:42.142066Z"
    }
   },
   "outputs": [],
   "source": [
    "len(folder_name),len(images_df)"
   ]
  },
  {
   "cell_type": "code",
   "execution_count": null,
   "metadata": {},
   "outputs": [],
   "source": [
    "# total foldes, 450*7+305=3455"
   ]
  },
  {
   "cell_type": "code",
   "execution_count": null,
   "metadata": {
    "execution": {
     "iopub.execute_input": "2021-06-25T07:20:54.555886Z",
     "iopub.status.busy": "2021-06-25T07:20:54.555477Z"
    }
   },
   "outputs": [],
   "source": [
    "%%time\n",
    "predictions=[]\n",
    "for df in images_df:\n",
    "    pred=list(predictor.predict(df))\n",
    "    pred=max(pred,key=pred.count)\n",
    "    predictions.append(pred)"
   ]
  },
  {
   "cell_type": "code",
   "execution_count": null,
   "metadata": {},
   "outputs": [],
   "source": [
    "#in case of threshold, use following instead of aboce max snipped\n",
    "# %%time\n",
    "# predictions=[]\n",
    "#th=10 #threshold\n",
    "# for df in images_df:\n",
    "#     pred=list(predictor.predict(df))\n",
    "#     if pred.count(1)>int(len(df)*th/100):\n",
    "#         predictions.append(1)\n",
    "#     else:\n",
    "#         predictions.append(0)"
   ]
  },
  {
   "cell_type": "code",
   "execution_count": null,
   "metadata": {
    "execution": {
     "iopub.execute_input": "2021-06-25T06:44:21.412105Z",
     "iopub.status.busy": "2021-06-25T06:44:21.411786Z",
     "iopub.status.idle": "2021-06-25T06:44:21.426Z",
     "shell.execute_reply": "2021-06-25T06:44:21.424919Z",
     "shell.execute_reply.started": "2021-06-25T06:44:21.412078Z"
    }
   },
   "outputs": [],
   "source": [
    "final=pd.DataFrame(zip(folder_name,predictions),columns=['ID','pred'])\n",
    "final.head()"
   ]
  },
  {
   "cell_type": "code",
   "execution_count": null,
   "metadata": {
    "execution": {
     "iopub.execute_input": "2021-06-25T07:20:39.988941Z",
     "iopub.status.busy": "2021-06-25T07:20:39.988493Z",
     "iopub.status.idle": "2021-06-25T07:20:40.217462Z",
     "shell.execute_reply": "2021-06-25T07:20:40.21557Z",
     "shell.execute_reply.started": "2021-06-25T07:20:39.988902Z"
    }
   },
   "outputs": [],
   "source": [
    "len(final)"
   ]
  },
  {
   "cell_type": "code",
   "execution_count": null,
   "metadata": {},
   "outputs": [],
   "source": [
    "final.to_csv('{}.csv'.format(model_name[2:-3]),index=False)"
   ]
  }
 ],
 "metadata": {
  "kernelspec": {
   "display_name": "Python 3",
   "language": "python",
   "name": "python3"
  },
  "language_info": {
   "codemirror_mode": {
    "name": "ipython",
    "version": 3
   },
   "file_extension": ".py",
   "mimetype": "text/x-python",
   "name": "python",
   "nbconvert_exporter": "python",
   "pygments_lexer": "ipython3",
   "version": "3.8.5"
  }
 },
 "nbformat": 4,
 "nbformat_minor": 4
}
