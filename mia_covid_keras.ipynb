{
  "nbformat": 4,
  "nbformat_minor": 0,
  "metadata": {
    "colab": {
      "name": "mia-covid-keras.ipynb",
      "provenance": [],
      "collapsed_sections": [],
      "include_colab_link": true
    },
    "kernelspec": {
      "name": "python3",
      "display_name": "Python 3"
    },
    "language_info": {
      "name": "python"
    },
    "accelerator": "GPU"
  },
  "cells": [
    {
      "cell_type": "markdown",
      "metadata": {
        "id": "view-in-github",
        "colab_type": "text"
      },
      "source": [
        "<a href=\"https://colab.research.google.com/github/talhaanwarch/mia-covid19/blob/main/mia_covid_keras.ipynb\" target=\"_parent\"><img src=\"https://colab.research.google.com/assets/colab-badge.svg\" alt=\"Open In Colab\"/></a>"
      ]
    },
    {
      "cell_type": "markdown",
      "metadata": {
        "id": "4lAlhIPnoc6W"
      },
      "source": [
        "# install packages"
      ]
    },
    {
      "cell_type": "code",
      "metadata": {
        "colab": {
          "base_uri": "https://localhost:8080/"
        },
        "id": "Kurl6QQlwn_j",
        "outputId": "5a9852eb-df09-4218-a784-eaf3a6697bd8"
      },
      "source": [
        "!nvidia-smi -L"
      ],
      "execution_count": 1,
      "outputs": [
        {
          "output_type": "stream",
          "text": [
            "GPU 0: Tesla T4 (UUID: GPU-52c069ea-6323-be81-7a6e-acf7a7a700b8)\n"
          ],
          "name": "stdout"
        }
      ]
    },
    {
      "cell_type": "markdown",
      "metadata": {
        "id": "oL0OD4vlndII"
      },
      "source": [
        "# Get data from drive"
      ]
    },
    {
      "cell_type": "code",
      "metadata": {
        "colab": {
          "base_uri": "https://localhost:8080/"
        },
        "id": "vDOjqcdSwzNg",
        "outputId": "3246f61e-24fa-4b10-cc5e-788ca8615e6f"
      },
      "source": [
        "#connect drive with colab notebook/\n",
        "from google.colab import drive\n",
        "drive.mount('/content/drive',force_remount=True)"
      ],
      "execution_count": 2,
      "outputs": [
        {
          "output_type": "stream",
          "text": [
            "Mounted at /content/drive\n"
          ],
          "name": "stdout"
        }
      ]
    },
    {
      "cell_type": "code",
      "metadata": {
        "id": "N9xh0H24w0i7"
      },
      "source": [
        "#copy data from drive to colab\n",
        "!cp /content/drive/MyDrive/covid/train.zip /content/\n",
        "!cp /content/drive/MyDrive/covid/val.zip /content/"
      ],
      "execution_count": 3,
      "outputs": []
    },
    {
      "cell_type": "code",
      "metadata": {
        "id": "dwA7lAvmw4MU"
      },
      "source": [
        "#unzip data\n",
        "%%capture \n",
        "!unzip /content/train.zip\n",
        "!rm /content/train.zip\n",
        "!mv /content/resized /content/train\n",
        "#val data\n",
        "!unzip /content/val.zip -d val\n",
        "!rm /content/val.zip\n"
      ],
      "execution_count": 4,
      "outputs": []
    },
    {
      "cell_type": "markdown",
      "metadata": {
        "id": "5Lh9PL8poZN-"
      },
      "source": [
        "# import packages"
      ]
    },
    {
      "cell_type": "code",
      "metadata": {
        "id": "F1Fe9plTw6rx"
      },
      "source": [
        "import pandas as pd\n",
        "import numpy as np\n",
        "from glob import glob\n",
        "import cv2\n",
        "import pandas as pd\n",
        "\n",
        "from sklearn.metrics import classification_report\n",
        "from sklearn.model_selection import train_test_split\n"
      ],
      "execution_count": 6,
      "outputs": []
    },
    {
      "cell_type": "markdown",
      "metadata": {
        "id": "XmcC7dfenYhK"
      },
      "source": [
        "# prepare data"
      ]
    },
    {
      "cell_type": "code",
      "metadata": {
        "colab": {
          "base_uri": "https://localhost:8080/",
          "height": 35
        },
        "id": "jfcH_EVGs4wY",
        "outputId": "0142e288-7aa3-4120-8ccf-d877df115fcd"
      },
      "source": [
        "glob('/content/train'+'/*/')[1].split('/')[-2]"
      ],
      "execution_count": null,
      "outputs": [
        {
          "output_type": "execute_result",
          "data": {
            "application/vnd.google.colaboratory.intrinsic+json": {
              "type": "string"
            },
            "text/plain": [
              "'non-covid'"
            ]
          },
          "metadata": {
            "tags": []
          },
          "execution_count": 5
        }
      ]
    },
    {
      "cell_type": "code",
      "metadata": {
        "id": "axc4RsfLpfby"
      },
      "source": [
        "def flatten(path,label=None):\n",
        "  '''\n",
        "  path: images path in a list\n",
        "  label: corresponding label in list\n",
        "  '''\n",
        "  path = [item for sublist in path for item in sublist]\n",
        "  label = [item for sublist in label for item in sublist]\n",
        "  return path, label\n",
        "  \n",
        "\n",
        "def prepare(path,split=False,flat=True):\n",
        "  '''\n",
        "  Pass the path of main folder in which binary class folders are present\n",
        "  Split True will split the data and return two sets\n",
        "  '''\n",
        "  main_path=glob(path+'/*/')\n",
        "  pos_path=[glob(folder+'*.jpg') for folder in glob(main_path[0]+'*/')]\n",
        "  neg_path=[glob(folder+'*.jpg') for folder in glob(main_path[1]+'*/')]\n",
        "  #get folder name as label\n",
        "  pos_label=[[main_path[0].split('/')[-2]]*len(i)  for i in pos_path]\n",
        "  neg_label=[[main_path[1].split('/')[-2]]*len(i)  for i in neg_path]\n",
        "  path=pos_path+neg_path\n",
        "  label=pos_label+neg_label\n",
        "  if flat:\n",
        "    if split:\n",
        "      train_path,val_path,train_label,val_label=train_test_split(path,label,test_size=0.2)\n",
        "      train_path,train_label=flatten(train_path,train_label)\n",
        "      val_path,val_label=flatten(val_path,val_label)\n",
        "      return train_path,val_path,train_label,val_label\n",
        "    else:\n",
        "      path,label=flatten(path,label)\n",
        "      return path,label\n",
        "  else:\n",
        "    return path,label\n",
        "  "
      ],
      "execution_count": null,
      "outputs": []
    },
    {
      "cell_type": "code",
      "metadata": {
        "id": "Eq_BuqICrddT"
      },
      "source": [
        "# train_path,val_path,train_label,val_label=prepare('/content/train',split=True)\n",
        "# test_path,test_label=prepare('/content/val',split=False)\n",
        "# print('Train Images and labels',len(train_path),len(train_label))\n",
        "# print('Val Images and labels',len(val_path),len(val_label))\n",
        "# print('Test Images and labels',len(test_path),len(test_label))"
      ],
      "execution_count": null,
      "outputs": []
    },
    {
      "cell_type": "code",
      "metadata": {
        "id": "Y5pPOAowx4LW"
      },
      "source": [
        "# train_df=pd.DataFrame(zip(train_path,train_label),columns=['image','label'])\n",
        "# train_df = train_df.sample(frac=1).reset_index(drop=True)\n",
        "# train_df.label=train_df.label.map({'non-covid':0,'covid':1})\n",
        "# train_df.to_csv('/content/drive/MyDrive/covid/train_df.csv',index=False)\n",
        "# train_df.head()"
      ],
      "execution_count": null,
      "outputs": []
    },
    {
      "cell_type": "code",
      "metadata": {
        "id": "seQ5Mgftx4N4"
      },
      "source": [
        "# val_df=pd.DataFrame(zip(val_path,val_label),columns=['image','label'])\n",
        "# val_df = val_df.sample(frac=1).reset_index(drop=True)\n",
        "# val_df.label=val_df.label.map({'non-covid':0,'covid':1})\n",
        "# val_df.to_csv('/content/drive/MyDrive/covid/val_df.csv',index=False)\n",
        "# val_df.head()"
      ],
      "execution_count": null,
      "outputs": []
    },
    {
      "cell_type": "code",
      "metadata": {
        "id": "CS-9SUUzwKqA"
      },
      "source": [
        "# test_df=pd.DataFrame(zip(test_path,test_label),columns=['image','label'])\n",
        "# test_df = test_df.sample(frac=1).reset_index(drop=True)\n",
        "# test_df.label=test_df.label.map({'non-covid':0,'covid':1})\n",
        "# test_df.to_csv('/content/drive/MyDrive/covid/test_df.csv',index=False)\n",
        "# test_df.head()"
      ],
      "execution_count": null,
      "outputs": []
    },
    {
      "cell_type": "code",
      "metadata": {
        "id": "bxQVGE4mNpqo"
      },
      "source": [
        "train_df=pd.read_csv('/content/drive/MyDrive/covid/train_df.csv')\n",
        "train_df.label=train_df.label.map({0:'non-covid',1:'covid'})\n",
        "val_df=pd.read_csv('/content/drive/MyDrive/covid/val_df.csv')\n",
        "val_df.label=val_df.label.map({0:'non-covid',1:'covid'})\n",
        "test_df=pd.read_csv('/content/drive/MyDrive/covid/test_df.csv')\n",
        "test_df.label=test_df.label.map({0:'non-covid',1:'covid'})\n"
      ],
      "execution_count": 38,
      "outputs": []
    },
    {
      "cell_type": "markdown",
      "metadata": {
        "id": "TgGJIw7FniVC"
      },
      "source": [
        "# train model"
      ]
    },
    {
      "cell_type": "code",
      "metadata": {
        "id": "Epz5OjfKrwjL"
      },
      "source": [
        "from tensorflow.keras.preprocessing.image import ImageDataGenerator\n",
        "data_gen= ImageDataGenerator(\n",
        "    horizontal_flip=True,\n",
        "    vertical_flip=True,\n",
        "    rotation_range=10,\n",
        "    width_shift_range=0.1,\n",
        "    height_shift_range=0.1,\n",
        "    zoom_range=.1,\n",
        "    rescale=1/255,\n",
        "    fill_mode='nearest',\n",
        "    shear_range=0.1,\n",
        "   )"
      ],
      "execution_count": 8,
      "outputs": []
    },
    {
      "cell_type": "code",
      "metadata": {
        "id": "tYLJrNqcry30"
      },
      "source": [
        "img_shape=224\n",
        "batch_size=128"
      ],
      "execution_count": 19,
      "outputs": []
    },
    {
      "cell_type": "code",
      "metadata": {
        "id": "a3qRwp1fn7ZL",
        "colab": {
          "base_uri": "https://localhost:8080/"
        },
        "outputId": "a0cb851a-decb-4832-8aa4-ce59c5313626"
      },
      "source": [
        "train_generator=data_gen.flow_from_dataframe(train_df,directory='',\n",
        "                                                      target_size=(img_shape,img_shape),\n",
        "                                                      x_col=\"image\",\n",
        "                                                      y_col='label',\n",
        "                                                      class_mode='binary',\n",
        "                                                      shuffle=True,\n",
        "                                                      batch_size=batch_size)\n",
        "\n",
        "val_generator=data_gen.flow_from_dataframe(val_df,directory='',\n",
        "                                                    target_size=(img_shape,img_shape),\n",
        "                                                    x_col=\"image\",\n",
        "                                                    y_col='label',\n",
        "                                                    class_mode='binary',\n",
        "                                                    shuffle=False,\n",
        "                                                    batch_size=batch_size)\n",
        "test_generator=data_gen.flow_from_dataframe(test_df,directory='',\n",
        "                                                    target_size=(img_shape,img_shape),\n",
        "                                                    x_col=\"image\",\n",
        "                                                    y_col='label',\n",
        "                                                    class_mode='binary',\n",
        "                                                    shuffle=False,\n",
        "                                                    batch_size=batch_size)"
      ],
      "execution_count": 20,
      "outputs": [
        {
          "output_type": "stream",
          "text": [
            "Found 270244 validated image filenames belonging to 2 classes.\n",
            "Found 65428 validated image filenames belonging to 2 classes.\n",
            "Found 75532 validated image filenames belonging to 2 classes.\n"
          ],
          "name": "stdout"
        }
      ]
    },
    {
      "cell_type": "code",
      "metadata": {
        "id": "yFrmdL4SsPhK"
      },
      "source": [
        "from tensorflow.keras import mixed_precision\n",
        "policy = mixed_precision.Policy('mixed_float16')\n",
        "mixed_precision.set_global_policy(policy)"
      ],
      "execution_count": 21,
      "outputs": []
    },
    {
      "cell_type": "code",
      "metadata": {
        "id": "hbZtVwgVr7Iv"
      },
      "source": [
        "from tensorflow.keras.applications import DenseNet121\n",
        "from tensorflow.keras import layers\n",
        "from tensorflow.keras.models import Model\n",
        "model =DenseNet121(weights ='imagenet', include_top=False, input_shape = (img_shape,img_shape,3))\n",
        "x = model.output\n",
        "x = layers.GlobalAveragePooling2D()(x)\n",
        "x = layers.Dropout(0.3)(x)\n",
        "x = layers.Dense(128, activation=\"relu\")(x)\n",
        "x = layers.Dropout(0.3)(x)\n",
        "x = layers.Dense(64, activation=\"relu\")(x)\n",
        "x = layers.Dense(1)(x)\n",
        "predictions = layers.Activation( \"sigmoid\",dtype='float32')(x)\n",
        "\n",
        "model = Model(inputs=model.input, outputs=predictions)"
      ],
      "execution_count": 22,
      "outputs": []
    },
    {
      "cell_type": "code",
      "metadata": {
        "id": "TzdmkKu_oL7W"
      },
      "source": [
        "model.compile(loss='binary_crossentropy',optimizer='adam',metrics='accuracy')\n"
      ],
      "execution_count": 23,
      "outputs": []
    },
    {
      "cell_type": "code",
      "metadata": {
        "id": "zHEJUrRWoSxC",
        "colab": {
          "base_uri": "https://localhost:8080/"
        },
        "outputId": "66ec0796-bc9d-4541-d076-12d51c221ee5"
      },
      "source": [
        "results = model.fit(train_generator,epochs=1,\n",
        "                              steps_per_epoch=train_generator.n/batch_size,\n",
        "                              validation_data=val_generator,\n",
        "                             validation_steps=val_generator.n/batch_size,\n",
        "                              #callbacks=[ReduceLROnPlateau(monitor='val_loss', factor=0.3,patience=2, min_lr=0.000001)]\n",
        "                   )"
      ],
      "execution_count": 24,
      "outputs": [
        {
          "output_type": "stream",
          "text": [
            "2111/2111 [==============================] - 3924s 2s/step - loss: 0.3865 - accuracy: 0.8214 - val_loss: 0.6915 - val_accuracy: 0.7384\n"
          ],
          "name": "stdout"
        }
      ]
    },
    {
      "cell_type": "code",
      "metadata": {
        "colab": {
          "base_uri": "https://localhost:8080/",
          "height": 295
        },
        "id": "mtNpvV8662Kj",
        "outputId": "662471f9-6a35-4a6e-cf65-915eeb6f91d0"
      },
      "source": [
        "import matplotlib.pyplot as plt\n",
        "plt.plot(results.history['accuracy'])\n",
        "plt.plot(results.history['val_accuracy'])\n",
        "plt.title('model accuracy ')\n",
        "plt.ylabel('accuracy')\n",
        "plt.xlabel('epoch')\n",
        "plt.legend(['train', 'val'], loc='upper left')\n",
        "plt.show()"
      ],
      "execution_count": 26,
      "outputs": [
        {
          "output_type": "display_data",
          "data": {
            "image/png": "[encoded data removed]",
            "text/plain": [
              "<Figure size 432x288 with 1 Axes>"
            ]
          },
          "metadata": {
            "tags": [],
            "needs_background": "light"
          }
        }
      ]
    },
    {
      "cell_type": "code",
      "metadata": {
        "colab": {
          "base_uri": "https://localhost:8080/",
          "height": 295
        },
        "id": "Qe6cL-8y657v",
        "outputId": "2ba176ac-4289-4ea8-aeee-92207ba92051"
      },
      "source": [
        "plt.plot(results.history['loss'])\n",
        "plt.plot(results.history['val_loss'])\n",
        "plt.title('model loss')\n",
        "plt.ylabel('loss')\n",
        "plt.xlabel('epoch')\n",
        "plt.legend(['train', 'val'], loc='upper left')\n",
        "plt.show()"
      ],
      "execution_count": 27,
      "outputs": [
        {
          "output_type": "display_data",
          "data": {
            "image/png": "[encoded data removed]",
            "text/plain": [
              "<Figure size 432x288 with 1 Axes>"
            ]
          },
          "metadata": {
            "tags": [],
            "needs_background": "light"
          }
        }
      ]
    },
    {
      "cell_type": "code",
      "metadata": {
        "id": "50ExDN7zs-Ud"
      },
      "source": [
        "model.save(\"/content/drive/MyDrive/covid/densenet.h5\")"
      ],
      "execution_count": 28,
      "outputs": []
    },
    {
      "cell_type": "code",
      "metadata": {
        "colab": {
          "base_uri": "https://localhost:8080/"
        },
        "id": "VZrW7rAytGyp",
        "outputId": "27aa31d8-e3a8-4ef9-f294-84b3c3407762"
      },
      "source": [
        "model.evaluate(val_generator)"
      ],
      "execution_count": 29,
      "outputs": [
        {
          "output_type": "stream",
          "text": [
            "512/512 [==============================] - 607s 1s/step - loss: 0.6956 - accuracy: 0.7374\n"
          ],
          "name": "stdout"
        },
        {
          "output_type": "execute_result",
          "data": {
            "text/plain": [
              "[0.6956140995025635, 0.7373601794242859]"
            ]
          },
          "metadata": {
            "tags": []
          },
          "execution_count": 29
        }
      ]
    },
    {
      "cell_type": "code",
      "metadata": {
        "id": "OMHdW0vs_AVu"
      },
      "source": [
        "pred=model.predict(val_generator)"
      ],
      "execution_count": 30,
      "outputs": []
    },
    {
      "cell_type": "code",
      "metadata": {
        "id": "gX6Lz_NeCTJA"
      },
      "source": [
        "pred=pred.round().astype(int)"
      ],
      "execution_count": 34,
      "outputs": []
    },
    {
      "cell_type": "code",
      "metadata": {
        "colab": {
          "base_uri": "https://localhost:8080/"
        },
        "id": "VRgNadppDTp4",
        "outputId": "8c548ca5-53ec-4003-b051-5b9deb05cdb4"
      },
      "source": [
        "val_generator.class_indices"
      ],
      "execution_count": 39,
      "outputs": [
        {
          "output_type": "execute_result",
          "data": {
            "text/plain": [
              "{'covid': 0, 'non-covid': 1}"
            ]
          },
          "metadata": {
            "tags": []
          },
          "execution_count": 39
        }
      ]
    },
    {
      "cell_type": "code",
      "metadata": {
        "colab": {
          "base_uri": "https://localhost:8080/"
        },
        "id": "BXDoeaKQCOGK",
        "outputId": "f9a8072d-4459-4a36-e5fb-1d8c3d73f40d"
      },
      "source": [
        "val_df.label=val_df.label.map(val_generator.class_indices)\n",
        "print(classification_report(val_df.label,pred))"
      ],
      "execution_count": 40,
      "outputs": [
        {
          "output_type": "stream",
          "text": [
            "              precision    recall  f1-score   support\n",
            "\n",
            "           0       0.78      0.65      0.71     32301\n",
            "           1       0.71      0.82      0.76     33127\n",
            "\n",
            "    accuracy                           0.74     65428\n",
            "   macro avg       0.74      0.74      0.73     65428\n",
            "weighted avg       0.74      0.74      0.74     65428\n",
            "\n"
          ],
          "name": "stdout"
        }
      ]
    },
    {
      "cell_type": "code",
      "metadata": {
        "id": "cSPJecesC58W"
      },
      "source": [
        "pred=model.predict(test_generator)\n",
        "pred=pred.round().astype(int)\n",
        "test_df.label=test_df.label.map(test_generator.class_indices)\n",
        "print(classification_report(test_df.label,pred))"
      ],
      "execution_count": null,
      "outputs": []
    },
    {
      "cell_type": "markdown",
      "metadata": {
        "id": "OR41OeQ4opdd"
      },
      "source": [
        "# final evaluation on validation data"
      ]
    },
    {
      "cell_type": "code",
      "metadata": {
        "id": "Fzl5iFpbR_zb"
      },
      "source": [
        "#predictor=predictor.load('/content/drive/MyDrive/covid/predictor.ag')\n"
      ],
      "execution_count": null,
      "outputs": []
    },
    {
      "cell_type": "code",
      "metadata": {
        "id": "PEf1hTmmTVup",
        "colab": {
          "base_uri": "https://localhost:8080/"
        },
        "outputId": "19ccf77f-0572-4826-b398-9b7334c857a1"
      },
      "source": [
        "path,label=prepare('/content/val',split=False,flat=False)\n",
        "len(path),len(label)"
      ],
      "execution_count": null,
      "outputs": [
        {
          "output_type": "execute_result",
          "data": {
            "text/plain": [
              "(374, 374)"
            ]
          },
          "metadata": {
            "tags": []
          },
          "execution_count": 20
        }
      ]
    },
    {
      "cell_type": "code",
      "metadata": {
        "id": "qhSbmtJxcPzr"
      },
      "source": [
        "def evaluate(path,label):\n",
        "  test_pred,test_true=[],[]\n",
        "  for i, j in zip(path,label):\n",
        "    test_df=pd.DataFrame(zip(i,j),columns=['image','label'])\n",
        "    test_generator=data_gen.flow_from_dataframe(test_df,directory='',\n",
        "                                                    target_size=(img_shape,img_shape),\n",
        "                                                    x_col=\"image\",\n",
        "                                                    #y_col='label',\n",
        "                                                    class_mode=None,\n",
        "                                                    shuffle=False,\n",
        "                                                    batch_size=batch_size)\n",
        "    test_df.label=test_df.label.map(test_generator.class_indices)\n",
        "    pred=model.predict(test_generator)\n",
        "    pred=list(pred.round().astype(int))\n",
        "    test_pred.append(max(pred,key=pred.count))\n",
        "    test_true.append(test_df.label.mean())\n",
        "  return test_pred,test_true"
      ],
      "execution_count": null,
      "outputs": []
    },
    {
      "cell_type": "code",
      "metadata": {
        "id": "wO1_WF7hSS3z"
      },
      "source": [
        "%%capture\n",
        "test_pred,test_true=evaluate(path,label)"
      ],
      "execution_count": null,
      "outputs": []
    },
    {
      "cell_type": "code",
      "metadata": {
        "id": "yFjKzcKLgNhb",
        "colab": {
          "base_uri": "https://localhost:8080/"
        },
        "outputId": "fc0643bc-1c25-4922-f0e9-ab5e0d705a59"
      },
      "source": [
        "print(classification_report(test_true,test_pred,target_names=['non-covid','covid']))"
      ],
      "execution_count": null,
      "outputs": [
        {
          "output_type": "stream",
          "text": [
            "              precision    recall  f1-score   support\n",
            "\n",
            "   non-covid       0.79      0.99      0.88       209\n",
            "       covid       0.98      0.67      0.79       165\n",
            "\n",
            "    accuracy                           0.85       374\n",
            "   macro avg       0.89      0.83      0.84       374\n",
            "weighted avg       0.87      0.85      0.84       374\n",
            "\n"
          ],
          "name": "stdout"
        }
      ]
    },
    {
      "cell_type": "code",
      "metadata": {
        "id": "cffKCITUgULh"
      },
      "source": [
        ""
      ],
      "execution_count": null,
      "outputs": []
    }
  ]
}