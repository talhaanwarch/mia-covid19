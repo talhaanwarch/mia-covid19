{
  "nbformat": 4,
  "nbformat_minor": 0,
  "metadata": {
    "colab": {
      "name": "ct-covid-3d.ipynb",
      "provenance": [],
      "collapsed_sections": [],
      "include_colab_link": true
    },
    "kernelspec": {
      "name": "python3",
      "display_name": "Python 3"
    },
    "language_info": {
      "name": "python"
    },
    "accelerator": "GPU"
  },
  "cells": [
    {
      "cell_type": "markdown",
      "metadata": {
        "id": "view-in-github",
        "colab_type": "text"
      },
      "source": [
        "<a href=\"https://colab.research.google.com/github/talhaanwarch/mia-covid19/blob/main/ag2D.ipynb\" target=\"_parent\"><img src=\"https://colab.research.google.com/assets/colab-badge.svg\" alt=\"Open In Colab\"/></a>"
      ]
    },
    {
      "cell_type": "markdown",
      "metadata": {
        "id": "4lAlhIPnoc6W"
      },
      "source": [
        "# install packages"
      ]
    },
    {
      "cell_type": "code",
      "metadata": {
        "colab": {
          "base_uri": "https://localhost:8080/"
        },
        "id": "Kurl6QQlwn_j",
        "outputId": "059f6b57-893d-452c-aae2-bbc8a0793288"
      },
      "source": [
        "!nvidia-smi -L"
      ],
      "execution_count": 1,
      "outputs": [
        {
          "output_type": "stream",
          "text": [
            "GPU 0: Tesla T4 (UUID: GPU-f03c6139-eaa3-9628-670d-637a91e33bcf)\n"
          ],
          "name": "stdout"
        }
      ]
    },
    {
      "cell_type": "code",
      "metadata": {
        "id": "gZk6eZ13xGoK"
      },
      "source": [
        "#restart kernel after installing packages and run it again\n",
        "%%capture \n",
        "!pip install -U  pip\n",
        "!pip install -U setuptools wheel\n",
        "!pip install -U \"mxnet_cu110<2.0.0\"\n",
        "!pip install  autogluon  # autogluon==0.2.0"
      ],
      "execution_count": 2,
      "outputs": []
    },
    {
      "cell_type": "markdown",
      "metadata": {
        "id": "oL0OD4vlndII"
      },
      "source": [
        "# Get data from drive"
      ]
    },
    {
      "cell_type": "code",
      "metadata": {
        "colab": {
          "base_uri": "https://localhost:8080/"
        },
        "id": "vDOjqcdSwzNg",
        "outputId": "53ad29d7-7dd3-47cd-a86a-44bb8a30863f"
      },
      "source": [
        "#connect drive with colab notebook/\n",
        "from google.colab import drive\n",
        "drive.mount('/content/drive',force_remount=True)"
      ],
      "execution_count": 3,
      "outputs": [
        {
          "output_type": "stream",
          "text": [
            "Mounted at /content/drive\n"
          ],
          "name": "stdout"
        }
      ]
    },
    {
      "cell_type": "code",
      "metadata": {
        "id": "N9xh0H24w0i7"
      },
      "source": [
        "#copy data from drive to colab\n",
        "!cp /content/drive/MyDrive/covid/train.zip /content/\n",
        "!cp /content/drive/MyDrive/covid/val.zip /content/"
      ],
      "execution_count": 5,
      "outputs": []
    },
    {
      "cell_type": "code",
      "metadata": {
        "id": "dwA7lAvmw4MU"
      },
      "source": [
        "#unzip data\n",
        "%%capture \n",
        "!unzip /content/train.zip\n",
        "!rm /content/train.zip\n",
        "!mv /content/resized /content/train\n",
        "#val data\n",
        "!unzip /content/val.zip -d val\n",
        "!rm /content/val.zip\n"
      ],
      "execution_count": 6,
      "outputs": []
    },
    {
      "cell_type": "markdown",
      "metadata": {
        "id": "5Lh9PL8poZN-"
      },
      "source": [
        "# import packages"
      ]
    },
    {
      "cell_type": "code",
      "metadata": {
        "id": "F1Fe9plTw6rx"
      },
      "source": [
        "import pandas as pd\n",
        "import numpy as np\n",
        "from glob import glob\n",
        "import cv2\n",
        "import pandas as pd\n",
        "import autogluon.core as ag\n",
        "from autogluon.vision import ImagePredictor\n",
        "from sklearn.metrics import classification_report\n",
        "from sklearn.model_selection import train_test_split\n"
      ],
      "execution_count": 4,
      "outputs": []
    },
    {
      "cell_type": "markdown",
      "metadata": {
        "id": "XmcC7dfenYhK"
      },
      "source": [
        "# prepare data"
      ]
    },
    {
      "cell_type": "code",
      "metadata": {
        "colab": {
          "base_uri": "https://localhost:8080/",
          "height": 35
        },
        "id": "jfcH_EVGs4wY",
        "outputId": "0142e288-7aa3-4120-8ccf-d877df115fcd"
      },
      "source": [
        "glob('/content/train'+'/*/')[1].split('/')[-2]"
      ],
      "execution_count": 5,
      "outputs": [
        {
          "output_type": "execute_result",
          "data": {
            "application/vnd.google.colaboratory.intrinsic+json": {
              "type": "string"
            },
            "text/plain": [
              "'non-covid'"
            ]
          },
          "metadata": {
            "tags": []
          },
          "execution_count": 5
        }
      ]
    },
    {
      "cell_type": "code",
      "metadata": {
        "id": "axc4RsfLpfby"
      },
      "source": [
        "def flatten(path,label=None):\n",
        "  '''\n",
        "  path: images path in a list\n",
        "  label: corresponding label in list\n",
        "  '''\n",
        "  path = [item for sublist in path for item in sublist]\n",
        "  label = [item for sublist in label for item in sublist]\n",
        "  return path, label\n",
        "  \n",
        "\n",
        "def prepare(path,split=False,flat=True):\n",
        "  '''\n",
        "  Pass the path of main folder in which binary class folders are present\n",
        "  Split True will split the data and return two sets\n",
        "  '''\n",
        "  main_path=glob(path+'/*/')\n",
        "  pos_path=[glob(folder+'*.jpg') for folder in glob(main_path[0]+'*/')]\n",
        "  neg_path=[glob(folder+'*.jpg') for folder in glob(main_path[1]+'*/')]\n",
        "  #get folder name as label\n",
        "  pos_label=[[main_path[0].split('/')[-2]]*len(i)  for i in pos_path]\n",
        "  neg_label=[[main_path[1].split('/')[-2]]*len(i)  for i in neg_path]\n",
        "  path=pos_path+neg_path\n",
        "  label=pos_label+neg_label\n",
        "  if flat:\n",
        "    if split:\n",
        "      train_path,val_path,train_label,val_label=train_test_split(path,label,test_size=0.2)\n",
        "      train_path,train_label=flatten(train_path,train_label)\n",
        "      val_path,val_label=flatten(val_path,val_label)\n",
        "      return train_path,val_path,train_label,val_label\n",
        "    else:\n",
        "      path,label=flatten(path,label)\n",
        "      return path,label\n",
        "  else:\n",
        "    return path,label\n",
        "  "
      ],
      "execution_count": 7,
      "outputs": []
    },
    {
      "cell_type": "code",
      "metadata": {
        "id": "Eq_BuqICrddT"
      },
      "source": [
        "# train_path,val_path,train_label,val_label=prepare('/content/train',split=True)\n",
        "# test_path,test_label=prepare('/content/val',split=False)\n",
        "# print('Train Images and labels',len(train_path),len(train_label))\n",
        "# print('Val Images and labels',len(val_path),len(val_label))\n",
        "# print('Test Images and labels',len(test_path),len(test_label))"
      ],
      "execution_count": 8,
      "outputs": []
    },
    {
      "cell_type": "code",
      "metadata": {
        "id": "Y5pPOAowx4LW"
      },
      "source": [
        "# train_df=pd.DataFrame(zip(train_path,train_label),columns=['image','label'])\n",
        "# train_df = train_df.sample(frac=1).reset_index(drop=True)\n",
        "# train_df.label=train_df.label.map({'non-covid':0,'covid':1})\n",
        "# train_df.to_csv('/content/drive/MyDrive/covid/train_df.csv',index=False)\n",
        "# train_df.head()"
      ],
      "execution_count": 9,
      "outputs": []
    },
    {
      "cell_type": "code",
      "metadata": {
        "id": "seQ5Mgftx4N4"
      },
      "source": [
        "# val_df=pd.DataFrame(zip(val_path,val_label),columns=['image','label'])\n",
        "# val_df = val_df.sample(frac=1).reset_index(drop=True)\n",
        "# val_df.label=val_df.label.map({'non-covid':0,'covid':1})\n",
        "# val_df.to_csv('/content/drive/MyDrive/covid/val_df.csv',index=False)\n",
        "# val_df.head()"
      ],
      "execution_count": 10,
      "outputs": []
    },
    {
      "cell_type": "code",
      "metadata": {
        "id": "CS-9SUUzwKqA"
      },
      "source": [
        "# test_df=pd.DataFrame(zip(test_path,test_label),columns=['image','label'])\n",
        "# test_df = test_df.sample(frac=1).reset_index(drop=True)\n",
        "# test_df.label=test_df.label.map({'non-covid':0,'covid':1})\n",
        "# test_df.to_csv('/content/drive/MyDrive/covid/test_df.csv',index=False)\n",
        "# test_df.head()"
      ],
      "execution_count": 11,
      "outputs": []
    },
    {
      "cell_type": "code",
      "metadata": {
        "id": "bxQVGE4mNpqo"
      },
      "source": [
        "train_df=pd.read_csv('/content/drive/MyDrive/covid/train_df.csv')\n",
        "\n",
        "val_df=pd.read_csv('/content/drive/MyDrive/covid/val_df.csv')\n",
        "\n",
        "test_df=pd.read_csv('/content/drive/MyDrive/covid/test_df.csv')\n"
      ],
      "execution_count": 12,
      "outputs": []
    },
    {
      "cell_type": "markdown",
      "metadata": {
        "id": "TgGJIw7FniVC"
      },
      "source": [
        "# train model"
      ]
    },
    {
      "cell_type": "code",
      "metadata": {
        "colab": {
          "base_uri": "https://localhost:8080/"
        },
        "id": "CHb0wa8en2jm",
        "outputId": "5dc5745d-3f83-4134-d520-bba324a44b70"
      },
      "source": [
        "%%time\n",
        "predictor = ImagePredictor(verbosity=1)\n",
        "predictor.fit(train_df,tuning_data=val_df) "
      ],
      "execution_count": 13,
      "outputs": [
        {
          "output_type": "stream",
          "text": [
            "The number of requested GPUs is greater than the number of available GPUs.Reduce the number to 1\n"
          ],
          "name": "stderr"
        },
        {
          "output_type": "stream",
          "text": [
            "CPU times: user 2h 17min 54s, sys: 3min 36s, total: 2h 21min 30s\n",
            "Wall time: 2h 4min 15s\n"
          ],
          "name": "stdout"
        }
      ]
    },
    {
      "cell_type": "code",
      "metadata": {
        "id": "xmyTmYo_n-qr",
        "outputId": "f0658e9e-a866-4ff5-cc6f-5db7615660f8",
        "colab": {
          "base_uri": "https://localhost:8080/"
        }
      },
      "source": [
        "fit_result = predictor.fit_summary()\n",
        "print('Top-1 train acc: %.3f, val acc: %.3f' %(fit_result['train_acc'], fit_result['valid_acc']))\n",
        "fit_result\n"
      ],
      "execution_count": 14,
      "outputs": [
        {
          "output_type": "stream",
          "text": [
            "Top-1 train acc: 0.839, val acc: 0.767\n"
          ],
          "name": "stdout"
        },
        {
          "output_type": "execute_result",
          "data": {
            "text/plain": [
              "{'best_config': {'batch_size': 16,\n",
              "  'dist_ip_addrs': None,\n",
              "  'early_stop_baseline': -inf,\n",
              "  'early_stop_max_value': inf,\n",
              "  'early_stop_patience': 10,\n",
              "  'epochs': 15,\n",
              "  'estimator': gluoncv.auto.estimators.image_classification.image_classification.ImageClassificationEstimator,\n",
              "  'final_fit': False,\n",
              "  'gpus': [0],\n",
              "  'log_dir': '/content/3251e714',\n",
              "  'lr': 0.01,\n",
              "  'model': 'resnet50_v1b',\n",
              "  'ngpus_per_trial': 8,\n",
              "  'nthreads_per_trial': 128,\n",
              "  'num_trials': 1,\n",
              "  'num_workers': 2,\n",
              "  'scheduler': 'local',\n",
              "  'search_strategy': 'random',\n",
              "  'searcher': 'random',\n",
              "  'seed': 320,\n",
              "  'time_limits': 7200,\n",
              "  'wall_clock_tick': 1621737706.1998365},\n",
              " 'fit_history': {'best_config': {'batch_size': 16,\n",
              "   'dist_ip_addrs': None,\n",
              "   'early_stop_baseline': -inf,\n",
              "   'early_stop_max_value': inf,\n",
              "   'early_stop_patience': 10,\n",
              "   'epochs': 15,\n",
              "   'estimator': gluoncv.auto.estimators.image_classification.image_classification.ImageClassificationEstimator,\n",
              "   'final_fit': False,\n",
              "   'gpus': [0],\n",
              "   'log_dir': '/content/3251e714',\n",
              "   'lr': 0.01,\n",
              "   'model': 'resnet50_v1b',\n",
              "   'ngpus_per_trial': 8,\n",
              "   'nthreads_per_trial': 128,\n",
              "   'num_trials': 1,\n",
              "   'num_workers': 2,\n",
              "   'scheduler': 'local',\n",
              "   'search_strategy': 'random',\n",
              "   'searcher': 'random',\n",
              "   'seed': 320,\n",
              "   'time_limits': 7200,\n",
              "   'wall_clock_tick': 1621737706.1998365},\n",
              "  'total_time': 7200.040754079819,\n",
              "  'train_acc': 0.8388709677419355,\n",
              "  'valid_acc': 0.7673473130769701},\n",
              " 'total_time': 7200.040754079819,\n",
              " 'train_acc': 0.8388709677419355,\n",
              " 'valid_acc': 0.7673473130769701}"
            ]
          },
          "metadata": {
            "tags": []
          },
          "execution_count": 14
        }
      ]
    },
    {
      "cell_type": "code",
      "metadata": {
        "id": "WoJLpt1hC-_1"
      },
      "source": [
        "predictor.save('/content/drive/MyDrive/covid/predictor_mqft.ag')\n"
      ],
      "execution_count": 15,
      "outputs": []
    },
    {
      "cell_type": "code",
      "metadata": {
        "id": "a3qRwp1fn7ZL",
        "outputId": "bce745be-2a78-426f-c7c1-f683272a2e05",
        "colab": {
          "base_uri": "https://localhost:8080/"
        }
      },
      "source": [
        "val_df=ImagePredictor.Dataset.from_csv('/content/drive/MyDrive/covid/val_df.csv')\n",
        "res = predictor.evaluate(val_df)\n",
        "print('Top-1 test acc: %.3f' % res[0])\n",
        "val_pred=predictor.predict(test_df)\n",
        "print(classification_report(test_df.label,val_pred))"
      ],
      "execution_count": 16,
      "outputs": [
        {
          "output_type": "stream",
          "text": [
            "Top-1 test acc: 0.767\n",
            "              precision    recall  f1-score   support\n",
            "\n",
            "           0       0.75      0.92      0.83     40516\n",
            "           1       0.88      0.65      0.75     35016\n",
            "\n",
            "    accuracy                           0.80     75532\n",
            "   macro avg       0.81      0.79      0.79     75532\n",
            "weighted avg       0.81      0.80      0.79     75532\n",
            "\n"
          ],
          "name": "stdout"
        }
      ]
    },
    {
      "cell_type": "code",
      "metadata": {
        "id": "TzdmkKu_oL7W",
        "outputId": "4091e57b-0bc9-4747-fbea-fd79e544b3dc",
        "colab": {
          "base_uri": "https://localhost:8080/"
        }
      },
      "source": [
        "test_df=ImagePredictor.Dataset.from_csv('/content/drive/MyDrive/covid/test_df.csv')\n",
        "res = predictor.evaluate(test_df)\n",
        "print('Top-1 test acc: %.3f' % res[0])"
      ],
      "execution_count": 17,
      "outputs": [
        {
          "output_type": "stream",
          "text": [
            "Top-1 test acc: 0.796\n"
          ],
          "name": "stdout"
        }
      ]
    },
    {
      "cell_type": "code",
      "metadata": {
        "id": "zHEJUrRWoSxC",
        "outputId": "2305eb06-079e-48a1-80f3-86bb740baefe",
        "colab": {
          "base_uri": "https://localhost:8080/"
        }
      },
      "source": [
        "test_pred=predictor.predict(test_df)\n",
        "print(classification_report(test_df.label,test_pred))"
      ],
      "execution_count": 18,
      "outputs": [
        {
          "output_type": "stream",
          "text": [
            "              precision    recall  f1-score   support\n",
            "\n",
            "           0       0.75      0.92      0.83     40516\n",
            "           1       0.88      0.65      0.75     35016\n",
            "\n",
            "    accuracy                           0.80     75532\n",
            "   macro avg       0.81      0.79      0.79     75532\n",
            "weighted avg       0.81      0.80      0.79     75532\n",
            "\n"
          ],
          "name": "stdout"
        }
      ]
    },
    {
      "cell_type": "markdown",
      "metadata": {
        "id": "OR41OeQ4opdd"
      },
      "source": [
        "# final evaluation on validation data"
      ]
    },
    {
      "cell_type": "code",
      "metadata": {
        "id": "Fzl5iFpbR_zb"
      },
      "source": [
        "#predictor=predictor.load('/content/drive/MyDrive/covid/predictor.ag')\n"
      ],
      "execution_count": 19,
      "outputs": []
    },
    {
      "cell_type": "code",
      "metadata": {
        "id": "PEf1hTmmTVup",
        "outputId": "19ccf77f-0572-4826-b398-9b7334c857a1",
        "colab": {
          "base_uri": "https://localhost:8080/"
        }
      },
      "source": [
        "path,label=prepare('/content/val',split=False,flat=False)\n",
        "len(path),len(label)"
      ],
      "execution_count": 20,
      "outputs": [
        {
          "output_type": "execute_result",
          "data": {
            "text/plain": [
              "(374, 374)"
            ]
          },
          "metadata": {
            "tags": []
          },
          "execution_count": 20
        }
      ]
    },
    {
      "cell_type": "code",
      "metadata": {
        "id": "qhSbmtJxcPzr"
      },
      "source": [
        "#now loop each folder of each directoy and create a dataframe for each folder\n",
        "def evaluate(path,label):\n",
        "  test_pred,test_true=[],[]\n",
        "  for i, j in zip(path,label):\n",
        "    test_df=pd.DataFrame(zip(i,j),columns=['image','label'])\n",
        "    test_df.label=test_df.label.map({'non-covid':0,'covid':1})\n",
        "    test_df.to_csv('test_df.csv',index=False)\n",
        "    test_df=ImagePredictor.Dataset.from_csv('/content/test_df.csv')\n",
        "    pred=list(predictor.predict(test_df))\n",
        "    #find maximum occurent of element\n",
        "    test_pred.append(max(pred,key=pred.count))\n",
        "    test_true.append(test_df.label.mean())\n",
        "  return test_pred,test_true\n",
        "\n"
      ],
      "execution_count": 21,
      "outputs": []
    },
    {
      "cell_type": "code",
      "metadata": {
        "id": "wO1_WF7hSS3z"
      },
      "source": [
        "test_pred,test_true=evaluate(path,label)"
      ],
      "execution_count": 22,
      "outputs": []
    },
    {
      "cell_type": "code",
      "metadata": {
        "id": "yFjKzcKLgNhb",
        "outputId": "fc0643bc-1c25-4922-f0e9-ab5e0d705a59",
        "colab": {
          "base_uri": "https://localhost:8080/"
        }
      },
      "source": [
        "print(classification_report(test_true,test_pred,target_names=['non-covid','covid']))"
      ],
      "execution_count": 23,
      "outputs": [
        {
          "output_type": "stream",
          "text": [
            "              precision    recall  f1-score   support\n",
            "\n",
            "   non-covid       0.79      0.99      0.88       209\n",
            "       covid       0.98      0.67      0.79       165\n",
            "\n",
            "    accuracy                           0.85       374\n",
            "   macro avg       0.89      0.83      0.84       374\n",
            "weighted avg       0.87      0.85      0.84       374\n",
            "\n"
          ],
          "name": "stdout"
        }
      ]
    },
    {
      "cell_type": "code",
      "metadata": {
        "id": "cffKCITUgULh"
      },
      "source": [
        ""
      ],
      "execution_count": null,
      "outputs": []
    }
  ]
}