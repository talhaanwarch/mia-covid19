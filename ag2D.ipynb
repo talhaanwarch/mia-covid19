{
  "nbformat": 4,
  "nbformat_minor": 0,
  "metadata": {
    "colab": {
      "name": "ct-covid-3d.ipynb",
      "provenance": [],
      "collapsed_sections": [],
      "authorship_tag": "ABX9TyPNjupQSfoOqbAnWw3GE4Tg",
      "include_colab_link": true
    },
    "kernelspec": {
      "name": "python3",
      "display_name": "Python 3"
    },
    "language_info": {
      "name": "python"
    },
    "accelerator": "GPU"
  },
  "cells": [
    {
      "cell_type": "markdown",
      "metadata": {
        "id": "view-in-github",
        "colab_type": "text"
      },
      "source": [
        "<a href=\"https://colab.research.google.com/github/talhaanwarch/mia-covid19/blob/main/ag2D.ipynb\" target=\"_parent\"><img src=\"https://colab.research.google.com/assets/colab-badge.svg\" alt=\"Open In Colab\"/></a>"
      ]
    },
    {
      "cell_type": "markdown",
      "metadata": {
        "id": "4lAlhIPnoc6W"
      },
      "source": [
        "# install packages"
      ]
    },
    {
      "cell_type": "code",
      "metadata": {
        "colab": {
          "base_uri": "https://localhost:8080/"
        },
        "id": "Kurl6QQlwn_j",
        "outputId": "a6af51b1-40e1-4fb4-b8f0-098f54e935aa"
      },
      "source": [
        "!nvidia-smi -L"
      ],
      "execution_count": 1,
      "outputs": [
        {
          "output_type": "stream",
          "text": [
            "GPU 0: Tesla P100-PCIE-16GB (UUID: GPU-32e4e532-0d2d-6b35-0b72-5e695e87edf6)\n"
          ],
          "name": "stdout"
        }
      ]
    },
    {
      "cell_type": "code",
      "metadata": {
        "id": "gZk6eZ13xGoK"
      },
      "source": [
        "%%capture \n",
        "!pip install -U  pip\n",
        "!pip install -U setuptools wheel\n",
        "!pip install -U \"mxnet_cu110<2.0.0\"\n",
        "!pip install  autogluon  # autogluon==0.2.0"
      ],
      "execution_count": 2,
      "outputs": []
    },
    {
      "cell_type": "markdown",
      "metadata": {
        "id": "oL0OD4vlndII"
      },
      "source": [
        "# Get data from drive"
      ]
    },
    {
      "cell_type": "code",
      "metadata": {
        "colab": {
          "base_uri": "https://localhost:8080/"
        },
        "id": "vDOjqcdSwzNg",
        "outputId": "6d676d06-4f1a-4b8e-cf09-6f21444694aa"
      },
      "source": [
        "#connect drive with colab notebook/\n",
        "from google.colab import drive\n",
        "drive.mount('/content/drive',force_remount=True)"
      ],
      "execution_count": 3,
      "outputs": [
        {
          "output_type": "stream",
          "text": [
            "Mounted at /content/drive\n"
          ],
          "name": "stdout"
        }
      ]
    },
    {
      "cell_type": "code",
      "metadata": {
        "id": "N9xh0H24w0i7"
      },
      "source": [
        "!cp /content/drive/MyDrive/covid/train.zip /content/\n",
        "!cp /content/drive/MyDrive/covid/val.zip /content/"
      ],
      "execution_count": 4,
      "outputs": []
    },
    {
      "cell_type": "code",
      "metadata": {
        "id": "dwA7lAvmw4MU"
      },
      "source": [
        "%%capture \n",
        "!unzip /content/train.zip\n",
        "!rm /content/train.zip\n",
        "!mv /content/resized /content/train\n"
      ],
      "execution_count": 5,
      "outputs": []
    },
    {
      "cell_type": "code",
      "metadata": {
        "id": "ocaDIBJIw6vA"
      },
      "source": [
        "%%capture \n",
        "!unzip /content/val.zip -d val\n",
        "!rm /content/val.zip\n"
      ],
      "execution_count": 6,
      "outputs": []
    },
    {
      "cell_type": "markdown",
      "metadata": {
        "id": "5Lh9PL8poZN-"
      },
      "source": [
        "# import packages"
      ]
    },
    {
      "cell_type": "code",
      "metadata": {
        "id": "F1Fe9plTw6rx"
      },
      "source": [
        "import pandas as pd\n",
        "import numpy as np\n",
        "from glob import glob\n",
        "import cv2\n",
        "import pandas as pd\n",
        "import autogluon.core as ag\n",
        "from autogluon.vision import ImagePredictor\n",
        "from sklearn.metrics import classification_report\n"
      ],
      "execution_count": 7,
      "outputs": []
    },
    {
      "cell_type": "markdown",
      "metadata": {
        "id": "XmcC7dfenYhK"
      },
      "source": [
        "# prepare data"
      ]
    },
    {
      "cell_type": "code",
      "metadata": {
        "id": "kL-TzpbZw6pJ"
      },
      "source": [
        "# #load data, data loaded is in format of list of list containing folder and image paths\n",
        "# train_pos_path=[glob(folder+'*.jpg') for folder in glob('train/covid/*/')]\n",
        "# train_neg_path=[glob(folder+'*.jpg') for folder in glob('train/non-covid/*/')]\n",
        "# len(train_pos_path),len(train_neg_path)"
      ],
      "execution_count": 8,
      "outputs": []
    },
    {
      "cell_type": "code",
      "metadata": {
        "id": "vO8hi8Zjx4Ad"
      },
      "source": [
        "# #create labels for list of list images\n",
        "# train_pos_label=[[0]*len(i)  for i in train_pos_path]\n",
        "# train_neg_label=[[1]*len(i)  for i in train_neg_path]\n",
        "# len(train_pos_label),len(train_neg_label)"
      ],
      "execution_count": 9,
      "outputs": []
    },
    {
      "cell_type": "code",
      "metadata": {
        "id": "1jnwsOsZx4DO"
      },
      "source": [
        "# #combine data\n",
        "# train_path=train_pos_path+train_neg_path\n",
        "# train_label=train_pos_label+train_neg_label\n",
        "# len(train_path),len(train_label)"
      ],
      "execution_count": 10,
      "outputs": []
    },
    {
      "cell_type": "code",
      "metadata": {
        "id": "_03NTc_yx4Fv"
      },
      "source": [
        "# #plit data \n",
        "# from sklearn.model_selection import train_test_split\n",
        "# train_path,val_path,train_label,val_label=train_test_split(train_path,train_label,test_size=0.2)"
      ],
      "execution_count": 11,
      "outputs": []
    },
    {
      "cell_type": "code",
      "metadata": {
        "id": "UfEJXk3Bx4I1"
      },
      "source": [
        "# #flatten list\n",
        "# train_path = [item for sublist in train_path for item in sublist]\n",
        "# val_path = [item for sublist in val_path for item in sublist]\n",
        "# train_label = [item for sublist in train_label for item in sublist]\n",
        "# val_label = [item for sublist in val_label for item in sublist]\n",
        "# len(train_path),len(train_label),len(val_path),len(val_label)"
      ],
      "execution_count": 12,
      "outputs": []
    },
    {
      "cell_type": "code",
      "metadata": {
        "id": "Y5pPOAowx4LW"
      },
      "source": [
        "# train_df=pd.DataFrame(zip(train_path,train_label),columns=['img','label'])\n",
        "# train_df = train_df.sample(frac=1).reset_index(drop=True)\n",
        "# train_df.to_csv('train_df.csv',index=False)\n",
        "# train_df.head()"
      ],
      "execution_count": 13,
      "outputs": []
    },
    {
      "cell_type": "code",
      "metadata": {
        "id": "seQ5Mgftx4N4"
      },
      "source": [
        "# val_df=pd.DataFrame(zip(val_path,val_label),columns=['img','label'])\n",
        "# val_df = val_df.sample(frac=1).reset_index(drop=True)\n",
        "# val_df.to_csv('val_df.csv',index=False)\n",
        "# val_df.head()"
      ],
      "execution_count": 14,
      "outputs": []
    },
    {
      "cell_type": "code",
      "metadata": {
        "id": "rx9mrsEFm84N"
      },
      "source": [
        "#create test data\n",
        "test_pos_path=[glob(folder+'*.jpg') for folder in glob('val/covid/*/')]\n",
        "test_neg_path=[glob(folder+'*.jpg') for folder in glob('val/non-covid/*/')]\n",
        "test_pos_label=[[0]*len(i)  for i in test_pos_path]\n",
        "test_neg_label=[[1]*len(i)  for i in test_neg_path]\n",
        "print('folder images', len(test_pos_path),len(test_neg_path))\n",
        "print('folder label', len(test_pos_label),len(test_neg_label))\n",
        "#combine data\n",
        "test_path=test_pos_path+test_neg_path\n",
        "test_label=test_pos_label+test_neg_label\n",
        "len(test_path),len(test_label)\n",
        "#flatten list\n",
        "test_path = [item for sublist in test_path for item in sublist]\n",
        "test_label = [item for sublist in test_label for item in sublist]\n",
        "len(test_path),len(test_label)\n",
        "#convert to dataframe\n",
        "test_df=pd.DataFrame(zip(test_path,test_label),columns=['image','label'])\n",
        "test_df = test_df.sample(frac=1).reset_index(drop=True)\n",
        "test_df.to_csv('test_df.csv',index=False)\n",
        "test_df.head()"
      ],
      "execution_count": null,
      "outputs": []
    },
    {
      "cell_type": "code",
      "metadata": {
        "colab": {
          "base_uri": "https://localhost:8080/",
          "height": 217
        },
        "id": "J1TzBf-hx4TP",
        "outputId": "0d706ad0-154f-4aff-ef06-3cf0c773a72a"
      },
      "source": [
        "train_df=pd.read_csv('/content/drive/MyDrive/covid/train_df.csv')\n",
        "train_df.columns=['image','label']\n",
        "val_df=pd.read_csv('/content/drive/MyDrive/covid/val_df.csv')\n",
        "val_df.columns=['image','label']\n",
        "val_df.to_csv('val_df.csv',index=False)\n",
        "print(len(train_df),len(val_df))\n",
        "train_df.head()"
      ],
      "execution_count": 15,
      "outputs": [
        {
          "output_type": "stream",
          "text": [
            "266607 69065\n"
          ],
          "name": "stdout"
        },
        {
          "output_type": "execute_result",
          "data": {
            "text/html": [
              "<div>\n",
              "<style scoped>\n",
              "    .dataframe tbody tr th:only-of-type {\n",
              "        vertical-align: middle;\n",
              "    }\n",
              "\n",
              "    .dataframe tbody tr th {\n",
              "        vertical-align: top;\n",
              "    }\n",
              "\n",
              "    .dataframe thead th {\n",
              "        text-align: right;\n",
              "    }\n",
              "</style>\n",
              "<table border=\"1\" class=\"dataframe\">\n",
              "  <thead>\n",
              "    <tr style=\"text-align: right;\">\n",
              "      <th></th>\n",
              "      <th>image</th>\n",
              "      <th>label</th>\n",
              "    </tr>\n",
              "  </thead>\n",
              "  <tbody>\n",
              "    <tr>\n",
              "      <th>0</th>\n",
              "      <td>train/non-covid/ct_scan_790/80.jpg</td>\n",
              "      <td>1</td>\n",
              "    </tr>\n",
              "    <tr>\n",
              "      <th>1</th>\n",
              "      <td>train/non-covid/ct_scan_580/36.jpg</td>\n",
              "      <td>1</td>\n",
              "    </tr>\n",
              "    <tr>\n",
              "      <th>2</th>\n",
              "      <td>train/covid/ct_scan_11/122.jpg</td>\n",
              "      <td>0</td>\n",
              "    </tr>\n",
              "    <tr>\n",
              "      <th>3</th>\n",
              "      <td>train/non-covid/ct_scan_199/280.jpg</td>\n",
              "      <td>1</td>\n",
              "    </tr>\n",
              "    <tr>\n",
              "      <th>4</th>\n",
              "      <td>train/non-covid/ct_scan_530/234.jpg</td>\n",
              "      <td>1</td>\n",
              "    </tr>\n",
              "  </tbody>\n",
              "</table>\n",
              "</div>"
            ],
            "text/plain": [
              "                                 image  label\n",
              "0   train/non-covid/ct_scan_790/80.jpg      1\n",
              "1   train/non-covid/ct_scan_580/36.jpg      1\n",
              "2       train/covid/ct_scan_11/122.jpg      0\n",
              "3  train/non-covid/ct_scan_199/280.jpg      1\n",
              "4  train/non-covid/ct_scan_530/234.jpg      1"
            ]
          },
          "metadata": {
            "tags": []
          },
          "execution_count": 15
        }
      ]
    },
    {
      "cell_type": "markdown",
      "metadata": {
        "id": "TgGJIw7FniVC"
      },
      "source": [
        "# train model"
      ]
    },
    {
      "cell_type": "code",
      "metadata": {
        "id": "CHb0wa8en2jm"
      },
      "source": [
        "# %%time\n",
        "# predictor = ImagePredictor(verbosity=1)\n",
        "# predictor.fit(train_df,tuning_data=val_df, hyperparameters={'epochs': 5}) "
      ],
      "execution_count": null,
      "outputs": []
    },
    {
      "cell_type": "code",
      "metadata": {
        "id": "xmyTmYo_n-qr"
      },
      "source": [
        "# fit_result = predictor.fit_summary()\n",
        "#(fit_result)\n",
        "# print('Top-1 train acc: %.3f, val acc: %.3f' %(fit_result['train_acc'], fit_result['valid_acc']))"
      ],
      "execution_count": null,
      "outputs": []
    },
    {
      "cell_type": "code",
      "metadata": {
        "colab": {
          "base_uri": "https://localhost:8080/"
        },
        "id": "oSKqRACUzBjW",
        "outputId": "c4e4826f-685d-45bf-c69f-0a7dd84f4462"
      },
      "source": [
        "#test here i am using validation data provided as test\n",
        "#1:pos,covid, 0:neg,non-covid\n",
        "result = predictor.predict('train/non-covid/ct_scan_790/80.jpg')\n",
        "result"
      ],
      "execution_count": 18,
      "outputs": [
        {
          "output_type": "execute_result",
          "data": {
            "text/plain": [
              "0    1\n",
              "Name: label, dtype: int64"
            ]
          },
          "metadata": {
            "tags": []
          },
          "execution_count": 18
        }
      ]
    },
    {
      "cell_type": "code",
      "metadata": {
        "id": "a3qRwp1fn7ZL"
      },
      "source": [
        "val_df=ImagePredictor.Dataset.from_csv('/content/val_df.csv')\n",
        "res = predictor.evaluate(val_df)\n",
        "print('Top-1 test acc: %.3f' % res[0])"
      ],
      "execution_count": null,
      "outputs": []
    },
    {
      "cell_type": "code",
      "metadata": {
        "id": "TzdmkKu_oL7W"
      },
      "source": [
        "test_df=ImagePredictor.Dataset.from_csv('/content/test_df.csv')\n",
        "res = predictor.evaluate(test_df)\n",
        "print('Top-1 test acc: %.3f' % res[0])"
      ],
      "execution_count": null,
      "outputs": []
    },
    {
      "cell_type": "code",
      "metadata": {
        "id": "zHEJUrRWoSxC"
      },
      "source": [
        "test_pred=predictor.predict(test_df)\n",
        "print(classification_report(test_df.label,test_pred))"
      ],
      "execution_count": null,
      "outputs": []
    },
    {
      "cell_type": "code",
      "metadata": {
        "id": "WoJLpt1hC-_1",
        "outputId": "9cfb7f00-3735-4074-cde7-77c6683ecf5e",
        "colab": {
          "base_uri": "https://localhost:8080/"
        }
      },
      "source": [
        "predictor = ImagePredictor.save('/content/drive/MyDrive/covid/predictor.ag')\n"
      ],
      "execution_count": 16,
      "outputs": [
        {
          "output_type": "stream",
          "text": [
            "INFO:root:Model file not found. Downloading.\n"
          ],
          "name": "stderr"
        },
        {
          "output_type": "stream",
          "text": [
            "Downloading /root/.mxnet/models/resnet50_v1b-0ecdba34.zip from https://apache-mxnet.s3-accelerate.dualstack.amazonaws.com/gluon/models/resnet50_v1b-0ecdba34.zip...\n"
          ],
          "name": "stdout"
        },
        {
          "output_type": "stream",
          "text": [
            "100%|██████████| 55344/55344 [00:02<00:00, 24935.52KB/s]\n"
          ],
          "name": "stderr"
        }
      ]
    },
    {
      "cell_type": "code",
      "metadata": {
        "id": "p-KhLy_eopMq"
      },
      "source": [
        ""
      ],
      "execution_count": null,
      "outputs": []
    },
    {
      "cell_type": "markdown",
      "metadata": {
        "id": "OR41OeQ4opdd"
      },
      "source": [
        "# final evaluation on validation data"
      ]
    },
    {
      "cell_type": "code",
      "metadata": {
        "colab": {
          "base_uri": "https://localhost:8080/"
        },
        "id": "qhSbmtJxcPzr",
        "outputId": "d6672bd8-99b8-4ceb-d66d-c16aa44c16fd"
      },
      "source": [
        "#now loop each folder of each directoy and create a dataframe for each folder\n",
        "def evaluate(path,label):\n",
        "  pos_test_pred=[]\n",
        "  for i, j in zip(path,label):\n",
        "    test_df=pd.DataFrame(zip(i,j),columns=['image','label'])\n",
        "    test_df.to_csv('test_df.csv',index=False)\n",
        "    test_df=ImagePredictor.Dataset.from_csv('/content/test_df.csv')\n",
        "    pred=list(predictor.predict(test_df))\n",
        "    #find maximum occurent of element\n",
        "    pos_test_pred.append(max(pred,key=pred.count))\n",
        "    return pos_test_pred\n",
        "\n"
      ],
      "execution_count": 33,
      "outputs": [
        {
          "output_type": "stream",
          "text": [
            "165 165\n"
          ],
          "name": "stdout"
        }
      ]
    },
    {
      "cell_type": "code",
      "metadata": {
        "colab": {
          "base_uri": "https://localhost:8080/"
        },
        "id": "R4jK-as-cjQv",
        "outputId": "97576355-ce91-4739-d50c-e2be240e8676"
      },
      "source": [
        "neg_test_pred=[]\n",
        "for i, j in zip(test_neg_path,test_neg_label):\n",
        "  test_df=pd.DataFrame(zip(i,j),columns=['image','label'])\n",
        "  test_df.to_csv('test_df.csv',index=False)\n",
        "  test_df=ImagePredictor.Dataset.from_csv('/content/test_df.csv')\n",
        "  pred=list(predictor.predict(test_df))\n",
        "  #find maximum occurent of element\n",
        "  neg_test_pred.append(max(pred,key=pred.count))\n",
        "print(len(test_neg_path),len(neg_test_pred))  "
      ],
      "execution_count": 34,
      "outputs": [
        {
          "output_type": "stream",
          "text": [
            "209 209\n"
          ],
          "name": "stdout"
        }
      ]
    },
    {
      "cell_type": "code",
      "metadata": {
        "colab": {
          "base_uri": "https://localhost:8080/"
        },
        "id": "KOZ0dpPQctT6",
        "outputId": "312e755f-7a1e-4c1f-b178-8be52bddd522"
      },
      "source": [
        "test_true=test_pos_label+test_neg_label\n",
        "test_true=[int(np.mean(i)) for i in test_true]\n",
        "test_pred=pos_test_pred+neg_test_pred\n",
        "print(len(test_true),len(test_pred))  "
      ],
      "execution_count": 35,
      "outputs": [
        {
          "output_type": "stream",
          "text": [
            "374 374\n"
          ],
          "name": "stdout"
        }
      ]
    },
    {
      "cell_type": "code",
      "metadata": {
        "colab": {
          "base_uri": "https://localhost:8080/"
        },
        "id": "yFjKzcKLgNhb",
        "outputId": "c389de0d-b5c5-46af-b785-575097e7b6d7"
      },
      "source": [
        "from sklearn.metrics import classification_report\n",
        "print(classification_report(test_true,test_pred))"
      ],
      "execution_count": 36,
      "outputs": [
        {
          "output_type": "stream",
          "text": [
            "              precision    recall  f1-score   support\n",
            "\n",
            "           0       0.88      0.82      0.85       165\n",
            "           1       0.87      0.91      0.89       209\n",
            "\n",
            "    accuracy                           0.87       374\n",
            "   macro avg       0.87      0.87      0.87       374\n",
            "weighted avg       0.87      0.87      0.87       374\n",
            "\n"
          ],
          "name": "stdout"
        }
      ]
    },
    {
      "cell_type": "code",
      "metadata": {
        "id": "cffKCITUgULh"
      },
      "source": [
        ""
      ],
      "execution_count": null,
      "outputs": []
    }
  ]
}