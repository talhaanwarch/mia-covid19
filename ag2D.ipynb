{
  "nbformat": 4,
  "nbformat_minor": 0,
  "metadata": {
    "colab": {
      "name": "ct-covid-3d.ipynb",
      "provenance": [],
      "collapsed_sections": [],
      "authorship_tag": "ABX9TyM9oOyfmSE6kkT91j/APHhm",
      "include_colab_link": true
    },
    "kernelspec": {
      "name": "python3",
      "display_name": "Python 3"
    },
    "language_info": {
      "name": "python"
    },
    "accelerator": "GPU"
  },
  "cells": [
    {
      "cell_type": "markdown",
      "metadata": {
        "id": "view-in-github",
        "colab_type": "text"
      },
      "source": [
        "<a href=\"https://colab.research.google.com/github/talhaanwarch/mia-covid19/blob/main/ag2D.ipynb\" target=\"_parent\"><img src=\"https://colab.research.google.com/assets/colab-badge.svg\" alt=\"Open In Colab\"/></a>"
      ]
    },
    {
      "cell_type": "markdown",
      "metadata": {
        "id": "4lAlhIPnoc6W"
      },
      "source": [
        "# install packages"
      ]
    },
    {
      "cell_type": "code",
      "metadata": {
        "colab": {
          "base_uri": "https://localhost:8080/"
        },
        "id": "Kurl6QQlwn_j",
        "outputId": "80a31f38-8bae-493a-fb7f-3c3dccf91953"
      },
      "source": [
        "!nvidia-smi -L"
      ],
      "execution_count": 1,
      "outputs": [
        {
          "output_type": "stream",
          "text": [
            "GPU 0: Tesla P100-PCIE-16GB (UUID: GPU-4d7d703c-3458-861d-337f-5682100cabcc)\n"
          ],
          "name": "stdout"
        }
      ]
    },
    {
      "cell_type": "code",
      "metadata": {
        "id": "gZk6eZ13xGoK"
      },
      "source": [
        "#restart kernel after installing packages and run it again\n",
        "%%capture \n",
        "!pip install -U  pip\n",
        "!pip install -U setuptools wheel\n",
        "!pip install -U \"mxnet_cu110<2.0.0\"\n",
        "!pip install  autogluon  # autogluon==0.2.0"
      ],
      "execution_count": 2,
      "outputs": []
    },
    {
      "cell_type": "markdown",
      "metadata": {
        "id": "oL0OD4vlndII"
      },
      "source": [
        "# Get data from drive"
      ]
    },
    {
      "cell_type": "code",
      "metadata": {
        "colab": {
          "base_uri": "https://localhost:8080/"
        },
        "id": "vDOjqcdSwzNg",
        "outputId": "a1fcf284-e767-43de-cbf8-779ade8f40f2"
      },
      "source": [
        "#connect drive with colab notebook/\n",
        "from google.colab import drive\n",
        "drive.mount('/content/drive',force_remount=True)"
      ],
      "execution_count": 3,
      "outputs": [
        {
          "output_type": "stream",
          "text": [
            "Mounted at /content/drive\n"
          ],
          "name": "stdout"
        }
      ]
    },
    {
      "cell_type": "code",
      "metadata": {
        "id": "N9xh0H24w0i7"
      },
      "source": [
        "#copy data from drive to colab\n",
        "!cp /content/drive/MyDrive/covid/train.zip /content/\n",
        "!cp /content/drive/MyDrive/covid/val.zip /content/"
      ],
      "execution_count": 4,
      "outputs": []
    },
    {
      "cell_type": "code",
      "metadata": {
        "id": "dwA7lAvmw4MU"
      },
      "source": [
        "#unzip data\n",
        "%%capture \n",
        "!unzip /content/train.zip\n",
        "!rm /content/train.zip\n",
        "!mv /content/resized /content/train\n",
        "#val data\n",
        "!unzip /content/val.zip -d val\n",
        "!rm /content/val.zip\n"
      ],
      "execution_count": 5,
      "outputs": []
    },
    {
      "cell_type": "markdown",
      "metadata": {
        "id": "5Lh9PL8poZN-"
      },
      "source": [
        "# import packages"
      ]
    },
    {
      "cell_type": "code",
      "metadata": {
        "id": "F1Fe9plTw6rx"
      },
      "source": [
        "import pandas as pd\n",
        "import numpy as np\n",
        "from glob import glob\n",
        "import cv2\n",
        "import pandas as pd\n",
        "import autogluon.core as ag\n",
        "from autogluon.vision import ImagePredictor\n",
        "from sklearn.metrics import classification_report\n",
        "from sklearn.model_selection import train_test_split\n"
      ],
      "execution_count": 6,
      "outputs": []
    },
    {
      "cell_type": "markdown",
      "metadata": {
        "id": "XmcC7dfenYhK"
      },
      "source": [
        "# prepare data"
      ]
    },
    {
      "cell_type": "code",
      "metadata": {
        "colab": {
          "base_uri": "https://localhost:8080/"
        },
        "id": "jfcH_EVGs4wY",
        "outputId": "e373f348-d2bb-4df2-ab0f-38c6bbe874c2"
      },
      "source": [
        "glob('/content/train'+'/*/')[1].split('/')[-2]"
      ],
      "execution_count": 16,
      "outputs": [
        {
          "output_type": "execute_result",
          "data": {
            "text/plain": [
              "['non-covid', 'non-covid']"
            ]
          },
          "metadata": {
            "tags": []
          },
          "execution_count": 16
        }
      ]
    },
    {
      "cell_type": "code",
      "metadata": {
        "id": "axc4RsfLpfby"
      },
      "source": [
        "def flatten(path,label=None):\n",
        "  '''\n",
        "  path: images path in a list\n",
        "  label: corresponding label in list\n",
        "  '''\n",
        "  path = [item for sublist in path for item in sublist]\n",
        "  label = [item for sublist in label for item in sublist]\n",
        "  return path, label\n",
        "  \n",
        "\n",
        "def prepare(path,split=False):\n",
        "  '''\n",
        "  Pass the path of main folder in which binary class folders are present\n",
        "  Split True will split the data and return two sets\n",
        "  '''\n",
        "  main_path=glob(path+'/*/')\n",
        "  pos_path=[glob(folder+'*.jpg') for folder in glob(main_path[0]+'*/')]\n",
        "  neg_path=[glob(folder+'*.jpg') for folder in glob(main_path[1]+'*/')]\n",
        "  #get folder name as label\n",
        "  pos_label=[[main_path[0].split('/')[-2]]*len(i)  for i in pos_path]\n",
        "  neg_label=[[main_path[1].split('/')[-2]]*len(i)  for i in neg_path]\n",
        "  path=pos_path+neg_path\n",
        "  label=pos_label+neg_label\n",
        "  if split:\n",
        "    train_path,val_path,train_label,val_label=train_test_split(path,label,test_size=0.2)\n",
        "    train_path,train_label=flatten(train_path,train_label)\n",
        "    val_path,val_label=flatten(val_path,val_label)\n",
        "    return train_path,val_path,train_label,val_label\n",
        "  else:\n",
        "    path,label=flatten(path,label)\n",
        "    return path,label\n",
        "  "
      ],
      "execution_count": 39,
      "outputs": []
    },
    {
      "cell_type": "code",
      "metadata": {
        "colab": {
          "base_uri": "https://localhost:8080/"
        },
        "id": "Eq_BuqICrddT",
        "outputId": "af058d5f-fad9-4e6b-dc5b-5f9fc24e2010"
      },
      "source": [
        "train_path,val_path,train_label,val_label=prepare('/content/train',split=True)\n",
        "test_path,test_label=prepare('/content/val',split=False)\n",
        "print('Train Images and labels',len(train_path),len(train_label))\n",
        "print('Val Images and labels',len(val_path),len(val_label))\n",
        "print('Test Images and labels',len(test_path),len(test_label))"
      ],
      "execution_count": 44,
      "outputs": [
        {
          "output_type": "stream",
          "text": [
            "Train Images and labels 266634 266634\n",
            "Val Images and labels 69038 69038\n",
            "Test Images and labels 75532 75532\n"
          ],
          "name": "stdout"
        }
      ]
    },
    {
      "cell_type": "code",
      "metadata": {
        "id": "Y5pPOAowx4LW",
        "colab": {
          "base_uri": "https://localhost:8080/",
          "height": 199
        },
        "outputId": "ee5d11d3-54db-485a-945c-84b0549ca985"
      },
      "source": [
        "train_df=pd.DataFrame(zip(train_path,train_label),columns=['image','label'])\n",
        "train_df = train_df.sample(frac=1).reset_index(drop=True)\n",
        "train_df.label=train_df.label.map({'non-covid':0,'covid':1})\n",
        "train_df.to_csv('/content/drive/MyDrive/covid/train_df.csv',index=False)\n",
        "train_df.head()"
      ],
      "execution_count": 50,
      "outputs": [
        {
          "output_type": "execute_result",
          "data": {
            "text/html": [
              "<div>\n",
              "<style scoped>\n",
              "    .dataframe tbody tr th:only-of-type {\n",
              "        vertical-align: middle;\n",
              "    }\n",
              "\n",
              "    .dataframe tbody tr th {\n",
              "        vertical-align: top;\n",
              "    }\n",
              "\n",
              "    .dataframe thead th {\n",
              "        text-align: right;\n",
              "    }\n",
              "</style>\n",
              "<table border=\"1\" class=\"dataframe\">\n",
              "  <thead>\n",
              "    <tr style=\"text-align: right;\">\n",
              "      <th></th>\n",
              "      <th>image</th>\n",
              "      <th>label</th>\n",
              "    </tr>\n",
              "  </thead>\n",
              "  <tbody>\n",
              "    <tr>\n",
              "      <th>0</th>\n",
              "      <td>/content/train/non-covid/ct_scan_760/110.jpg</td>\n",
              "      <td>0</td>\n",
              "    </tr>\n",
              "    <tr>\n",
              "      <th>1</th>\n",
              "      <td>/content/train/non-covid/ct_scan_383/120.jpg</td>\n",
              "      <td>0</td>\n",
              "    </tr>\n",
              "    <tr>\n",
              "      <th>2</th>\n",
              "      <td>/content/train/non-covid/ct_scan_450/174.jpg</td>\n",
              "      <td>0</td>\n",
              "    </tr>\n",
              "    <tr>\n",
              "      <th>3</th>\n",
              "      <td>/content/train/covid/ct_scan_636/80.jpg</td>\n",
              "      <td>1</td>\n",
              "    </tr>\n",
              "    <tr>\n",
              "      <th>4</th>\n",
              "      <td>/content/train/non-covid/ct_scan_324/464.jpg</td>\n",
              "      <td>0</td>\n",
              "    </tr>\n",
              "  </tbody>\n",
              "</table>\n",
              "</div>"
            ],
            "text/plain": [
              "                                          image  label\n",
              "0  /content/train/non-covid/ct_scan_760/110.jpg      0\n",
              "1  /content/train/non-covid/ct_scan_383/120.jpg      0\n",
              "2  /content/train/non-covid/ct_scan_450/174.jpg      0\n",
              "3       /content/train/covid/ct_scan_636/80.jpg      1\n",
              "4  /content/train/non-covid/ct_scan_324/464.jpg      0"
            ]
          },
          "metadata": {
            "tags": []
          },
          "execution_count": 50
        }
      ]
    },
    {
      "cell_type": "code",
      "metadata": {
        "id": "seQ5Mgftx4N4",
        "colab": {
          "base_uri": "https://localhost:8080/",
          "height": 199
        },
        "outputId": "99ba3663-fe9f-488b-c74a-dd3fd8b1062c"
      },
      "source": [
        "val_df=pd.DataFrame(zip(val_path,val_label),columns=['image','label'])\n",
        "val_df = val_df.sample(frac=1).reset_index(drop=True)\n",
        "val_df.label=val_df.label.map({'non-covid':0,'covid':1})\n",
        "val_df.to_csv('/content/drive/MyDrive/covid/val_df.csv',index=False)\n",
        "val_df.head()"
      ],
      "execution_count": 51,
      "outputs": [
        {
          "output_type": "execute_result",
          "data": {
            "text/html": [
              "<div>\n",
              "<style scoped>\n",
              "    .dataframe tbody tr th:only-of-type {\n",
              "        vertical-align: middle;\n",
              "    }\n",
              "\n",
              "    .dataframe tbody tr th {\n",
              "        vertical-align: top;\n",
              "    }\n",
              "\n",
              "    .dataframe thead th {\n",
              "        text-align: right;\n",
              "    }\n",
              "</style>\n",
              "<table border=\"1\" class=\"dataframe\">\n",
              "  <thead>\n",
              "    <tr style=\"text-align: right;\">\n",
              "      <th></th>\n",
              "      <th>image</th>\n",
              "      <th>label</th>\n",
              "    </tr>\n",
              "  </thead>\n",
              "  <tbody>\n",
              "    <tr>\n",
              "      <th>0</th>\n",
              "      <td>/content/train/covid/ct_scan_227/1.jpg</td>\n",
              "      <td>1</td>\n",
              "    </tr>\n",
              "    <tr>\n",
              "      <th>1</th>\n",
              "      <td>/content/train/covid/ct_scan_380/403.jpg</td>\n",
              "      <td>1</td>\n",
              "    </tr>\n",
              "    <tr>\n",
              "      <th>2</th>\n",
              "      <td>/content/train/non-covid/ct_scan_237/332.jpg</td>\n",
              "      <td>0</td>\n",
              "    </tr>\n",
              "    <tr>\n",
              "      <th>3</th>\n",
              "      <td>/content/train/covid/ct_scan_494/65.jpg</td>\n",
              "      <td>1</td>\n",
              "    </tr>\n",
              "    <tr>\n",
              "      <th>4</th>\n",
              "      <td>/content/train/non-covid/ct_scan_415/16.jpg</td>\n",
              "      <td>0</td>\n",
              "    </tr>\n",
              "  </tbody>\n",
              "</table>\n",
              "</div>"
            ],
            "text/plain": [
              "                                          image  label\n",
              "0        /content/train/covid/ct_scan_227/1.jpg      1\n",
              "1      /content/train/covid/ct_scan_380/403.jpg      1\n",
              "2  /content/train/non-covid/ct_scan_237/332.jpg      0\n",
              "3       /content/train/covid/ct_scan_494/65.jpg      1\n",
              "4   /content/train/non-covid/ct_scan_415/16.jpg      0"
            ]
          },
          "metadata": {
            "tags": []
          },
          "execution_count": 51
        }
      ]
    },
    {
      "cell_type": "code",
      "metadata": {
        "colab": {
          "base_uri": "https://localhost:8080/",
          "height": 199
        },
        "id": "CS-9SUUzwKqA",
        "outputId": "b6369198-975a-4884-a7e2-e4eceb29acc2"
      },
      "source": [
        "test_df=pd.DataFrame(zip(test_path,test_label),columns=['image','label'])\n",
        "test_df = test_df.sample(frac=1).reset_index(drop=True)\n",
        "test_df.label=test_df.label.map({'non-covid':0,'covid':1})\n",
        "test_df.to_csv('/content/drive/MyDrive/covid/test_df.csv',index=False)\n",
        "test_df.head()"
      ],
      "execution_count": 52,
      "outputs": [
        {
          "output_type": "execute_result",
          "data": {
            "text/html": [
              "<div>\n",
              "<style scoped>\n",
              "    .dataframe tbody tr th:only-of-type {\n",
              "        vertical-align: middle;\n",
              "    }\n",
              "\n",
              "    .dataframe tbody tr th {\n",
              "        vertical-align: top;\n",
              "    }\n",
              "\n",
              "    .dataframe thead th {\n",
              "        text-align: right;\n",
              "    }\n",
              "</style>\n",
              "<table border=\"1\" class=\"dataframe\">\n",
              "  <thead>\n",
              "    <tr style=\"text-align: right;\">\n",
              "      <th></th>\n",
              "      <th>image</th>\n",
              "      <th>label</th>\n",
              "    </tr>\n",
              "  </thead>\n",
              "  <tbody>\n",
              "    <tr>\n",
              "      <th>0</th>\n",
              "      <td>/content/val/covid/ct_scan_41/166.jpg</td>\n",
              "      <td>1</td>\n",
              "    </tr>\n",
              "    <tr>\n",
              "      <th>1</th>\n",
              "      <td>/content/val/covid/ct_scan_148/678.jpg</td>\n",
              "      <td>1</td>\n",
              "    </tr>\n",
              "    <tr>\n",
              "      <th>2</th>\n",
              "      <td>/content/val/covid/ct_scan_86/54.jpg</td>\n",
              "      <td>1</td>\n",
              "    </tr>\n",
              "    <tr>\n",
              "      <th>3</th>\n",
              "      <td>/content/val/covid/ct_scan_57/255.jpg</td>\n",
              "      <td>1</td>\n",
              "    </tr>\n",
              "    <tr>\n",
              "      <th>4</th>\n",
              "      <td>/content/val/non-covid/ct_scan_42/515.jpg</td>\n",
              "      <td>0</td>\n",
              "    </tr>\n",
              "  </tbody>\n",
              "</table>\n",
              "</div>"
            ],
            "text/plain": [
              "                                       image  label\n",
              "0      /content/val/covid/ct_scan_41/166.jpg      1\n",
              "1     /content/val/covid/ct_scan_148/678.jpg      1\n",
              "2       /content/val/covid/ct_scan_86/54.jpg      1\n",
              "3      /content/val/covid/ct_scan_57/255.jpg      1\n",
              "4  /content/val/non-covid/ct_scan_42/515.jpg      0"
            ]
          },
          "metadata": {
            "tags": []
          },
          "execution_count": 52
        }
      ]
    },
    {
      "cell_type": "markdown",
      "metadata": {
        "id": "TgGJIw7FniVC"
      },
      "source": [
        "# train model"
      ]
    },
    {
      "cell_type": "code",
      "metadata": {
        "colab": {
          "base_uri": "https://localhost:8080/"
        },
        "id": "CHb0wa8en2jm",
        "outputId": "15640947-d276-455d-b5e8-3cd0d8aec3f2"
      },
      "source": [
        "%%time\n",
        "predictor = ImagePredictor(verbosity=1)\n",
        "predictor.fit(train_df,tuning_data=val_df, hyperparameters={'epochs': 2}) "
      ],
      "execution_count": 53,
      "outputs": [
        {
          "output_type": "stream",
          "text": [
            "The number of requested GPUs is greater than the number of available GPUs.Reduce the number to 1\n"
          ],
          "name": "stderr"
        },
        {
          "output_type": "stream",
          "text": [
            "Downloading /root/.mxnet/models/resnet50_v1b-0ecdba34.zip from https://apache-mxnet.s3-accelerate.dualstack.amazonaws.com/gluon/models/resnet50_v1b-0ecdba34.zip...\n"
          ],
          "name": "stdout"
        },
        {
          "output_type": "stream",
          "text": [
            "100%|██████████| 55344/55344 [00:02<00:00, 23065.25KB/s]\n"
          ],
          "name": "stderr"
        },
        {
          "output_type": "stream",
          "text": [
            "CPU times: user 1h 33min 47s, sys: 2min 57s, total: 1h 36min 44s\n",
            "Wall time: 1h 28min 33s\n"
          ],
          "name": "stdout"
        }
      ]
    },
    {
      "cell_type": "code",
      "metadata": {
        "colab": {
          "base_uri": "https://localhost:8080/"
        },
        "id": "xmyTmYo_n-qr",
        "outputId": "aebc2c45-70f4-4300-862c-874e816cab67"
      },
      "source": [
        "fit_result = predictor.fit_summary()\n",
        "print('Top-1 train acc: %.3f, val acc: %.3f' %(fit_result['train_acc'], fit_result['valid_acc']))\n",
        "fit_result\n"
      ],
      "execution_count": 55,
      "outputs": [
        {
          "output_type": "stream",
          "text": [
            "Top-1 train acc: 0.813, val acc: 0.788\n"
          ],
          "name": "stdout"
        },
        {
          "output_type": "execute_result",
          "data": {
            "text/plain": [
              "{'best_config': {'batch_size': 16,\n",
              "  'dist_ip_addrs': None,\n",
              "  'early_stop_baseline': -inf,\n",
              "  'early_stop_max_value': inf,\n",
              "  'early_stop_patience': 10,\n",
              "  'epochs': 2,\n",
              "  'estimator': gluoncv.auto.estimators.image_classification.image_classification.ImageClassificationEstimator,\n",
              "  'final_fit': False,\n",
              "  'gpus': [0],\n",
              "  'log_dir': '/content/5c80ab9c',\n",
              "  'lr': 0.01,\n",
              "  'model': 'resnet50_v1b',\n",
              "  'ngpus_per_trial': 8,\n",
              "  'nthreads_per_trial': 128,\n",
              "  'num_trials': 1,\n",
              "  'num_workers': 2,\n",
              "  'scheduler': 'local',\n",
              "  'search_strategy': 'random',\n",
              "  'searcher': 'random',\n",
              "  'seed': 667,\n",
              "  'time_limits': 7200,\n",
              "  'wall_clock_tick': 1621688961.6387753},\n",
              " 'fit_history': {'best_config': {'batch_size': 16,\n",
              "   'dist_ip_addrs': None,\n",
              "   'early_stop_baseline': -inf,\n",
              "   'early_stop_max_value': inf,\n",
              "   'early_stop_patience': 10,\n",
              "   'epochs': 2,\n",
              "   'estimator': gluoncv.auto.estimators.image_classification.image_classification.ImageClassificationEstimator,\n",
              "   'final_fit': False,\n",
              "   'gpus': [0],\n",
              "   'log_dir': '/content/5c80ab9c',\n",
              "   'lr': 0.01,\n",
              "   'model': 'resnet50_v1b',\n",
              "   'ngpus_per_trial': 8,\n",
              "   'nthreads_per_trial': 128,\n",
              "   'num_trials': 1,\n",
              "   'num_workers': 2,\n",
              "   'scheduler': 'local',\n",
              "   'search_strategy': 'random',\n",
              "   'searcher': 'random',\n",
              "   'seed': 667,\n",
              "   'time_limits': 7200,\n",
              "   'wall_clock_tick': 1621688961.6387753},\n",
              "  'total_time': 4954.267433166504,\n",
              "  'train_acc': 0.8133326332213154,\n",
              "  'valid_acc': 0.7875228135229874},\n",
              " 'total_time': 4954.267433166504,\n",
              " 'train_acc': 0.8133326332213154,\n",
              " 'valid_acc': 0.7875228135229874}"
            ]
          },
          "metadata": {
            "tags": []
          },
          "execution_count": 55
        }
      ]
    },
    {
      "cell_type": "code",
      "metadata": {
        "colab": {
          "base_uri": "https://localhost:8080/"
        },
        "id": "a3qRwp1fn7ZL",
        "outputId": "d838e447-76f1-4a3f-cf35-455d90e70a59"
      },
      "source": [
        "val_df=ImagePredictor.Dataset.from_csv('/content/drive/MyDrive/covid/val_df.csv')\n",
        "res = predictor.evaluate(val_df)\n",
        "print('Top-1 test acc: %.3f' % res[0])\n",
        "val_pred=predictor.predict(test_df)\n",
        "print(classification_report(test_df.label,val_pred))"
      ],
      "execution_count": 56,
      "outputs": [
        {
          "output_type": "stream",
          "text": [
            "Top-1 test acc: 0.788\n",
            "              precision    recall  f1-score   support\n",
            "\n",
            "           0       0.78      0.88      0.83     40516\n",
            "           1       0.84      0.71      0.77     35016\n",
            "\n",
            "    accuracy                           0.80     75532\n",
            "   macro avg       0.81      0.80      0.80     75532\n",
            "weighted avg       0.81      0.80      0.80     75532\n",
            "\n"
          ],
          "name": "stdout"
        }
      ]
    },
    {
      "cell_type": "code",
      "metadata": {
        "colab": {
          "base_uri": "https://localhost:8080/"
        },
        "id": "TzdmkKu_oL7W",
        "outputId": "732e199d-ba29-47bc-cd2d-e97475f10570"
      },
      "source": [
        "test_df=ImagePredictor.Dataset.from_csv('/content/drive/MyDrive/covid/test_df.csv')\n",
        "res = predictor.evaluate(test_df)\n",
        "print('Top-1 test acc: %.3f' % res[0])"
      ],
      "execution_count": 57,
      "outputs": [
        {
          "output_type": "stream",
          "text": [
            "Top-1 test acc: 0.804\n"
          ],
          "name": "stdout"
        }
      ]
    },
    {
      "cell_type": "code",
      "metadata": {
        "colab": {
          "base_uri": "https://localhost:8080/",
          "height": 185
        },
        "id": "zHEJUrRWoSxC",
        "outputId": "1533e55d-aa2f-4959-c360-22054a867572"
      },
      "source": [
        "test_pred=predictor.predict(test_df)\n",
        "print(classification_report(test_df.label,test_pred))"
      ],
      "execution_count": 62,
      "outputs": [
        {
          "output_type": "error",
          "ename": "AttributeError",
          "evalue": "ignored",
          "traceback": [
            "\u001b[0;31m---------------------------------------------------------------------------\u001b[0m",
            "\u001b[0;31mAttributeError\u001b[0m                            Traceback (most recent call last)",
            "\u001b[0;32m<ipython-input-62-239ffa2a22a1>\u001b[0m in \u001b[0;36m<module>\u001b[0;34m()\u001b[0m\n\u001b[0;32m----> 1\u001b[0;31m \u001b[0mtest_pred\u001b[0m\u001b[0;34m=\u001b[0m\u001b[0mpredictor\u001b[0m\u001b[0;34m.\u001b[0m\u001b[0mpredict\u001b[0m\u001b[0;34m(\u001b[0m\u001b[0mtest_df\u001b[0m\u001b[0;34m)\u001b[0m\u001b[0;34m\u001b[0m\u001b[0;34m\u001b[0m\u001b[0m\n\u001b[0m\u001b[1;32m      2\u001b[0m \u001b[0mprint\u001b[0m\u001b[0;34m(\u001b[0m\u001b[0mclassification_report\u001b[0m\u001b[0;34m(\u001b[0m\u001b[0mtest_df\u001b[0m\u001b[0;34m.\u001b[0m\u001b[0mlabel\u001b[0m\u001b[0;34m,\u001b[0m\u001b[0mtest_pred\u001b[0m\u001b[0;34m)\u001b[0m\u001b[0;34m)\u001b[0m\u001b[0;34m\u001b[0m\u001b[0;34m\u001b[0m\u001b[0m\n",
            "\u001b[0;31mAttributeError\u001b[0m: 'NoneType' object has no attribute 'predict'"
          ]
        }
      ]
    },
    {
      "cell_type": "code",
      "metadata": {
        "colab": {
          "base_uri": "https://localhost:8080/",
          "height": 167
        },
        "id": "WoJLpt1hC-_1",
        "outputId": "bf572449-e62e-4690-e793-afd628c3f4b9"
      },
      "source": [
        "predictor.save('/content/drive/MyDrive/covid/predictor.ag')\n"
      ],
      "execution_count": 61,
      "outputs": [
        {
          "output_type": "error",
          "ename": "AttributeError",
          "evalue": "ignored",
          "traceback": [
            "\u001b[0;31m---------------------------------------------------------------------------\u001b[0m",
            "\u001b[0;31mAttributeError\u001b[0m                            Traceback (most recent call last)",
            "\u001b[0;32m<ipython-input-61-e50824cf683b>\u001b[0m in \u001b[0;36m<module>\u001b[0;34m()\u001b[0m\n\u001b[0;32m----> 1\u001b[0;31m \u001b[0mpredictor\u001b[0m\u001b[0;34m.\u001b[0m\u001b[0msave\u001b[0m\u001b[0;34m(\u001b[0m\u001b[0;34m'/content/drive/MyDrive/covid/predictor.ag'\u001b[0m\u001b[0;34m)\u001b[0m\u001b[0;34m\u001b[0m\u001b[0;34m\u001b[0m\u001b[0m\n\u001b[0m",
            "\u001b[0;31mAttributeError\u001b[0m: 'NoneType' object has no attribute 'save'"
          ]
        }
      ]
    },
    {
      "cell_type": "markdown",
      "metadata": {
        "id": "OR41OeQ4opdd"
      },
      "source": [
        "# final evaluation on validation data"
      ]
    },
    {
      "cell_type": "code",
      "metadata": {
        "colab": {
          "base_uri": "https://localhost:8080/"
        },
        "id": "qhSbmtJxcPzr",
        "outputId": "d6672bd8-99b8-4ceb-d66d-c16aa44c16fd"
      },
      "source": [
        "#now loop each folder of each directoy and create a dataframe for each folder\n",
        "def evaluate(path,label):\n",
        "  pos_test_pred=[]\n",
        "  for i, j in zip(path,label):\n",
        "    test_df=pd.DataFrame(zip(i,j),columns=['image','label'])\n",
        "    test_df.to_csv('test_df.csv',index=False)\n",
        "    test_df=ImagePredictor.Dataset.from_csv('/content/test_df.csv')\n",
        "    pred=list(predictor.predict(test_df))\n",
        "    #find maximum occurent of element\n",
        "    pos_test_pred.append(max(pred,key=pred.count))\n",
        "    return pos_test_pred\n",
        "\n"
      ],
      "execution_count": 33,
      "outputs": [
        {
          "output_type": "stream",
          "text": [
            "165 165\n"
          ],
          "name": "stdout"
        }
      ]
    },
    {
      "cell_type": "code",
      "metadata": {
        "colab": {
          "base_uri": "https://localhost:8080/"
        },
        "id": "R4jK-as-cjQv",
        "outputId": "97576355-ce91-4739-d50c-e2be240e8676"
      },
      "source": [
        "neg_test_pred=[]\n",
        "for i, j in zip(test_neg_path,test_neg_label):\n",
        "  test_df=pd.DataFrame(zip(i,j),columns=['image','label'])\n",
        "  test_df.to_csv('test_df.csv',index=False)\n",
        "  test_df=ImagePredictor.Dataset.from_csv('/content/test_df.csv')\n",
        "  pred=list(predictor.predict(test_df))\n",
        "  #find maximum occurent of element\n",
        "  neg_test_pred.append(max(pred,key=pred.count))\n",
        "print(len(test_neg_path),len(neg_test_pred))  "
      ],
      "execution_count": 34,
      "outputs": [
        {
          "output_type": "stream",
          "text": [
            "209 209\n"
          ],
          "name": "stdout"
        }
      ]
    },
    {
      "cell_type": "code",
      "metadata": {
        "colab": {
          "base_uri": "https://localhost:8080/"
        },
        "id": "KOZ0dpPQctT6",
        "outputId": "312e755f-7a1e-4c1f-b178-8be52bddd522"
      },
      "source": [
        "test_true=test_pos_label+test_neg_label\n",
        "test_true=[int(np.mean(i)) for i in test_true]\n",
        "test_pred=pos_test_pred+neg_test_pred\n",
        "print(len(test_true),len(test_pred))  "
      ],
      "execution_count": 35,
      "outputs": [
        {
          "output_type": "stream",
          "text": [
            "374 374\n"
          ],
          "name": "stdout"
        }
      ]
    },
    {
      "cell_type": "code",
      "metadata": {
        "colab": {
          "base_uri": "https://localhost:8080/"
        },
        "id": "yFjKzcKLgNhb",
        "outputId": "c389de0d-b5c5-46af-b785-575097e7b6d7"
      },
      "source": [
        "from sklearn.metrics import classification_report\n",
        "print(classification_report(test_true,test_pred))"
      ],
      "execution_count": 36,
      "outputs": [
        {
          "output_type": "stream",
          "text": [
            "              precision    recall  f1-score   support\n",
            "\n",
            "           0       0.88      0.82      0.85       165\n",
            "           1       0.87      0.91      0.89       209\n",
            "\n",
            "    accuracy                           0.87       374\n",
            "   macro avg       0.87      0.87      0.87       374\n",
            "weighted avg       0.87      0.87      0.87       374\n",
            "\n"
          ],
          "name": "stdout"
        }
      ]
    },
    {
      "cell_type": "code",
      "metadata": {
        "id": "cffKCITUgULh"
      },
      "source": [
        ""
      ],
      "execution_count": null,
      "outputs": []
    }
  ]
}