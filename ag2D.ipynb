{
  "nbformat": 4,
  "nbformat_minor": 0,
  "metadata": {
    "colab": {
      "name": "ct-covid-3d.ipynb",
      "provenance": [],
      "collapsed_sections": [],
      "include_colab_link": true
    },
    "kernelspec": {
      "name": "python3",
      "display_name": "Python 3"
    },
    "language_info": {
      "name": "python"
    },
    "accelerator": "GPU",
    "widgets": {
      "application/vnd.jupyter.widget-state+json": {
        "588589e1601f4fd5a3193790426a153b": {
          "model_module": "@jupyter-widgets/controls",
          "model_name": "HBoxModel",
          "state": {
            "_view_name": "HBoxView",
            "_dom_classes": [],
            "_model_name": "HBoxModel",
            "_view_module": "@jupyter-widgets/controls",
            "_model_module_version": "1.5.0",
            "_view_count": null,
            "_view_module_version": "1.5.0",
            "box_style": "",
            "layout": "IPY_MODEL_5b77727e40214a30a8d5061a80046c64",
            "_model_module": "@jupyter-widgets/controls",
            "children": [
              "IPY_MODEL_53a21796cd70433c92ce68b43f3c2cd5",
              "IPY_MODEL_ba138b786d4a45ba9bd967d1df9748ff"
            ]
          }
        },
        "5b77727e40214a30a8d5061a80046c64": {
          "model_module": "@jupyter-widgets/base",
          "model_name": "LayoutModel",
          "state": {
            "_view_name": "LayoutView",
            "grid_template_rows": null,
            "right": null,
            "justify_content": null,
            "_view_module": "@jupyter-widgets/base",
            "overflow": null,
            "_model_module_version": "1.2.0",
            "_view_count": null,
            "flex_flow": null,
            "width": null,
            "min_width": null,
            "border": null,
            "align_items": null,
            "bottom": null,
            "_model_module": "@jupyter-widgets/base",
            "top": null,
            "grid_column": null,
            "overflow_y": null,
            "overflow_x": null,
            "grid_auto_flow": null,
            "grid_area": null,
            "grid_template_columns": null,
            "flex": null,
            "_model_name": "LayoutModel",
            "justify_items": null,
            "grid_row": null,
            "max_height": null,
            "align_content": null,
            "visibility": null,
            "align_self": null,
            "height": null,
            "min_height": null,
            "padding": null,
            "grid_auto_rows": null,
            "grid_gap": null,
            "max_width": null,
            "order": null,
            "_view_module_version": "1.2.0",
            "grid_template_areas": null,
            "object_position": null,
            "object_fit": null,
            "grid_auto_columns": null,
            "margin": null,
            "display": null,
            "left": null
          }
        },
        "53a21796cd70433c92ce68b43f3c2cd5": {
          "model_module": "@jupyter-widgets/controls",
          "model_name": "FloatProgressModel",
          "state": {
            "_view_name": "ProgressView",
            "style": "IPY_MODEL_940e02bb70d84b178d27cd33ca4f39e3",
            "_dom_classes": [],
            "description": "  0%",
            "_model_name": "FloatProgressModel",
            "bar_style": "",
            "max": 512,
            "_view_module": "@jupyter-widgets/controls",
            "_model_module_version": "1.5.0",
            "value": 0,
            "_view_count": null,
            "_view_module_version": "1.5.0",
            "orientation": "horizontal",
            "min": 0,
            "description_tooltip": null,
            "_model_module": "@jupyter-widgets/controls",
            "layout": "IPY_MODEL_013db3b8f45b4ff691cc0276208a9090"
          }
        },
        "ba138b786d4a45ba9bd967d1df9748ff": {
          "model_module": "@jupyter-widgets/controls",
          "model_name": "HTMLModel",
          "state": {
            "_view_name": "HTMLView",
            "style": "IPY_MODEL_11f04b4ea18a4d57a57ece0c92552e34",
            "_dom_classes": [],
            "description": "",
            "_model_name": "HTMLModel",
            "placeholder": "​",
            "_view_module": "@jupyter-widgets/controls",
            "_model_module_version": "1.5.0",
            "value": " 0/512 [00:00&lt;?, ?it/s]",
            "_view_count": null,
            "_view_module_version": "1.5.0",
            "description_tooltip": null,
            "_model_module": "@jupyter-widgets/controls",
            "layout": "IPY_MODEL_11aa425083e349e8ac4d8086a4622b63"
          }
        },
        "940e02bb70d84b178d27cd33ca4f39e3": {
          "model_module": "@jupyter-widgets/controls",
          "model_name": "ProgressStyleModel",
          "state": {
            "_view_name": "StyleView",
            "_model_name": "ProgressStyleModel",
            "description_width": "initial",
            "_view_module": "@jupyter-widgets/base",
            "_model_module_version": "1.5.0",
            "_view_count": null,
            "_view_module_version": "1.2.0",
            "bar_color": null,
            "_model_module": "@jupyter-widgets/controls"
          }
        },
        "013db3b8f45b4ff691cc0276208a9090": {
          "model_module": "@jupyter-widgets/base",
          "model_name": "LayoutModel",
          "state": {
            "_view_name": "LayoutView",
            "grid_template_rows": null,
            "right": null,
            "justify_content": null,
            "_view_module": "@jupyter-widgets/base",
            "overflow": null,
            "_model_module_version": "1.2.0",
            "_view_count": null,
            "flex_flow": null,
            "width": null,
            "min_width": null,
            "border": null,
            "align_items": null,
            "bottom": null,
            "_model_module": "@jupyter-widgets/base",
            "top": null,
            "grid_column": null,
            "overflow_y": null,
            "overflow_x": null,
            "grid_auto_flow": null,
            "grid_area": null,
            "grid_template_columns": null,
            "flex": null,
            "_model_name": "LayoutModel",
            "justify_items": null,
            "grid_row": null,
            "max_height": null,
            "align_content": null,
            "visibility": null,
            "align_self": null,
            "height": null,
            "min_height": null,
            "padding": null,
            "grid_auto_rows": null,
            "grid_gap": null,
            "max_width": null,
            "order": null,
            "_view_module_version": "1.2.0",
            "grid_template_areas": null,
            "object_position": null,
            "object_fit": null,
            "grid_auto_columns": null,
            "margin": null,
            "display": null,
            "left": null
          }
        },
        "11f04b4ea18a4d57a57ece0c92552e34": {
          "model_module": "@jupyter-widgets/controls",
          "model_name": "DescriptionStyleModel",
          "state": {
            "_view_name": "StyleView",
            "_model_name": "DescriptionStyleModel",
            "description_width": "",
            "_view_module": "@jupyter-widgets/base",
            "_model_module_version": "1.5.0",
            "_view_count": null,
            "_view_module_version": "1.2.0",
            "_model_module": "@jupyter-widgets/controls"
          }
        },
        "11aa425083e349e8ac4d8086a4622b63": {
          "model_module": "@jupyter-widgets/base",
          "model_name": "LayoutModel",
          "state": {
            "_view_name": "LayoutView",
            "grid_template_rows": null,
            "right": null,
            "justify_content": null,
            "_view_module": "@jupyter-widgets/base",
            "overflow": null,
            "_model_module_version": "1.2.0",
            "_view_count": null,
            "flex_flow": null,
            "width": null,
            "min_width": null,
            "border": null,
            "align_items": null,
            "bottom": null,
            "_model_module": "@jupyter-widgets/base",
            "top": null,
            "grid_column": null,
            "overflow_y": null,
            "overflow_x": null,
            "grid_auto_flow": null,
            "grid_area": null,
            "grid_template_columns": null,
            "flex": null,
            "_model_name": "LayoutModel",
            "justify_items": null,
            "grid_row": null,
            "max_height": null,
            "align_content": null,
            "visibility": null,
            "align_self": null,
            "height": null,
            "min_height": null,
            "padding": null,
            "grid_auto_rows": null,
            "grid_gap": null,
            "max_width": null,
            "order": null,
            "_view_module_version": "1.2.0",
            "grid_template_areas": null,
            "object_position": null,
            "object_fit": null,
            "grid_auto_columns": null,
            "margin": null,
            "display": null,
            "left": null
          }
        }
      }
    }
  },
  "cells": [
    {
      "cell_type": "markdown",
      "metadata": {
        "id": "view-in-github",
        "colab_type": "text"
      },
      "source": [
        "<a href=\"https://colab.research.google.com/github/talhaanwarch/mia-covid19/blob/main/ag2D.ipynb\" target=\"_parent\"><img src=\"https://colab.research.google.com/assets/colab-badge.svg\" alt=\"Open In Colab\"/></a>"
      ]
    },
    {
      "cell_type": "markdown",
      "metadata": {
        "id": "4lAlhIPnoc6W"
      },
      "source": [
        "# install packages"
      ]
    },
    {
      "cell_type": "code",
      "metadata": {
        "colab": {
          "base_uri": "https://localhost:8080/"
        },
        "id": "Kurl6QQlwn_j",
        "outputId": "5fccbd3c-65d5-42de-cafd-157c0ed2b1eb"
      },
      "source": [
        "!nvidia-smi -L"
      ],
      "execution_count": 1,
      "outputs": [
        {
          "output_type": "stream",
          "text": [
            "GPU 0: Tesla T4 (UUID: GPU-a00c39e9-d550-bbfc-daff-3fa1728e1be0)\n"
          ],
          "name": "stdout"
        }
      ]
    },
    {
      "cell_type": "code",
      "metadata": {
        "id": "gZk6eZ13xGoK"
      },
      "source": [
        "#restart kernel after installing packages and run it again\n",
        "%%capture \n",
        "!pip install -U  pip\n",
        "!pip install -U setuptools wheel\n",
        "!pip install -U \"mxnet_cu110<2.0.0\"\n",
        "!pip install  autogluon  # autogluon==0.2.0"
      ],
      "execution_count": 2,
      "outputs": []
    },
    {
      "cell_type": "markdown",
      "metadata": {
        "id": "oL0OD4vlndII"
      },
      "source": [
        "# Get data from drive"
      ]
    },
    {
      "cell_type": "code",
      "metadata": {
        "colab": {
          "base_uri": "https://localhost:8080/"
        },
        "id": "vDOjqcdSwzNg",
        "outputId": "9e836b2b-3097-4f61-be30-01a6047360e9"
      },
      "source": [
        "#connect drive with colab notebook/\n",
        "from google.colab import drive\n",
        "drive.mount('/content/drive',force_remount=True)"
      ],
      "execution_count": 3,
      "outputs": [
        {
          "output_type": "stream",
          "text": [
            "Mounted at /content/drive\n"
          ],
          "name": "stdout"
        }
      ]
    },
    {
      "cell_type": "code",
      "metadata": {
        "id": "N9xh0H24w0i7"
      },
      "source": [
        "#copy data from drive to colab\n",
        "!cp /content/drive/MyDrive/covid/train.zip /content/\n",
        "!cp /content/drive/MyDrive/covid/val.zip /content/"
      ],
      "execution_count": 4,
      "outputs": []
    },
    {
      "cell_type": "code",
      "metadata": {
        "id": "dwA7lAvmw4MU"
      },
      "source": [
        "#unzip data\n",
        "%%capture \n",
        "!unzip /content/train.zip\n",
        "!rm /content/train.zip\n",
        "!mv /content/resized /content/train\n",
        "#val data\n",
        "!unzip /content/val.zip -d val\n",
        "!rm /content/val.zip\n"
      ],
      "execution_count": 5,
      "outputs": []
    },
    {
      "cell_type": "markdown",
      "metadata": {
        "id": "5Lh9PL8poZN-"
      },
      "source": [
        "# import packages"
      ]
    },
    {
      "cell_type": "code",
      "metadata": {
        "id": "F1Fe9plTw6rx"
      },
      "source": [
        "import pandas as pd\n",
        "import numpy as np\n",
        "from glob import glob\n",
        "import cv2\n",
        "import pandas as pd\n",
        "import autogluon.core as ag\n",
        "from autogluon.vision import ImagePredictor\n",
        "from sklearn.metrics import classification_report\n",
        "from sklearn.model_selection import train_test_split\n"
      ],
      "execution_count": 6,
      "outputs": []
    },
    {
      "cell_type": "markdown",
      "metadata": {
        "id": "XmcC7dfenYhK"
      },
      "source": [
        "# prepare data"
      ]
    },
    {
      "cell_type": "code",
      "metadata": {
        "colab": {
          "base_uri": "https://localhost:8080/",
          "height": 35
        },
        "id": "jfcH_EVGs4wY",
        "outputId": "21aeac63-620f-4ee3-f865-ddbc6ebcdea1"
      },
      "source": [
        "glob('/content/train'+'/*/')[1].split('/')[-2]"
      ],
      "execution_count": 7,
      "outputs": [
        {
          "output_type": "execute_result",
          "data": {
            "application/vnd.google.colaboratory.intrinsic+json": {
              "type": "string"
            },
            "text/plain": [
              "'non-covid'"
            ]
          },
          "metadata": {
            "tags": []
          },
          "execution_count": 7
        }
      ]
    },
    {
      "cell_type": "code",
      "metadata": {
        "id": "axc4RsfLpfby"
      },
      "source": [
        "def flatten(path,label=None):\n",
        "  '''\n",
        "  path: images path in a list\n",
        "  label: corresponding label in list\n",
        "  '''\n",
        "  path = [item for sublist in path for item in sublist]\n",
        "  label = [item for sublist in label for item in sublist]\n",
        "  return path, label\n",
        "  \n",
        "\n",
        "def prepare(path,split=False,flat=True):\n",
        "  '''\n",
        "  Pass the path of main folder in which binary class folders are present\n",
        "  Split True will split the data and return two sets\n",
        "  '''\n",
        "  main_path=glob(path+'/*/')\n",
        "  pos_path=[glob(folder+'*.jpg') for folder in glob(main_path[0]+'*/')]\n",
        "  neg_path=[glob(folder+'*.jpg') for folder in glob(main_path[1]+'*/')]\n",
        "  #get folder name as label\n",
        "  pos_label=[[main_path[0].split('/')[-2]]*len(i)  for i in pos_path]\n",
        "  neg_label=[[main_path[1].split('/')[-2]]*len(i)  for i in neg_path]\n",
        "  path=pos_path+neg_path\n",
        "  label=pos_label+neg_label\n",
        "  if flat:\n",
        "    if split:\n",
        "      train_path,val_path,train_label,val_label=train_test_split(path,label,test_size=0.2)\n",
        "      train_path,train_label=flatten(train_path,train_label)\n",
        "      val_path,val_label=flatten(val_path,val_label)\n",
        "      return train_path,val_path,train_label,val_label\n",
        "    else:\n",
        "      path,label=flatten(path,label)\n",
        "      return path,label\n",
        "  else:\n",
        "    return path,label\n",
        "  "
      ],
      "execution_count": 8,
      "outputs": []
    },
    {
      "cell_type": "code",
      "metadata": {
        "id": "Eq_BuqICrddT"
      },
      "source": [
        "# train_path,val_path,train_label,val_label=prepare('/content/train',split=True)\n",
        "# test_path,test_label=prepare('/content/val',split=False)\n",
        "# print('Train Images and labels',len(train_path),len(train_label))\n",
        "# print('Val Images and labels',len(val_path),len(val_label))\n",
        "# print('Test Images and labels',len(test_path),len(test_label))"
      ],
      "execution_count": 9,
      "outputs": []
    },
    {
      "cell_type": "code",
      "metadata": {
        "id": "Y5pPOAowx4LW"
      },
      "source": [
        "# train_df=pd.DataFrame(zip(train_path,train_label),columns=['image','label'])\n",
        "# train_df = train_df.sample(frac=1).reset_index(drop=True)\n",
        "# train_df.label=train_df.label.map({'non-covid':0,'covid':1})\n",
        "# train_df.to_csv('/content/drive/MyDrive/covid/train_df.csv',index=False)\n",
        "# train_df.head()"
      ],
      "execution_count": 10,
      "outputs": []
    },
    {
      "cell_type": "code",
      "metadata": {
        "id": "seQ5Mgftx4N4"
      },
      "source": [
        "# val_df=pd.DataFrame(zip(val_path,val_label),columns=['image','label'])\n",
        "# val_df = val_df.sample(frac=1).reset_index(drop=True)\n",
        "# val_df.label=val_df.label.map({'non-covid':0,'covid':1})\n",
        "# val_df.to_csv('/content/drive/MyDrive/covid/val_df.csv',index=False)\n",
        "# val_df.head()"
      ],
      "execution_count": 11,
      "outputs": []
    },
    {
      "cell_type": "code",
      "metadata": {
        "id": "CS-9SUUzwKqA"
      },
      "source": [
        "# test_df=pd.DataFrame(zip(test_path,test_label),columns=['image','label'])\n",
        "# test_df = test_df.sample(frac=1).reset_index(drop=True)\n",
        "# test_df.label=test_df.label.map({'non-covid':0,'covid':1})\n",
        "# test_df.to_csv('/content/drive/MyDrive/covid/test_df.csv',index=False)\n",
        "# test_df.head()"
      ],
      "execution_count": 12,
      "outputs": []
    },
    {
      "cell_type": "code",
      "metadata": {
        "id": "bxQVGE4mNpqo"
      },
      "source": [
        "train_df=pd.read_csv('/content/drive/MyDrive/covid/train_df.csv')\n",
        "\n",
        "val_df=pd.read_csv('/content/drive/MyDrive/covid/val_df.csv')\n",
        "\n",
        "test_df=pd.read_csv('/content/drive/MyDrive/covid/test_df.csv')\n"
      ],
      "execution_count": 13,
      "outputs": []
    },
    {
      "cell_type": "markdown",
      "metadata": {
        "id": "TgGJIw7FniVC"
      },
      "source": [
        "# train model"
      ]
    },
    {
      "cell_type": "code",
      "metadata": {
        "colab": {
          "base_uri": "https://localhost:8080/",
          "height": 122,
          "referenced_widgets": [
            "588589e1601f4fd5a3193790426a153b",
            "5b77727e40214a30a8d5061a80046c64",
            "53a21796cd70433c92ce68b43f3c2cd5",
            "ba138b786d4a45ba9bd967d1df9748ff",
            "940e02bb70d84b178d27cd33ca4f39e3",
            "013db3b8f45b4ff691cc0276208a9090",
            "11f04b4ea18a4d57a57ece0c92552e34",
            "11aa425083e349e8ac4d8086a4622b63"
          ]
        },
        "id": "CHb0wa8en2jm",
        "outputId": "00bd1a33-7a70-4d2e-d234-6f365e0aaecf"
      },
      "source": [
        "%%time\n",
        "predictor = ImagePredictor(verbosity=1)\n",
        "predictor.fit(train_df,tuning_data=val_df,presets=['good_quality_fast_inference']) "
      ],
      "execution_count": null,
      "outputs": [
        {
          "output_type": "stream",
          "text": [
            "The number of requested GPUs is greater than the number of available GPUs.Reduce the number to 1\n"
          ],
          "name": "stderr"
        },
        {
          "output_type": "display_data",
          "data": {
            "application/vnd.jupyter.widget-view+json": {
              "model_id": "588589e1601f4fd5a3193790426a153b",
              "version_minor": 0,
              "version_major": 2
            },
            "text/plain": [
              "HBox(children=(FloatProgress(value=0.0, max=512.0), HTML(value='')))"
            ]
          },
          "metadata": {
            "tags": []
          }
        },
        {
          "output_type": "stream",
          "text": [
            "Downloading /root/.mxnet/models/resnet50_v1b-0ecdba34.zip from https://apache-mxnet.s3-accelerate.dualstack.amazonaws.com/gluon/models/resnet50_v1b-0ecdba34.zip...\n"
          ],
          "name": "stdout"
        },
        {
          "output_type": "stream",
          "text": [
            "100%|██████████| 55344/55344 [00:01<00:00, 37938.38KB/s]\n"
          ],
          "name": "stderr"
        }
      ]
    },
    {
      "cell_type": "code",
      "metadata": {
        "id": "xmyTmYo_n-qr"
      },
      "source": [
        "fit_result = predictor.fit_summary()\n",
        "print('Top-1 train acc: %.3f, val acc: %.3f' %(fit_result['train_acc'], fit_result['valid_acc']))\n",
        "fit_result\n"
      ],
      "execution_count": null,
      "outputs": []
    },
    {
      "cell_type": "code",
      "metadata": {
        "id": "WoJLpt1hC-_1"
      },
      "source": [
        "predictor.save('/content/drive/MyDrive/covid/predictor_gqfi.ag')\n"
      ],
      "execution_count": null,
      "outputs": []
    },
    {
      "cell_type": "code",
      "metadata": {
        "id": "a3qRwp1fn7ZL"
      },
      "source": [
        "val_df=ImagePredictor.Dataset.from_csv('/content/drive/MyDrive/covid/val_df.csv')\n",
        "res = predictor.evaluate(val_df)\n",
        "print('Top-1 test acc: %.3f' % res[0])\n",
        "val_pred=predictor.predict(test_df)\n",
        "print(classification_report(test_df.label,val_pred))"
      ],
      "execution_count": null,
      "outputs": []
    },
    {
      "cell_type": "code",
      "metadata": {
        "id": "TzdmkKu_oL7W"
      },
      "source": [
        "test_df=ImagePredictor.Dataset.from_csv('/content/drive/MyDrive/covid/test_df.csv')\n",
        "res = predictor.evaluate(test_df)\n",
        "print('Top-1 test acc: %.3f' % res[0])"
      ],
      "execution_count": null,
      "outputs": []
    },
    {
      "cell_type": "code",
      "metadata": {
        "id": "zHEJUrRWoSxC"
      },
      "source": [
        "test_pred=predictor.predict(test_df)\n",
        "print(classification_report(test_df.label,test_pred))"
      ],
      "execution_count": null,
      "outputs": []
    },
    {
      "cell_type": "markdown",
      "metadata": {
        "id": "OR41OeQ4opdd"
      },
      "source": [
        "# final evaluation on validation data"
      ]
    },
    {
      "cell_type": "code",
      "metadata": {
        "id": "Fzl5iFpbR_zb"
      },
      "source": [
        "#predictor=predictor.load('/content/drive/MyDrive/covid/predictor.ag')\n"
      ],
      "execution_count": null,
      "outputs": []
    },
    {
      "cell_type": "code",
      "metadata": {
        "id": "PEf1hTmmTVup"
      },
      "source": [
        "path,label=prepare('/content/val',split=False,flat=False)\n",
        "len(path),len(label)"
      ],
      "execution_count": null,
      "outputs": []
    },
    {
      "cell_type": "code",
      "metadata": {
        "id": "qhSbmtJxcPzr"
      },
      "source": [
        "#now loop each folder of each directoy and create a dataframe for each folder\n",
        "def evaluate(path,label):\n",
        "  test_pred,test_true=[],[]\n",
        "  for i, j in zip(path,label):\n",
        "    test_df=pd.DataFrame(zip(i,j),columns=['image','label'])\n",
        "    test_df.label=test_df.label.map({'non-covid':0,'covid':1})\n",
        "    test_df.to_csv('test_df.csv',index=False)\n",
        "    test_df=ImagePredictor.Dataset.from_csv('/content/test_df.csv')\n",
        "    pred=list(predictor.predict(test_df))\n",
        "    #find maximum occurent of element\n",
        "    test_pred.append(max(pred,key=pred.count))\n",
        "    test_true.append(test_df.label.mean())\n",
        "  return test_pred,test_true\n",
        "\n"
      ],
      "execution_count": null,
      "outputs": []
    },
    {
      "cell_type": "code",
      "metadata": {
        "id": "wO1_WF7hSS3z"
      },
      "source": [
        "test_pred,test_true=evaluate(path,label)"
      ],
      "execution_count": null,
      "outputs": []
    },
    {
      "cell_type": "code",
      "metadata": {
        "id": "yFjKzcKLgNhb"
      },
      "source": [
        "print(classification_report(test_true,test_pred,target_names=['non-covid','covid']))"
      ],
      "execution_count": null,
      "outputs": []
    },
    {
      "cell_type": "code",
      "metadata": {
        "id": "cffKCITUgULh"
      },
      "source": [
        ""
      ],
      "execution_count": null,
      "outputs": []
    }
  ]
}