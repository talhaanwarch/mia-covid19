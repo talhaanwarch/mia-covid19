{
  "nbformat": 4,
  "nbformat_minor": 0,
  "metadata": {
    "colab": {
      "name": "ct-covid-3d.ipynb",
      "provenance": [],
      "collapsed_sections": [],
      "include_colab_link": true
    },
    "kernelspec": {
      "name": "python3",
      "display_name": "Python 3"
    },
    "language_info": {
      "name": "python"
    },
    "accelerator": "GPU"
  },
  "cells": [
    {
      "cell_type": "markdown",
      "metadata": {
        "id": "view-in-github",
        "colab_type": "text"
      },
      "source": [
        "<a href=\"https://colab.research.google.com/github/talhaanwarch/mia-covid19/blob/main/ag2D.ipynb\" target=\"_parent\"><img src=\"https://colab.research.google.com/assets/colab-badge.svg\" alt=\"Open In Colab\"/></a>"
      ]
    },
    {
      "cell_type": "markdown",
      "metadata": {
        "id": "4lAlhIPnoc6W"
      },
      "source": [
        "# install packages"
      ]
    },
    {
      "cell_type": "code",
      "metadata": {
        "colab": {
          "base_uri": "https://localhost:8080/"
        },
        "id": "Kurl6QQlwn_j",
        "outputId": "a1b93a69-afce-4fef-88fa-42cd488346af"
      },
      "source": [
        "!nvidia-smi -L"
      ],
      "execution_count": 1,
      "outputs": [
        {
          "output_type": "stream",
          "text": [
            "GPU 0: Tesla T4 (UUID: GPU-4bac73b0-d88a-8bb8-7dde-2469a5ea266b)\n"
          ],
          "name": "stdout"
        }
      ]
    },
    {
      "cell_type": "code",
      "metadata": {
        "id": "gZk6eZ13xGoK"
      },
      "source": [
        "#restart kernel after installing packages and run it again\n",
        "%%capture \n",
        "!pip install -U  pip\n",
        "!pip install -U setuptools wheel\n",
        "!pip install -U \"mxnet_cu110<2.0.0\"\n",
        "!pip install  autogluon  # autogluon==0.2.0"
      ],
      "execution_count": 2,
      "outputs": []
    },
    {
      "cell_type": "markdown",
      "metadata": {
        "id": "oL0OD4vlndII"
      },
      "source": [
        "# Get data from drive"
      ]
    },
    {
      "cell_type": "code",
      "metadata": {
        "colab": {
          "base_uri": "https://localhost:8080/"
        },
        "id": "vDOjqcdSwzNg",
        "outputId": "fb302b53-32a6-4d23-fb52-79abf65ddd91"
      },
      "source": [
        "#connect drive with colab notebook/\n",
        "from google.colab import drive\n",
        "drive.mount('/content/drive',force_remount=True)"
      ],
      "execution_count": 3,
      "outputs": [
        {
          "output_type": "stream",
          "text": [
            "Mounted at /content/drive\n"
          ],
          "name": "stdout"
        }
      ]
    },
    {
      "cell_type": "code",
      "metadata": {
        "id": "N9xh0H24w0i7"
      },
      "source": [
        "#copy data from drive to colab\n",
        "!cp /content/drive/MyDrive/covid/train.zip /content/\n",
        "!cp /content/drive/MyDrive/covid/val.zip /content/"
      ],
      "execution_count": 4,
      "outputs": []
    },
    {
      "cell_type": "code",
      "metadata": {
        "id": "dwA7lAvmw4MU"
      },
      "source": [
        "#unzip data\n",
        "%%capture \n",
        "!unzip /content/train.zip\n",
        "!rm /content/train.zip\n",
        "!mv /content/resized /content/train\n",
        "#val data\n",
        "!unzip /content/val.zip -d val\n",
        "!rm /content/val.zip\n"
      ],
      "execution_count": 5,
      "outputs": []
    },
    {
      "cell_type": "markdown",
      "metadata": {
        "id": "5Lh9PL8poZN-"
      },
      "source": [
        "# import packages"
      ]
    },
    {
      "cell_type": "code",
      "metadata": {
        "id": "F1Fe9plTw6rx"
      },
      "source": [
        "import pandas as pd\n",
        "import numpy as np\n",
        "from glob import glob\n",
        "import cv2\n",
        "import pandas as pd\n",
        "import autogluon.core as ag\n",
        "from autogluon.vision import ImagePredictor\n",
        "from sklearn.metrics import classification_report\n",
        "from sklearn.model_selection import train_test_split\n"
      ],
      "execution_count": 6,
      "outputs": []
    },
    {
      "cell_type": "markdown",
      "metadata": {
        "id": "XmcC7dfenYhK"
      },
      "source": [
        "# prepare data"
      ]
    },
    {
      "cell_type": "code",
      "metadata": {
        "colab": {
          "base_uri": "https://localhost:8080/",
          "height": 35
        },
        "id": "jfcH_EVGs4wY",
        "outputId": "b5e0f0bb-3b4b-435f-955a-cefd469f1371"
      },
      "source": [
        "glob('/content/train'+'/*/')[1].split('/')[-2]"
      ],
      "execution_count": 7,
      "outputs": [
        {
          "output_type": "execute_result",
          "data": {
            "application/vnd.google.colaboratory.intrinsic+json": {
              "type": "string"
            },
            "text/plain": [
              "'non-covid'"
            ]
          },
          "metadata": {
            "tags": []
          },
          "execution_count": 7
        }
      ]
    },
    {
      "cell_type": "code",
      "metadata": {
        "id": "axc4RsfLpfby"
      },
      "source": [
        "def flatten(path,label=None):\n",
        "  '''\n",
        "  path: images path in a list\n",
        "  label: corresponding label in list\n",
        "  '''\n",
        "  path = [item for sublist in path for item in sublist]\n",
        "  label = [item for sublist in label for item in sublist]\n",
        "  return path, label\n",
        "  \n",
        "\n",
        "def prepare(path,split=False,flat=True):\n",
        "  '''\n",
        "  Pass the path of main folder in which binary class folders are present\n",
        "  Split True will split the data and return two sets\n",
        "  '''\n",
        "  main_path=glob(path+'/*/')\n",
        "  pos_path=[glob(folder+'*.jpg') for folder in glob(main_path[0]+'*/')]\n",
        "  neg_path=[glob(folder+'*.jpg') for folder in glob(main_path[1]+'*/')]\n",
        "  #get folder name as label\n",
        "  pos_label=[[main_path[0].split('/')[-2]]*len(i)  for i in pos_path]\n",
        "  neg_label=[[main_path[1].split('/')[-2]]*len(i)  for i in neg_path]\n",
        "  path=pos_path+neg_path\n",
        "  label=pos_label+neg_label\n",
        "  if flat:\n",
        "    if split:\n",
        "      train_path,val_path,train_label,val_label=train_test_split(path,label,test_size=0.2)\n",
        "      train_path,train_label=flatten(train_path,train_label)\n",
        "      val_path,val_label=flatten(val_path,val_label)\n",
        "      return train_path,val_path,train_label,val_label\n",
        "    else:\n",
        "      path,label=flatten(path,label)\n",
        "      return path,label\n",
        "  else:\n",
        "    return path,label\n",
        "  "
      ],
      "execution_count": 10,
      "outputs": []
    },
    {
      "cell_type": "code",
      "metadata": {
        "colab": {
          "base_uri": "https://localhost:8080/"
        },
        "id": "Eq_BuqICrddT",
        "outputId": "b857a49f-a580-4a5a-ec0b-ff87e6ffb48c"
      },
      "source": [
        "train_path,val_path,train_label,val_label=prepare('/content/train',split=True)\n",
        "test_path,test_label=prepare('/content/val',split=False)\n",
        "print('Train Images and labels',len(train_path),len(train_label))\n",
        "print('Val Images and labels',len(val_path),len(val_label))\n",
        "print('Test Images and labels',len(test_path),len(test_label))"
      ],
      "execution_count": 11,
      "outputs": [
        {
          "output_type": "stream",
          "text": [
            "Train Images and labels 269082 269082\n",
            "Val Images and labels 66590 66590\n",
            "Test Images and labels 75532 75532\n"
          ],
          "name": "stdout"
        }
      ]
    },
    {
      "cell_type": "code",
      "metadata": {
        "id": "Y5pPOAowx4LW",
        "colab": {
          "base_uri": "https://localhost:8080/",
          "height": 199
        },
        "outputId": "b6ac7489-cab2-4fc6-bbea-72640334e947"
      },
      "source": [
        "train_df=pd.DataFrame(zip(train_path,train_label),columns=['image','label'])\n",
        "train_df = train_df.sample(frac=1).reset_index(drop=True)\n",
        "train_df.label=train_df.label.map({'non-covid':0,'covid':1})\n",
        "train_df.to_csv('/content/drive/MyDrive/covid/train_df.csv',index=False)\n",
        "train_df.head()"
      ],
      "execution_count": 12,
      "outputs": [
        {
          "output_type": "execute_result",
          "data": {
            "text/html": [
              "<div>\n",
              "<style scoped>\n",
              "    .dataframe tbody tr th:only-of-type {\n",
              "        vertical-align: middle;\n",
              "    }\n",
              "\n",
              "    .dataframe tbody tr th {\n",
              "        vertical-align: top;\n",
              "    }\n",
              "\n",
              "    .dataframe thead th {\n",
              "        text-align: right;\n",
              "    }\n",
              "</style>\n",
              "<table border=\"1\" class=\"dataframe\">\n",
              "  <thead>\n",
              "    <tr style=\"text-align: right;\">\n",
              "      <th></th>\n",
              "      <th>image</th>\n",
              "      <th>label</th>\n",
              "    </tr>\n",
              "  </thead>\n",
              "  <tbody>\n",
              "    <tr>\n",
              "      <th>0</th>\n",
              "      <td>/content/train/covid/ct_scan_119/155.jpg</td>\n",
              "      <td>1</td>\n",
              "    </tr>\n",
              "    <tr>\n",
              "      <th>1</th>\n",
              "      <td>/content/train/covid/ct_scan_313/330.jpg</td>\n",
              "      <td>1</td>\n",
              "    </tr>\n",
              "    <tr>\n",
              "      <th>2</th>\n",
              "      <td>/content/train/covid/ct_scan_215/287.jpg</td>\n",
              "      <td>1</td>\n",
              "    </tr>\n",
              "    <tr>\n",
              "      <th>3</th>\n",
              "      <td>/content/train/non-covid/ct_scan_417/80.jpg</td>\n",
              "      <td>0</td>\n",
              "    </tr>\n",
              "    <tr>\n",
              "      <th>4</th>\n",
              "      <td>/content/train/non-covid/ct_scan_261/416.jpg</td>\n",
              "      <td>0</td>\n",
              "    </tr>\n",
              "  </tbody>\n",
              "</table>\n",
              "</div>"
            ],
            "text/plain": [
              "                                          image  label\n",
              "0      /content/train/covid/ct_scan_119/155.jpg      1\n",
              "1      /content/train/covid/ct_scan_313/330.jpg      1\n",
              "2      /content/train/covid/ct_scan_215/287.jpg      1\n",
              "3   /content/train/non-covid/ct_scan_417/80.jpg      0\n",
              "4  /content/train/non-covid/ct_scan_261/416.jpg      0"
            ]
          },
          "metadata": {
            "tags": []
          },
          "execution_count": 12
        }
      ]
    },
    {
      "cell_type": "code",
      "metadata": {
        "id": "seQ5Mgftx4N4",
        "colab": {
          "base_uri": "https://localhost:8080/",
          "height": 199
        },
        "outputId": "52f4fdf8-0855-40f8-a60a-34722b8282ff"
      },
      "source": [
        "val_df=pd.DataFrame(zip(val_path,val_label),columns=['image','label'])\n",
        "val_df = val_df.sample(frac=1).reset_index(drop=True)\n",
        "val_df.label=val_df.label.map({'non-covid':0,'covid':1})\n",
        "val_df.to_csv('/content/drive/MyDrive/covid/val_df.csv',index=False)\n",
        "val_df.head()"
      ],
      "execution_count": 13,
      "outputs": [
        {
          "output_type": "execute_result",
          "data": {
            "text/html": [
              "<div>\n",
              "<style scoped>\n",
              "    .dataframe tbody tr th:only-of-type {\n",
              "        vertical-align: middle;\n",
              "    }\n",
              "\n",
              "    .dataframe tbody tr th {\n",
              "        vertical-align: top;\n",
              "    }\n",
              "\n",
              "    .dataframe thead th {\n",
              "        text-align: right;\n",
              "    }\n",
              "</style>\n",
              "<table border=\"1\" class=\"dataframe\">\n",
              "  <thead>\n",
              "    <tr style=\"text-align: right;\">\n",
              "      <th></th>\n",
              "      <th>image</th>\n",
              "      <th>label</th>\n",
              "    </tr>\n",
              "  </thead>\n",
              "  <tbody>\n",
              "    <tr>\n",
              "      <th>0</th>\n",
              "      <td>/content/train/covid/ct_scan_32/194.jpg</td>\n",
              "      <td>1</td>\n",
              "    </tr>\n",
              "    <tr>\n",
              "      <th>1</th>\n",
              "      <td>/content/train/covid/ct_scan_394/257.jpg</td>\n",
              "      <td>1</td>\n",
              "    </tr>\n",
              "    <tr>\n",
              "      <th>2</th>\n",
              "      <td>/content/train/covid/ct_scan_563/259.jpg</td>\n",
              "      <td>1</td>\n",
              "    </tr>\n",
              "    <tr>\n",
              "      <th>3</th>\n",
              "      <td>/content/train/covid/ct_scan_216/234.jpg</td>\n",
              "      <td>1</td>\n",
              "    </tr>\n",
              "    <tr>\n",
              "      <th>4</th>\n",
              "      <td>/content/train/non-covid/ct_scan_106/329.jpg</td>\n",
              "      <td>0</td>\n",
              "    </tr>\n",
              "  </tbody>\n",
              "</table>\n",
              "</div>"
            ],
            "text/plain": [
              "                                          image  label\n",
              "0       /content/train/covid/ct_scan_32/194.jpg      1\n",
              "1      /content/train/covid/ct_scan_394/257.jpg      1\n",
              "2      /content/train/covid/ct_scan_563/259.jpg      1\n",
              "3      /content/train/covid/ct_scan_216/234.jpg      1\n",
              "4  /content/train/non-covid/ct_scan_106/329.jpg      0"
            ]
          },
          "metadata": {
            "tags": []
          },
          "execution_count": 13
        }
      ]
    },
    {
      "cell_type": "code",
      "metadata": {
        "colab": {
          "base_uri": "https://localhost:8080/",
          "height": 199
        },
        "id": "CS-9SUUzwKqA",
        "outputId": "00968a96-f533-41c2-85ee-ac4fa5ce54ec"
      },
      "source": [
        "test_df=pd.DataFrame(zip(test_path,test_label),columns=['image','label'])\n",
        "test_df = test_df.sample(frac=1).reset_index(drop=True)\n",
        "test_df.label=test_df.label.map({'non-covid':0,'covid':1})\n",
        "test_df.to_csv('/content/drive/MyDrive/covid/test_df.csv',index=False)\n",
        "test_df.head()"
      ],
      "execution_count": 14,
      "outputs": [
        {
          "output_type": "execute_result",
          "data": {
            "text/html": [
              "<div>\n",
              "<style scoped>\n",
              "    .dataframe tbody tr th:only-of-type {\n",
              "        vertical-align: middle;\n",
              "    }\n",
              "\n",
              "    .dataframe tbody tr th {\n",
              "        vertical-align: top;\n",
              "    }\n",
              "\n",
              "    .dataframe thead th {\n",
              "        text-align: right;\n",
              "    }\n",
              "</style>\n",
              "<table border=\"1\" class=\"dataframe\">\n",
              "  <thead>\n",
              "    <tr style=\"text-align: right;\">\n",
              "      <th></th>\n",
              "      <th>image</th>\n",
              "      <th>label</th>\n",
              "    </tr>\n",
              "  </thead>\n",
              "  <tbody>\n",
              "    <tr>\n",
              "      <th>0</th>\n",
              "      <td>/content/val/non-covid/ct_scan_82/56.jpg</td>\n",
              "      <td>0</td>\n",
              "    </tr>\n",
              "    <tr>\n",
              "      <th>1</th>\n",
              "      <td>/content/val/non-covid/ct_scan_2/10.jpg</td>\n",
              "      <td>0</td>\n",
              "    </tr>\n",
              "    <tr>\n",
              "      <th>2</th>\n",
              "      <td>/content/val/non-covid/ct_scan_44/141.jpg</td>\n",
              "      <td>0</td>\n",
              "    </tr>\n",
              "    <tr>\n",
              "      <th>3</th>\n",
              "      <td>/content/val/covid/ct_scan_160/56.jpg</td>\n",
              "      <td>1</td>\n",
              "    </tr>\n",
              "    <tr>\n",
              "      <th>4</th>\n",
              "      <td>/content/val/covid/ct_scan_50/41.jpg</td>\n",
              "      <td>1</td>\n",
              "    </tr>\n",
              "  </tbody>\n",
              "</table>\n",
              "</div>"
            ],
            "text/plain": [
              "                                       image  label\n",
              "0   /content/val/non-covid/ct_scan_82/56.jpg      0\n",
              "1    /content/val/non-covid/ct_scan_2/10.jpg      0\n",
              "2  /content/val/non-covid/ct_scan_44/141.jpg      0\n",
              "3      /content/val/covid/ct_scan_160/56.jpg      1\n",
              "4       /content/val/covid/ct_scan_50/41.jpg      1"
            ]
          },
          "metadata": {
            "tags": []
          },
          "execution_count": 14
        }
      ]
    },
    {
      "cell_type": "markdown",
      "metadata": {
        "id": "TgGJIw7FniVC"
      },
      "source": [
        "# train model"
      ]
    },
    {
      "cell_type": "code",
      "metadata": {
        "colab": {
          "base_uri": "https://localhost:8080/"
        },
        "id": "CHb0wa8en2jm",
        "outputId": "7e880b80-5408-4bba-b43d-7a68487ea308"
      },
      "source": [
        "%%time\n",
        "predictor = ImagePredictor(verbosity=1)\n",
        "predictor.fit(train_df,tuning_data=val_df, hyperparameters={'epochs': 5}) "
      ],
      "execution_count": 15,
      "outputs": [
        {
          "output_type": "stream",
          "text": [
            "The number of requested GPUs is greater than the number of available GPUs.Reduce the number to 1\n"
          ],
          "name": "stderr"
        },
        {
          "output_type": "stream",
          "text": [
            "Downloading /root/.mxnet/models/resnet50_v1b-0ecdba34.zip from https://apache-mxnet.s3-accelerate.dualstack.amazonaws.com/gluon/models/resnet50_v1b-0ecdba34.zip...\n"
          ],
          "name": "stdout"
        },
        {
          "output_type": "stream",
          "text": [
            "100%|██████████| 55344/55344 [00:01<00:00, 54404.70KB/s]\n"
          ],
          "name": "stderr"
        },
        {
          "output_type": "stream",
          "text": [
            "CPU times: user 2h 18min 9s, sys: 3min 40s, total: 2h 21min 49s\n",
            "Wall time: 2h 4min 47s\n"
          ],
          "name": "stdout"
        }
      ]
    },
    {
      "cell_type": "code",
      "metadata": {
        "id": "xmyTmYo_n-qr",
        "outputId": "8f947f89-18f3-4ece-8ca2-eb1d950cc4bc",
        "colab": {
          "base_uri": "https://localhost:8080/"
        }
      },
      "source": [
        "fit_result = predictor.fit_summary()\n",
        "print('Top-1 train acc: %.3f, val acc: %.3f' %(fit_result['train_acc'], fit_result['valid_acc']))\n",
        "fit_result\n"
      ],
      "execution_count": 16,
      "outputs": [
        {
          "output_type": "stream",
          "text": [
            "Top-1 train acc: 0.827, val acc: 0.813\n"
          ],
          "name": "stdout"
        },
        {
          "output_type": "execute_result",
          "data": {
            "text/plain": [
              "{'best_config': {'batch_size': 16,\n",
              "  'dist_ip_addrs': None,\n",
              "  'early_stop_baseline': -inf,\n",
              "  'early_stop_max_value': inf,\n",
              "  'early_stop_patience': 10,\n",
              "  'epochs': 5,\n",
              "  'estimator': gluoncv.auto.estimators.image_classification.image_classification.ImageClassificationEstimator,\n",
              "  'final_fit': False,\n",
              "  'gpus': [0],\n",
              "  'log_dir': '/content/66e0faff',\n",
              "  'lr': 0.01,\n",
              "  'model': 'resnet50_v1b',\n",
              "  'ngpus_per_trial': 8,\n",
              "  'nthreads_per_trial': 128,\n",
              "  'num_trials': 1,\n",
              "  'num_workers': 2,\n",
              "  'scheduler': 'local',\n",
              "  'search_strategy': 'random',\n",
              "  'searcher': 'random',\n",
              "  'seed': 509,\n",
              "  'time_limits': 7200,\n",
              "  'wall_clock_tick': 1621701840.1969714},\n",
              " 'fit_history': {'best_config': {'batch_size': 16,\n",
              "   'dist_ip_addrs': None,\n",
              "   'early_stop_baseline': -inf,\n",
              "   'early_stop_max_value': inf,\n",
              "   'early_stop_patience': 10,\n",
              "   'epochs': 5,\n",
              "   'estimator': gluoncv.auto.estimators.image_classification.image_classification.ImageClassificationEstimator,\n",
              "   'final_fit': False,\n",
              "   'gpus': [0],\n",
              "   'log_dir': '/content/66e0faff',\n",
              "   'lr': 0.01,\n",
              "   'model': 'resnet50_v1b',\n",
              "   'ngpus_per_trial': 8,\n",
              "   'nthreads_per_trial': 128,\n",
              "   'num_trials': 1,\n",
              "   'num_workers': 2,\n",
              "   'scheduler': 'local',\n",
              "   'search_strategy': 'random',\n",
              "   'searcher': 'random',\n",
              "   'seed': 509,\n",
              "   'time_limits': 7200,\n",
              "   'wall_clock_tick': 1621701840.1969714},\n",
              "  'total_time': 7200.118671178818,\n",
              "  'train_acc': 0.827,\n",
              "  'valid_acc': 0.813455473794864},\n",
              " 'total_time': 7200.118671178818,\n",
              " 'train_acc': 0.827,\n",
              " 'valid_acc': 0.813455473794864}"
            ]
          },
          "metadata": {
            "tags": []
          },
          "execution_count": 16
        }
      ]
    },
    {
      "cell_type": "code",
      "metadata": {
        "id": "WoJLpt1hC-_1"
      },
      "source": [
        "predictor.save('/content/drive/MyDrive/covid/predictor1.ag')\n"
      ],
      "execution_count": 20,
      "outputs": []
    },
    {
      "cell_type": "code",
      "metadata": {
        "colab": {
          "base_uri": "https://localhost:8080/"
        },
        "id": "a3qRwp1fn7ZL",
        "outputId": "5c5a6545-904f-4331-dd22-4ae9024dd1ee"
      },
      "source": [
        "val_df=ImagePredictor.Dataset.from_csv('/content/drive/MyDrive/covid/val_df.csv')\n",
        "res = predictor.evaluate(val_df)\n",
        "print('Top-1 test acc: %.3f' % res[0])\n",
        "val_pred=predictor.predict(test_df)\n",
        "print(classification_report(test_df.label,val_pred))"
      ],
      "execution_count": 17,
      "outputs": [
        {
          "output_type": "stream",
          "text": [
            "Top-1 test acc: 0.813\n",
            "              precision    recall  f1-score   support\n",
            "\n",
            "           0       0.78      0.84      0.81     40516\n",
            "           1       0.79      0.73      0.76     35016\n",
            "\n",
            "    accuracy                           0.79     75532\n",
            "   macro avg       0.79      0.78      0.79     75532\n",
            "weighted avg       0.79      0.79      0.79     75532\n",
            "\n"
          ],
          "name": "stdout"
        }
      ]
    },
    {
      "cell_type": "code",
      "metadata": {
        "colab": {
          "base_uri": "https://localhost:8080/"
        },
        "id": "TzdmkKu_oL7W",
        "outputId": "13a6a57e-608e-4de3-a822-f630488d0aad"
      },
      "source": [
        "test_df=ImagePredictor.Dataset.from_csv('/content/drive/MyDrive/covid/test_df.csv')\n",
        "res = predictor.evaluate(test_df)\n",
        "print('Top-1 test acc: %.3f' % res[0])"
      ],
      "execution_count": 18,
      "outputs": [
        {
          "output_type": "stream",
          "text": [
            "Top-1 test acc: 0.789\n"
          ],
          "name": "stdout"
        }
      ]
    },
    {
      "cell_type": "code",
      "metadata": {
        "colab": {
          "base_uri": "https://localhost:8080/"
        },
        "id": "zHEJUrRWoSxC",
        "outputId": "b77f73ad-4871-4221-f944-a571fedec518"
      },
      "source": [
        "test_pred=predictor.predict(test_df)\n",
        "print(classification_report(test_df.label,test_pred))"
      ],
      "execution_count": 19,
      "outputs": [
        {
          "output_type": "stream",
          "text": [
            "              precision    recall  f1-score   support\n",
            "\n",
            "           0       0.78      0.84      0.81     40516\n",
            "           1       0.79      0.73      0.76     35016\n",
            "\n",
            "    accuracy                           0.79     75532\n",
            "   macro avg       0.79      0.78      0.79     75532\n",
            "weighted avg       0.79      0.79      0.79     75532\n",
            "\n"
          ],
          "name": "stdout"
        }
      ]
    },
    {
      "cell_type": "markdown",
      "metadata": {
        "id": "OR41OeQ4opdd"
      },
      "source": [
        "# final evaluation on validation data"
      ]
    },
    {
      "cell_type": "code",
      "metadata": {
        "id": "Fzl5iFpbR_zb"
      },
      "source": [
        "predictor=predictor.load('/content/drive/MyDrive/covid/predictor.ag')\n"
      ],
      "execution_count": 21,
      "outputs": []
    },
    {
      "cell_type": "code",
      "metadata": {
        "colab": {
          "base_uri": "https://localhost:8080/"
        },
        "id": "PEf1hTmmTVup",
        "outputId": "3f6e13c5-bbd4-43d0-fb98-9cba894eaa2b"
      },
      "source": [
        "path,label=prepare('/content/val',split=False,flat=False)\n",
        "len(path),len(label)"
      ],
      "execution_count": 23,
      "outputs": [
        {
          "output_type": "execute_result",
          "data": {
            "text/plain": [
              "(374, 374)"
            ]
          },
          "metadata": {
            "tags": []
          },
          "execution_count": 23
        }
      ]
    },
    {
      "cell_type": "code",
      "metadata": {
        "id": "qhSbmtJxcPzr"
      },
      "source": [
        "#now loop each folder of each directoy and create a dataframe for each folder\n",
        "def evaluate(path,label):\n",
        "  test_pred,test_true=[],[]\n",
        "  for i, j in zip(path,label):\n",
        "    test_df=pd.DataFrame(zip(i,j),columns=['image','label'])\n",
        "    test_df.label=test_df.label.map({'non-covid':0,'covid':1})\n",
        "    test_df.to_csv('test_df.csv',index=False)\n",
        "    test_df=ImagePredictor.Dataset.from_csv('/content/test_df.csv')\n",
        "    pred=list(predictor.predict(test_df))\n",
        "    #find maximum occurent of element\n",
        "    test_pred.append(max(pred,key=pred.count))\n",
        "    test_true.append(test_df.label.mean())\n",
        "  return test_pred,test_true\n",
        "\n"
      ],
      "execution_count": 24,
      "outputs": []
    },
    {
      "cell_type": "code",
      "metadata": {
        "id": "wO1_WF7hSS3z"
      },
      "source": [
        "test_pred,test_true=evaluate(path,label)"
      ],
      "execution_count": 25,
      "outputs": []
    },
    {
      "cell_type": "code",
      "metadata": {
        "colab": {
          "base_uri": "https://localhost:8080/"
        },
        "id": "yFjKzcKLgNhb",
        "outputId": "912262d9-a457-4751-e851-6aec39c21b6a"
      },
      "source": [
        "print(classification_report(test_true,test_pred,target_names=['non-covid','covid']))"
      ],
      "execution_count": 26,
      "outputs": [
        {
          "output_type": "stream",
          "text": [
            "              precision    recall  f1-score   support\n",
            "\n",
            "   non-covid       0.83      0.91      0.87       209\n",
            "       covid       0.87      0.76      0.81       165\n",
            "\n",
            "    accuracy                           0.84       374\n",
            "   macro avg       0.85      0.84      0.84       374\n",
            "weighted avg       0.85      0.84      0.84       374\n",
            "\n"
          ],
          "name": "stdout"
        }
      ]
    },
    {
      "cell_type": "code",
      "metadata": {
        "id": "cffKCITUgULh"
      },
      "source": [
        ""
      ],
      "execution_count": null,
      "outputs": []
    }
  ]
}