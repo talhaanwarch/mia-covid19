{
 "cells": [
  {
   "cell_type": "code",
   "execution_count": 2,
   "metadata": {
    "execution": {
     "iopub.execute_input": "2021-06-23T22:29:12.199731Z",
     "iopub.status.busy": "2021-06-23T22:29:12.199382Z",
     "iopub.status.idle": "2021-06-23T22:29:16.456456Z",
     "shell.execute_reply": "2021-06-23T22:29:16.455573Z",
     "shell.execute_reply.started": "2021-06-23T22:29:12.199690Z"
    }
   },
   "outputs": [
    {
     "name": "stderr",
     "output_type": "stream",
     "text": [
      "/opt/conda/lib/python3.7/site-packages/gluoncv/__init__.py:40: UserWarning: Both `mxnet==1.8.0` and `torch==1.9.0+cu102` are installed. You might encounter increased GPU memory footprint if both framework are used at the same time.\n",
      "  warnings.warn(f'Both `mxnet=={mx.__version__}` and `torch=={torch.__version__}` are installed. '\n"
     ]
    }
   ],
   "source": [
    "import pandas as pd\n",
    "import numpy as np\n",
    "from glob import glob\n",
    "import cv2\n",
    "import pandas as pd\n",
    "import autogluon.core as ag\n",
    "from autogluon.vision import ImagePredictor\n",
    "from sklearn.metrics import classification_report,f1_score\n",
    "from sklearn.model_selection import train_test_split"
   ]
  },
  {
   "cell_type": "code",
   "execution_count": 3,
   "metadata": {
    "execution": {
     "iopub.execute_input": "2021-06-23T22:29:16.458786Z",
     "iopub.status.busy": "2021-06-23T22:29:16.458259Z",
     "iopub.status.idle": "2021-06-23T22:29:16.470224Z",
     "shell.execute_reply": "2021-06-23T22:29:16.468742Z",
     "shell.execute_reply.started": "2021-06-23T22:29:16.458745Z"
    }
   },
   "outputs": [],
   "source": [
    "def flatten(path,label=None):\n",
    "  '''\n",
    "  path: images path in a list\n",
    "  label: corresponding label in list\n",
    "  '''\n",
    "  path = [item for sublist in path for item in sublist]\n",
    "  label = [item for sublist in label for item in sublist]\n",
    "  return path, label\n",
    "  \n",
    "\n",
    "def prepare(path,split=False,flat=True):\n",
    "  '''\n",
    "  Pass the path of main folder in which binary class folders are present\n",
    "  Split True will split the data and return two sets\n",
    "  '''\n",
    "  main_path=glob(path+'/*/')\n",
    "  pos_path=[glob(folder+'*.jpg') for folder in glob(main_path[0]+'*/')]\n",
    "  neg_path=[glob(folder+'*.jpg') for folder in glob(main_path[1]+'*/')]\n",
    "  #get folder name as label\n",
    "  pos_label=[[main_path[0].split('/')[-2]]*len(i)  for i in pos_path]\n",
    "  neg_label=[[main_path[1].split('/')[-2]]*len(i)  for i in neg_path]\n",
    "  path=pos_path+neg_path\n",
    "  label=pos_label+neg_label\n",
    "  if flat:\n",
    "    if split:\n",
    "      train_path,val_path,train_label,val_label=train_test_split(path,label,test_size=0.2)\n",
    "      train_path,train_label=flatten(train_path,train_label)\n",
    "      val_path,val_label=flatten(val_path,val_label)\n",
    "      return train_path,val_path,train_label,val_label\n",
    "    else:\n",
    "      path,label=flatten(path,label)\n",
    "      return path,label\n",
    "  else:\n",
    "    return path,label"
   ]
  },
  {
   "cell_type": "code",
   "execution_count": 4,
   "metadata": {
    "execution": {
     "iopub.execute_input": "2021-06-23T22:29:16.473503Z",
     "iopub.status.busy": "2021-06-23T22:29:16.473241Z",
     "iopub.status.idle": "2021-06-23T22:31:37.632252Z",
     "shell.execute_reply": "2021-06-23T22:31:37.631297Z",
     "shell.execute_reply.started": "2021-06-23T22:29:16.473478Z"
    }
   },
   "outputs": [
    {
     "name": "stdout",
     "output_type": "stream",
     "text": [
      "Train Images and labels 335672 335672\n",
      "Val Images and labels 75532 75532\n"
     ]
    }
   ],
   "source": [
    "train_path,train_label=prepare('input/covidctscan3d/train',split=False)\n",
    "val_path,val_label=prepare('input/covidctscan3d/val',split=False)\n",
    "print('Train Images and labels',len(train_path),len(train_label))\n",
    "print('Val Images and labels',len(val_path),len(val_label))\n"
   ]
  },
  {
   "cell_type": "code",
   "execution_count": 5,
   "metadata": {
    "execution": {
     "iopub.execute_input": "2021-06-23T22:31:37.634126Z",
     "iopub.status.busy": "2021-06-23T22:31:37.633577Z",
     "iopub.status.idle": "2021-06-23T22:31:37.942974Z",
     "shell.execute_reply": "2021-06-23T22:31:37.942179Z",
     "shell.execute_reply.started": "2021-06-23T22:31:37.634089Z"
    }
   },
   "outputs": [],
   "source": [
    "train_df=pd.DataFrame(zip(train_path,train_label),columns=['image','label'])\n",
    "train_df = train_df.sample(frac=1).reset_index(drop=True)\n",
    "train_df.label=train_df.label.map({'non-covid':0,'covid':1})\n",
    "val_df=pd.DataFrame(zip(val_path,val_label),columns=['image','label'])\n",
    "val_df = val_df.sample(frac=1).reset_index(drop=True)\n",
    "val_df.label=val_df.label.map({'non-covid':0,'covid':1})"
   ]
  },
  {
   "cell_type": "code",
   "execution_count": 7,
   "metadata": {
    "execution": {
     "iopub.execute_input": "2021-06-23T22:31:37.952749Z",
     "iopub.status.busy": "2021-06-23T22:31:37.952215Z",
     "iopub.status.idle": "2021-06-23T22:32:06.153607Z",
     "shell.execute_reply": "2021-06-23T22:32:06.152567Z",
     "shell.execute_reply.started": "2021-06-23T22:31:37.952707Z"
    }
   },
   "outputs": [
    {
     "name": "stderr",
     "output_type": "stream",
     "text": [
      "The number of requested GPUs is greater than the number of available GPUs.Reduce the number to 1\n"
     ]
    },
    {
     "name": "stdout",
     "output_type": "stream",
     "text": [
      "Downloading /root/.mxnet/models/squeezenet1.1-33ba0f93.zip from https://apache-mxnet.s3-accelerate.dualstack.amazonaws.com/gluon/models/squeezenet1.1-33ba0f93.zip...\n"
     ]
    },
    {
     "name": "stderr",
     "output_type": "stream",
     "text": [
      "100%|██████████| 4495/4495 [00:01<00:00, 2456.00KB/s]\n"
     ]
    },
    {
     "name": "stdout",
     "output_type": "stream",
     "text": [
      "CPU times: user 23.1 s, sys: 2.53 s, total: 25.6 s\n",
      "Wall time: 28.2 s\n"
     ]
    },
    {
     "data": {
      "text/plain": [
       "<autogluon.vision.predictor.predictor.ImagePredictor at 0x7fdb3860be10>"
      ]
     },
     "execution_count": 7,
     "metadata": {},
     "output_type": "execute_result"
    }
   ],
   "source": [
    "%%time\n",
    "model='squeezenet1.1'\n",
    "predictor = ImagePredictor(verbosity=1)\n",
    "predictor.fit(train_df,tuning_data=val_df,hyperparameters={'model':model},time_limit=4*60*60)"
   ]
  },
  {
   "cell_type": "code",
   "execution_count": null,
   "metadata": {
    "execution": {
     "iopub.execute_input": "2021-06-21T19:29:55.62433Z",
     "iopub.status.busy": "2021-06-21T19:29:55.623947Z",
     "iopub.status.idle": "2021-06-21T19:29:55.633939Z",
     "shell.execute_reply": "2021-06-21T19:29:55.632889Z",
     "shell.execute_reply.started": "2021-06-21T19:29:55.624287Z"
    }
   },
   "outputs": [],
   "source": [
    "%%time\n",
    "fit_result = predictor.fit_summary()\n",
    "print('Top-1 train acc: %.3f, val acc: %.3f' %(fit_result['train_acc'], fit_result['valid_acc']))\n",
    "fit_result"
   ]
  },
  {
   "cell_type": "code",
   "execution_count": null,
   "metadata": {
    "execution": {
     "iopub.execute_input": "2021-06-21T19:29:55.638399Z",
     "iopub.status.busy": "2021-06-21T19:29:55.637991Z",
     "iopub.status.idle": "2021-06-21T19:29:58.799686Z",
     "shell.execute_reply": "2021-06-21T19:29:58.79877Z",
     "shell.execute_reply.started": "2021-06-21T19:29:55.638361Z"
    }
   },
   "outputs": [],
   "source": [
    "res = predictor.evaluate(val_df)\n",
    "print('Top-1 test acc: %.3f' % res[0])\n",
    "val_pred=predictor.predict(val_df)\n",
    "print(classification_report(val_df.label,val_pred))"
   ]
  },
  {
   "cell_type": "code",
   "execution_count": null,
   "metadata": {
    "execution": {
     "iopub.execute_input": "2021-06-21T19:29:58.801435Z",
     "iopub.status.busy": "2021-06-21T19:29:58.800928Z",
     "iopub.status.idle": "2021-06-21T19:29:59.412419Z",
     "shell.execute_reply": "2021-06-21T19:29:59.41163Z",
     "shell.execute_reply.started": "2021-06-21T19:29:58.801396Z"
    }
   },
   "outputs": [],
   "source": [
    "val_path,val_label=prepare('input/covidctscan3d/val',split=False,flat=False)\n",
    "len(val_path),len(val_label)"
   ]
  },
  {
   "cell_type": "code",
   "execution_count": null,
   "metadata": {
    "execution": {
     "iopub.execute_input": "2021-06-21T19:31:30.090063Z",
     "iopub.status.busy": "2021-06-21T19:31:30.089734Z",
     "iopub.status.idle": "2021-06-21T19:31:30.096378Z",
     "shell.execute_reply": "2021-06-21T19:31:30.095319Z",
     "shell.execute_reply.started": "2021-06-21T19:31:30.090033Z"
    }
   },
   "outputs": [],
   "source": [
    "def evaluate(path,label):\n",
    "  test_pred,test_true=[],[]\n",
    "  for i, j in zip(path,label):\n",
    "    test_df=pd.DataFrame(zip(i,j),columns=['image','label'])\n",
    "    test_df.label=test_df.label.map({'non-covid':0,'covid':1})\n",
    "    pred=list(predictor.predict(test_df))\n",
    "    #find maximum occurent of element\n",
    "    test_pred.append(max(pred,key=pred.count))\n",
    "    test_true.append(test_df.label.mean())\n",
    "  return test_pred,test_true"
   ]
  },
  {
   "cell_type": "code",
   "execution_count": null,
   "metadata": {
    "execution": {
     "iopub.execute_input": "2021-06-21T19:31:45.840039Z",
     "iopub.status.busy": "2021-06-21T19:31:45.839711Z",
     "iopub.status.idle": "2021-06-21T19:31:51.103371Z",
     "shell.execute_reply": "2021-06-21T19:31:51.102477Z",
     "shell.execute_reply.started": "2021-06-21T19:31:45.840009Z"
    }
   },
   "outputs": [],
   "source": [
    "val_pred,val_true=evaluate(val_path,val_label)"
   ]
  },
  {
   "cell_type": "code",
   "execution_count": null,
   "metadata": {
    "execution": {
     "iopub.execute_input": "2021-06-21T19:32:02.091669Z",
     "iopub.status.busy": "2021-06-21T19:32:02.091323Z",
     "iopub.status.idle": "2021-06-21T19:32:02.105734Z",
     "shell.execute_reply": "2021-06-21T19:32:02.104716Z",
     "shell.execute_reply.started": "2021-06-21T19:32:02.091633Z"
    }
   },
   "outputs": [],
   "source": [
    "print(classification_report(val_true,val_pred,target_names=['non-covid','covid']))"
   ]
  },
  {
   "cell_type": "code",
   "execution_count": null,
   "metadata": {},
   "outputs": [],
   "source": [
    "f1=f1_score(val_true,val_pred,average='macro')"
   ]
  },
  {
   "cell_type": "code",
   "execution_count": null,
   "metadata": {
    "execution": {
     "iopub.execute_input": "2021-06-21T19:32:06.986104Z",
     "iopub.status.busy": "2021-06-21T19:32:06.985788Z",
     "iopub.status.idle": "2021-06-21T19:32:09.4145Z",
     "shell.execute_reply": "2021-06-21T19:32:09.413558Z",
     "shell.execute_reply.started": "2021-06-21T19:32:06.986073Z"
    }
   },
   "outputs": [],
   "source": [
    "predictor.save('predictor_{}_{}.ag'.format(model,f1))"
   ]
  },
  {
   "cell_type": "code",
   "execution_count": null,
   "metadata": {},
   "outputs": [],
   "source": []
  }
 ],
 "metadata": {
  "kernelspec": {
   "display_name": "Python 3",
   "language": "python",
   "name": "python3"
  },
  "language_info": {
   "codemirror_mode": {
    "name": "ipython",
    "version": 3
   },
   "file_extension": ".py",
   "mimetype": "text/x-python",
   "name": "python",
   "nbconvert_exporter": "python",
   "pygments_lexer": "ipython3",
   "version": "3.8.5"
  }
 },
 "nbformat": 4,
 "nbformat_minor": 4
}
